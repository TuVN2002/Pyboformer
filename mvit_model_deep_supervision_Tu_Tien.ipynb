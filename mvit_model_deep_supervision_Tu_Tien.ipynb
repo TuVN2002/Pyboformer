{
  "metadata": {
    "kernelspec": {
      "display_name": "Python 3",
      "name": "python3"
    },
    "language_info": {
      "codemirror_mode": {
        "name": "ipython",
        "version": 3
      },
      "file_extension": ".py",
      "mimetype": "text/x-python",
      "name": "python",
      "nbconvert_exporter": "python",
      "pygments_lexer": "ipython3",
      "version": "3.7.12"
    },
    "papermill": {
      "default_parameters": {},
      "duration": 10946.944265,
      "end_time": "2023-04-15T23:06:22.596888",
      "environment_variables": {},
      "exception": null,
      "input_path": "__notebook__.ipynb",
      "output_path": "__notebook__.ipynb",
      "parameters": {},
      "start_time": "2023-04-15T20:03:55.652623",
      "version": "2.4.0"
    },
    "colab": {
      "provenance": [],
      "toc_visible": true,
      "gpuType": "T4"
    },
    "accelerator": "GPU"
  },
  "nbformat_minor": 5,
  "nbformat": 4,
  "cells": [
    {
      "cell_type": "code",
      "source": [
        "!nvidia-smi"
      ],
      "metadata": {
        "id": "53sat6vysGFH",
        "outputId": "5ce3b3d0-a14d-4abc-e6c3-6f23160334ef",
        "papermill": {
          "duration": 1.012802,
          "end_time": "2023-04-15T20:04:05.883414",
          "exception": false,
          "start_time": "2023-04-15T20:04:04.870612",
          "status": "completed"
        },
        "tags": [],
        "execution": {
          "iopub.status.busy": "2023-04-17T10:50:39.737056Z",
          "iopub.execute_input": "2023-04-17T10:50:39.738160Z",
          "iopub.status.idle": "2023-04-17T10:50:40.757875Z",
          "shell.execute_reply.started": "2023-04-17T10:50:39.738094Z",
          "shell.execute_reply": "2023-04-17T10:50:40.756680Z"
        },
        "trusted": true,
        "colab": {
          "base_uri": "https://localhost:8080/"
        }
      },
      "execution_count": 1,
      "outputs": [
        {
          "output_type": "stream",
          "name": "stdout",
          "text": [
            "Wed Jul 12 07:54:46 2023       \n",
            "+-----------------------------------------------------------------------------+\n",
            "| NVIDIA-SMI 525.85.12    Driver Version: 525.85.12    CUDA Version: 12.0     |\n",
            "|-------------------------------+----------------------+----------------------+\n",
            "| GPU  Name        Persistence-M| Bus-Id        Disp.A | Volatile Uncorr. ECC |\n",
            "| Fan  Temp  Perf  Pwr:Usage/Cap|         Memory-Usage | GPU-Util  Compute M. |\n",
            "|                               |                      |               MIG M. |\n",
            "|===============================+======================+======================|\n",
            "|   0  Tesla T4            Off  | 00000000:00:04.0 Off |                    0 |\n",
            "| N/A   56C    P8     9W /  70W |      0MiB / 15360MiB |      0%      Default |\n",
            "|                               |                      |                  N/A |\n",
            "+-------------------------------+----------------------+----------------------+\n",
            "                                                                               \n",
            "+-----------------------------------------------------------------------------+\n",
            "| Processes:                                                                  |\n",
            "|  GPU   GI   CI        PID   Type   Process name                  GPU Memory |\n",
            "|        ID   ID                                                   Usage      |\n",
            "|=============================================================================|\n",
            "|  No running processes found                                                 |\n",
            "+-----------------------------------------------------------------------------+\n"
          ]
        }
      ],
      "id": "53sat6vysGFH"
    },
    {
      "cell_type": "code",
      "source": [
        "from google.colab import drive\n",
        "drive.mount('/content/drive')"
      ],
      "metadata": {
        "colab": {
          "base_uri": "https://localhost:8080/"
        },
        "id": "Fuc96BqNVJx4",
        "outputId": "19efb96a-b908-404d-966c-09a307ab2587"
      },
      "id": "Fuc96BqNVJx4",
      "execution_count": 2,
      "outputs": [
        {
          "output_type": "stream",
          "name": "stdout",
          "text": [
            "Drive already mounted at /content/drive; to attempt to forcibly remount, call drive.mount(\"/content/drive\", force_remount=True).\n"
          ]
        }
      ]
    },
    {
      "cell_type": "code",
      "source": [
        "%cd '/content/drive/MyDrive/BackBone'"
      ],
      "metadata": {
        "colab": {
          "base_uri": "https://localhost:8080/"
        },
        "id": "zLH5Fn9nVLGM",
        "outputId": "66fe18af-66f4-46df-a532-21a4f1c05f71"
      },
      "id": "zLH5Fn9nVLGM",
      "execution_count": 3,
      "outputs": [
        {
          "output_type": "stream",
          "name": "stdout",
          "text": [
            "/content/drive/MyDrive/BackBone\n"
          ]
        }
      ]
    },
    {
      "cell_type": "markdown",
      "source": [
        "#Import library"
      ],
      "metadata": {
        "id": "jCwG-Bov3oEN",
        "papermill": {
          "duration": 0.013647,
          "end_time": "2023-04-15T20:04:05.911316",
          "exception": false,
          "start_time": "2023-04-15T20:04:05.897669",
          "status": "completed"
        },
        "tags": []
      },
      "id": "jCwG-Bov3oEN"
    },
    {
      "cell_type": "code",
      "source": [
        "import os\n",
        "import random as rn\n",
        "import numpy as np\n",
        "from PIL import Image\n",
        "import numpy as np\n",
        "import pandas as pd\n",
        "import matplotlib.pyplot as plt\n",
        "from sklearn.cluster import KMeans\n",
        "\n",
        "import torch\n",
        "import torch.nn as nn\n",
        "import torch.nn.functional as F\n",
        "import torch.optim as optim\n",
        "from torch.utils.data import Dataset, DataLoader, random_split\n",
        "import torchvision\n",
        "from torchvision import transforms\n",
        "\n",
        "import cv2\n",
        "from glob import glob\n",
        "\n",
        "import matplotlib.pyplot as plt\n",
        "from torch.nn import Conv2d, Module, Linear, BatchNorm2d, ReLU\n",
        "import math\n",
        "import matplotlib.pyplot as plt\n",
        "from torch.autograd import Variable\n",
        "import time\n",
        "import albumentations as A\n",
        "from albumentations.pytorch import ToTensorV2\n",
        "from torch.utils.data import random_split\n",
        "from torch.optim import lr_scheduler\n",
        "import seaborn as sns\n",
        "import pandas as pd\n",
        "import argparse\n",
        "import pickle\n",
        "from sklearn.utils import shuffle\n",
        "import datetime\n",
        "from operator import add\n"
      ],
      "metadata": {
        "id": "PxBAPPCE7ZWC",
        "papermill": {
          "duration": 5.119631,
          "end_time": "2023-04-15T20:04:11.044654",
          "exception": false,
          "start_time": "2023-04-15T20:04:05.925023",
          "status": "completed"
        },
        "tags": [],
        "execution": {
          "iopub.status.busy": "2023-04-17T10:50:40.759756Z",
          "iopub.execute_input": "2023-04-17T10:50:40.760109Z",
          "iopub.status.idle": "2023-04-17T10:50:42.546459Z",
          "shell.execute_reply.started": "2023-04-17T10:50:40.760073Z",
          "shell.execute_reply": "2023-04-17T10:50:42.545439Z"
        },
        "trusted": true
      },
      "execution_count": 4,
      "outputs": [],
      "id": "PxBAPPCE7ZWC"
    },
    {
      "cell_type": "code",
      "source": [
        "from collections import defaultdict\n",
        "import copy\n",
        "import random\n",
        "import os\n",
        "import shutil\n",
        "from urllib.request import urlretrieve\n",
        "\n",
        "import albumentations as A\n",
        "import albumentations.augmentations.functional as F\n",
        "import cv2\n",
        "import matplotlib.pyplot as plt\n",
        "import numpy as np\n",
        "from tqdm import tqdm\n",
        "import torch\n",
        "import torch.backends.cudnn as cudnn\n",
        "import torch.nn as nn\n",
        "import torch.optim\n",
        "from torch.utils.data import Dataset, DataLoader\n",
        "!pip install lion-pytorch\n",
        "from lion_pytorch import Lion"
      ],
      "metadata": {
        "id": "RefBAB2K7ZWD",
        "outputId": "9a5c43d7-3c7d-4992-8653-33b1ef6ef3f8",
        "papermill": {
          "duration": 10.330777,
          "end_time": "2023-04-15T20:04:21.389483",
          "exception": false,
          "start_time": "2023-04-15T20:04:11.058706",
          "status": "completed"
        },
        "tags": [],
        "execution": {
          "iopub.status.busy": "2023-04-17T10:50:42.548116Z",
          "iopub.execute_input": "2023-04-17T10:50:42.548726Z",
          "iopub.status.idle": "2023-04-17T10:50:52.509436Z",
          "shell.execute_reply.started": "2023-04-17T10:50:42.548687Z",
          "shell.execute_reply": "2023-04-17T10:50:52.508221Z"
        },
        "trusted": true,
        "colab": {
          "base_uri": "https://localhost:8080/"
        }
      },
      "execution_count": 5,
      "outputs": [
        {
          "output_type": "stream",
          "name": "stdout",
          "text": [
            "Requirement already satisfied: lion-pytorch in /usr/local/lib/python3.10/dist-packages (0.1.2)\n",
            "Requirement already satisfied: torch>=1.6 in /usr/local/lib/python3.10/dist-packages (from lion-pytorch) (2.0.1+cu118)\n",
            "Requirement already satisfied: filelock in /usr/local/lib/python3.10/dist-packages (from torch>=1.6->lion-pytorch) (3.12.2)\n",
            "Requirement already satisfied: typing-extensions in /usr/local/lib/python3.10/dist-packages (from torch>=1.6->lion-pytorch) (4.7.1)\n",
            "Requirement already satisfied: sympy in /usr/local/lib/python3.10/dist-packages (from torch>=1.6->lion-pytorch) (1.11.1)\n",
            "Requirement already satisfied: networkx in /usr/local/lib/python3.10/dist-packages (from torch>=1.6->lion-pytorch) (3.1)\n",
            "Requirement already satisfied: jinja2 in /usr/local/lib/python3.10/dist-packages (from torch>=1.6->lion-pytorch) (3.1.2)\n",
            "Requirement already satisfied: triton==2.0.0 in /usr/local/lib/python3.10/dist-packages (from torch>=1.6->lion-pytorch) (2.0.0)\n",
            "Requirement already satisfied: cmake in /usr/local/lib/python3.10/dist-packages (from triton==2.0.0->torch>=1.6->lion-pytorch) (3.25.2)\n",
            "Requirement already satisfied: lit in /usr/local/lib/python3.10/dist-packages (from triton==2.0.0->torch>=1.6->lion-pytorch) (16.0.6)\n",
            "Requirement already satisfied: MarkupSafe>=2.0 in /usr/local/lib/python3.10/dist-packages (from jinja2->torch>=1.6->lion-pytorch) (2.1.3)\n",
            "Requirement already satisfied: mpmath>=0.19 in /usr/local/lib/python3.10/dist-packages (from sympy->torch>=1.6->lion-pytorch) (1.3.0)\n"
          ]
        }
      ],
      "id": "RefBAB2K7ZWD"
    },
    {
      "cell_type": "markdown",
      "source": [
        "#Datasets"
      ],
      "metadata": {
        "id": "zGL2_zY_6ppy",
        "papermill": {
          "duration": 0.014109,
          "end_time": "2023-04-15T20:04:21.417892",
          "exception": false,
          "start_time": "2023-04-15T20:04:21.403783",
          "status": "completed"
        },
        "tags": []
      },
      "id": "zGL2_zY_6ppy"
    },
    {
      "cell_type": "markdown",
      "source": [
        "##Transformation"
      ],
      "metadata": {
        "id": "p7dB1PB_6y0W",
        "papermill": {
          "duration": 0.013753,
          "end_time": "2023-04-15T20:04:21.445819",
          "exception": false,
          "start_time": "2023-04-15T20:04:21.432066",
          "status": "completed"
        },
        "tags": []
      },
      "id": "p7dB1PB_6y0W"
    },
    {
      "cell_type": "code",
      "source": [
        "train_transform = A.Compose(\n",
        "    [\n",
        "        A.Resize(224, 224),\n",
        "        A.ShiftScaleRotate(shift_limit=0.2, scale_limit=0.2, rotate_limit=30, p=0.5),\n",
        "        A.RGBShift(r_shift_limit=25, g_shift_limit=25, b_shift_limit=25, p=0.5),\n",
        "        A.RandomBrightnessContrast(brightness_limit=0.3, contrast_limit=0.3, p=0.5),\n",
        "        A.Normalize(mean=(0.485, 0.456, 0.406), std=(0.229, 0.224, 0.225))\n",
        "    ]\n",
        ")\n",
        "val_transform = A.Compose(\n",
        "    [\n",
        "        A.Resize(224, 224),\n",
        "        A.Normalize(mean=(0.485, 0.456, 0.406), std=(0.229, 0.224, 0.225))\n",
        "    ]\n",
        ")\n"
      ],
      "metadata": {
        "id": "VlSu-zuF6pp0",
        "papermill": {
          "duration": 0.02719,
          "end_time": "2023-04-15T20:04:21.487251",
          "exception": false,
          "start_time": "2023-04-15T20:04:21.460061",
          "status": "completed"
        },
        "tags": [],
        "execution": {
          "iopub.status.busy": "2023-04-17T10:50:52.513646Z",
          "iopub.execute_input": "2023-04-17T10:50:52.514011Z",
          "iopub.status.idle": "2023-04-17T10:50:52.523967Z",
          "shell.execute_reply.started": "2023-04-17T10:50:52.513978Z",
          "shell.execute_reply": "2023-04-17T10:50:52.522921Z"
        },
        "trusted": true
      },
      "execution_count": 6,
      "outputs": [],
      "id": "VlSu-zuF6pp0"
    },
    {
      "cell_type": "code",
      "source": [
        "tf = A.Resize(224, 224)"
      ],
      "metadata": {
        "id": "gScqe-7qwN_K",
        "papermill": {
          "duration": 0.022314,
          "end_time": "2023-04-15T20:04:21.523640",
          "exception": false,
          "start_time": "2023-04-15T20:04:21.501326",
          "status": "completed"
        },
        "tags": [],
        "execution": {
          "iopub.status.busy": "2023-04-17T10:50:52.525587Z",
          "iopub.execute_input": "2023-04-17T10:50:52.526420Z",
          "iopub.status.idle": "2023-04-17T10:50:52.532815Z",
          "shell.execute_reply.started": "2023-04-17T10:50:52.526381Z",
          "shell.execute_reply": "2023-04-17T10:50:52.531542Z"
        },
        "trusted": true
      },
      "execution_count": 7,
      "outputs": [],
      "id": "gScqe-7qwN_K"
    },
    {
      "cell_type": "code",
      "source": [
        "from glob import glob\n",
        "class Load_Data(Dataset):\n",
        "    def __init__(self, folder_path , transform = None,  *args,**kwargs):\n",
        "      super().__init__(*args,**kwargs)\n",
        "      self.fpaths = glob(folder_path+'/images/*.png')\n",
        "      self.transform = transform\n",
        "    def __getitem__(self, idx):\n",
        "      path = self.fpaths[idx]\n",
        "      img = cv2.imread(path)\n",
        "      img = cv2.cvtColor(img , cv2.COLOR_BGR2RGB)\n",
        "      mask= cv2.imread(path.replace('images', 'masks'))\n",
        "      mask = cv2.cvtColor(mask , cv2.COLOR_BGR2RGB)\n",
        "      if self.transform is not None:\n",
        "            transformed = self.transform(image=img, mask=mask)\n",
        "            img_t = transformed[\"image\"]\n",
        "            mask = transformed[\"mask\"]\n",
        "      img_t = torch.tensor(img_t)\n",
        "      mask = torch.tensor(mask)\n",
        "      img = cv2.resize(img, (224,224))\n",
        "      return img_t,mask\n",
        "    def __len__(self):\n",
        "      return len(self.fpaths)"
      ],
      "metadata": {
        "id": "vWsWFKS46pp2",
        "papermill": {
          "duration": 0.026799,
          "end_time": "2023-04-15T20:04:21.564441",
          "exception": false,
          "start_time": "2023-04-15T20:04:21.537642",
          "status": "completed"
        },
        "tags": [],
        "execution": {
          "iopub.status.busy": "2023-04-17T10:50:52.534572Z",
          "iopub.execute_input": "2023-04-17T10:50:52.535630Z",
          "iopub.status.idle": "2023-04-17T10:50:52.546639Z",
          "shell.execute_reply.started": "2023-04-17T10:50:52.535582Z",
          "shell.execute_reply": "2023-04-17T10:50:52.545474Z"
        },
        "trusted": true
      },
      "execution_count": 8,
      "outputs": [],
      "id": "vWsWFKS46pp2"
    },
    {
      "cell_type": "code",
      "source": [
        "folder_train  = '/content/drive/MyDrive/Kvaisir-new/TrainDataset'\n",
        "folder_val  = '/content/drive/MyDrive/Kvaisir-new/ValDataset'\n",
        "folder_test_1  = '/content/drive/MyDrive/Kvaisir-new/TestDataset/Kvasir'\n",
        "folder_test_2  = '/content/drive/MyDrive/Kvaisir-new/TestDataset/ETIS-LaribPolypDB'\n",
        "folder_test_3  = '/content/drive/MyDrive/Kvaisir-new/TestDataset/CVC-ColonDB'\n",
        "folder_test_4  = '/content/drive/MyDrive/Kvaisir-new/TestDataset/CVC-ClinicDB'\n",
        "folder_test_5  = '/content/drive/MyDrive/Kvaisir-new/TestDataset/CVC-300'"
      ],
      "metadata": {
        "id": "eXCtFm9F6pp3",
        "papermill": {
          "duration": 0.021972,
          "end_time": "2023-04-15T20:04:21.600571",
          "exception": false,
          "start_time": "2023-04-15T20:04:21.578599",
          "status": "completed"
        },
        "tags": [],
        "execution": {
          "iopub.status.busy": "2023-04-17T10:50:52.548863Z",
          "iopub.execute_input": "2023-04-17T10:50:52.549595Z",
          "iopub.status.idle": "2023-04-17T10:50:52.564479Z",
          "shell.execute_reply.started": "2023-04-17T10:50:52.549556Z",
          "shell.execute_reply": "2023-04-17T10:50:52.563425Z"
        },
        "trusted": true
      },
      "execution_count": 9,
      "outputs": [],
      "id": "eXCtFm9F6pp3"
    },
    {
      "cell_type": "code",
      "source": [
        "train_dataset = Load_Data(folder_train, transform = train_transform)\n",
        "val_dataset = Load_Data(folder_val, transform = val_transform)\n",
        "test_dataset1 = Load_Data(folder_test_1, transform = val_transform)\n",
        "test_dataset2 = Load_Data(folder_test_2, transform = val_transform)\n",
        "test_dataset3 = Load_Data(folder_test_3, transform = val_transform)\n",
        "test_dataset4 = Load_Data(folder_test_4, transform = val_transform)\n",
        "test_dataset5 = Load_Data(folder_test_5, transform = val_transform)\n",
        "#train_2 = Load_Data(folder_path, transform = val_transform)"
      ],
      "metadata": {
        "id": "sXQF0y2s2QpD",
        "papermill": {
          "duration": 0.235885,
          "end_time": "2023-04-15T20:04:22.101863",
          "exception": false,
          "start_time": "2023-04-15T20:04:21.865978",
          "status": "completed"
        },
        "tags": [],
        "execution": {
          "iopub.status.busy": "2023-04-17T10:50:52.592068Z",
          "iopub.execute_input": "2023-04-17T10:50:52.592733Z",
          "iopub.status.idle": "2023-04-17T10:50:52.618982Z",
          "shell.execute_reply.started": "2023-04-17T10:50:52.592696Z",
          "shell.execute_reply": "2023-04-17T10:50:52.618079Z"
        },
        "trusted": true
      },
      "execution_count": 10,
      "outputs": [],
      "id": "sXQF0y2s2QpD"
    },
    {
      "cell_type": "markdown",
      "source": [
        "##DataLoader"
      ],
      "metadata": {
        "id": "stzmRI886pp6",
        "papermill": {
          "duration": 0.014337,
          "end_time": "2023-04-15T20:04:22.131358",
          "exception": false,
          "start_time": "2023-04-15T20:04:22.117021",
          "status": "completed"
        },
        "tags": []
      },
      "id": "stzmRI886pp6"
    },
    {
      "cell_type": "code",
      "source": [
        "# val is on TEST folder\n",
        "\n",
        "batch_size = 4\n",
        "\n",
        "dataloaders = {\n",
        "    'train': DataLoader(train_dataset, batch_size=batch_size, shuffle=True, drop_last=True, num_workers=0),\n",
        "    'val': DataLoader(val_dataset, batch_size=batch_size, shuffle=True,drop_last=True, num_workers=0),\n",
        "    'test_1': DataLoader(test_dataset1, batch_size=batch_size, shuffle=True,drop_last=True, num_workers=0),\n",
        "    'test_2': DataLoader(test_dataset2, batch_size=batch_size, shuffle=True,drop_last=True, num_workers=0),\n",
        "    'test_3': DataLoader(test_dataset3, batch_size=batch_size, shuffle=True,drop_last=True, num_workers=0),\n",
        "    'test_4': DataLoader(test_dataset4, batch_size=batch_size, shuffle=True,drop_last=True, num_workers=0),\n",
        "    'test_5': DataLoader(test_dataset5, batch_size=batch_size, shuffle=True,drop_last=True, num_workers=0)\n",
        "\n",
        "}\n",
        "\n",
        "dataset_sizes = {\n",
        "    x: len(dataloaders[x]) for x in dataloaders.keys()\n",
        "}\n",
        "\n",
        "dataset_sizes"
      ],
      "metadata": {
        "id": "N3nMAtna6pp7",
        "outputId": "018e5ee7-355e-4ce0-87ef-f477a04d1d73",
        "papermill": {
          "duration": 0.032304,
          "end_time": "2023-04-15T20:04:22.177718",
          "exception": false,
          "start_time": "2023-04-15T20:04:22.145414",
          "status": "completed"
        },
        "tags": [],
        "execution": {
          "iopub.status.busy": "2023-04-17T10:50:52.622138Z",
          "iopub.execute_input": "2023-04-17T10:50:52.622403Z",
          "iopub.status.idle": "2023-04-17T10:50:52.636706Z",
          "shell.execute_reply.started": "2023-04-17T10:50:52.622378Z",
          "shell.execute_reply": "2023-04-17T10:50:52.635411Z"
        },
        "trusted": true,
        "colab": {
          "base_uri": "https://localhost:8080/"
        }
      },
      "execution_count": 11,
      "outputs": [
        {
          "output_type": "execute_result",
          "data": {
            "text/plain": [
              "{'train': 362,\n",
              " 'val': 25,\n",
              " 'test_1': 25,\n",
              " 'test_2': 49,\n",
              " 'test_3': 95,\n",
              " 'test_4': 15,\n",
              " 'test_5': 15}"
            ]
          },
          "metadata": {},
          "execution_count": 11
        }
      ],
      "id": "N3nMAtna6pp7"
    },
    {
      "cell_type": "code",
      "source": [
        "inputs, masks = next(iter(dataloaders['train']))\n",
        "print(inputs.shape, masks.shape)\n",
        "for x in [inputs.numpy(), masks.numpy()]:\n",
        "    print(x.min(), x.max(), x.mean(), x.std())"
      ],
      "metadata": {
        "id": "HJWbq4li6pp8",
        "outputId": "b56c81bd-a52e-4b9e-9e11-13c13a77bc3d",
        "papermill": {
          "duration": 0.246948,
          "end_time": "2023-04-15T20:04:22.439101",
          "exception": false,
          "start_time": "2023-04-15T20:04:22.192153",
          "status": "completed"
        },
        "tags": [],
        "execution": {
          "iopub.status.busy": "2023-04-17T10:50:52.638326Z",
          "iopub.execute_input": "2023-04-17T10:50:52.638916Z",
          "iopub.status.idle": "2023-04-17T10:50:52.723766Z",
          "shell.execute_reply.started": "2023-04-17T10:50:52.638861Z",
          "shell.execute_reply": "2023-04-17T10:50:52.722615Z"
        },
        "trusted": true,
        "colab": {
          "base_uri": "https://localhost:8080/"
        }
      },
      "execution_count": 12,
      "outputs": [
        {
          "output_type": "stream",
          "name": "stdout",
          "text": [
            "torch.Size([4, 224, 224, 3]) torch.Size([4, 224, 224, 3])\n",
            "-2.117904 2.6399999 -0.016208151 1.2274866\n",
            "0 255 24.992386798469386 75.80377309567399\n"
          ]
        }
      ],
      "id": "HJWbq4li6pp8"
    },
    {
      "cell_type": "code",
      "source": [
        "def find_fish(mask):\n",
        "  cmap = np.all(np.equal(mask,[255,255,0]), axis = -1)\n",
        "  return cmap"
      ],
      "metadata": {
        "id": "ZrpqUDoucrpB",
        "papermill": {
          "duration": 0.024114,
          "end_time": "2023-04-15T20:04:22.478174",
          "exception": false,
          "start_time": "2023-04-15T20:04:22.454060",
          "status": "completed"
        },
        "tags": [],
        "execution": {
          "iopub.status.busy": "2023-04-17T10:50:52.731125Z",
          "iopub.execute_input": "2023-04-17T10:50:52.731453Z",
          "iopub.status.idle": "2023-04-17T10:50:52.737283Z",
          "shell.execute_reply.started": "2023-04-17T10:50:52.731426Z",
          "shell.execute_reply": "2023-04-17T10:50:52.735885Z"
        },
        "trusted": true
      },
      "execution_count": 13,
      "outputs": [],
      "id": "ZrpqUDoucrpB"
    },
    {
      "cell_type": "code",
      "source": [
        "for i in range(1):\n",
        "  plt.rcParams['figure.figsize'] = [25, 5]\n",
        "  plt.subplot(1,8,i+1)\n",
        "  plt.imshow(masks[i])"
      ],
      "metadata": {
        "id": "O04odvne6pp-",
        "outputId": "ce7a4548-cdab-4093-9219-32152fa4d1d7",
        "papermill": {
          "duration": 0.225895,
          "end_time": "2023-04-15T20:04:22.719562",
          "exception": false,
          "start_time": "2023-04-15T20:04:22.493667",
          "status": "completed"
        },
        "tags": [],
        "execution": {
          "iopub.status.busy": "2023-04-17T10:50:52.738858Z",
          "iopub.execute_input": "2023-04-17T10:50:52.739521Z",
          "iopub.status.idle": "2023-04-17T10:50:52.956569Z",
          "shell.execute_reply.started": "2023-04-17T10:50:52.739483Z",
          "shell.execute_reply": "2023-04-17T10:50:52.955393Z"
        },
        "trusted": true,
        "colab": {
          "base_uri": "https://localhost:8080/",
          "height": 271
        }
      },
      "execution_count": 14,
      "outputs": [
        {
          "output_type": "display_data",
          "data": {
            "text/plain": [
              "<Figure size 2500x500 with 1 Axes>"
            ],
            "image/png": "[encoded data removed]"
          },
          "metadata": {}
        }
      ],
      "id": "O04odvne6pp-"
    },
    {
      "cell_type": "code",
      "source": [
        "for i in range(1):\n",
        "  plt.rcParams['figure.figsize'] = [25, 5]\n",
        "  plt.subplot(1,8,i+1)\n",
        "  plt.imshow(inputs[i])"
      ],
      "metadata": {
        "id": "m30kT4Q86pp_",
        "outputId": "6754e014-98a3-4d21-b926-6ede47bb767a",
        "papermill": {
          "duration": 0.216703,
          "end_time": "2023-04-15T20:04:22.951374",
          "exception": false,
          "start_time": "2023-04-15T20:04:22.734671",
          "status": "completed"
        },
        "tags": [],
        "execution": {
          "iopub.status.busy": "2023-04-17T10:50:52.958077Z",
          "iopub.execute_input": "2023-04-17T10:50:52.958414Z",
          "iopub.status.idle": "2023-04-17T10:50:53.167324Z",
          "shell.execute_reply.started": "2023-04-17T10:50:52.958378Z",
          "shell.execute_reply": "2023-04-17T10:50:53.166571Z"
        },
        "trusted": true,
        "colab": {
          "base_uri": "https://localhost:8080/",
          "height": 308
        }
      },
      "execution_count": 15,
      "outputs": [
        {
          "output_type": "stream",
          "name": "stderr",
          "text": [
            "WARNING:matplotlib.image:Clipping input data to the valid range for imshow with RGB data ([0..1] for floats or [0..255] for integers).\n"
          ]
        },
        {
          "output_type": "display_data",
          "data": {
            "text/plain": [
              "<Figure size 2500x500 with 1 Axes>"
            ],
            "image/png": "[encoded data removed]"
          },
          "metadata": {}
        }
      ],
      "id": "m30kT4Q86pp_"
    },
    {
      "cell_type": "code",
      "source": [
        "def sigmoid(x):\n",
        "  return 1/(1+np.exp(-x))\n",
        "\n",
        "def threshold(x):\n",
        "  y = np.zeros([x.shape[0],x.shape[1],x.shape[2]])\n",
        "  y[x>=0.5] = 1\n",
        "  y[x<0.5] = 0\n",
        "  return y\n",
        "def normalize(x):\n",
        "  min = x.min()\n",
        "  max = x.max()\n",
        "  return (x-min)/(max - min)\n",
        "def restore(mask):\n",
        "  mask = sigmoid(mask)\n",
        "  #mask = normalize(mask)\n",
        "  mask = threshold(mask)\n",
        "  img = np.stack([mask*255, mask*255, mask*255], axis = -1)\n",
        "  return img\n",
        "color_map = [[0,0,0], [255,255,0]]\n",
        "def restore_mask(mask):\n",
        "  return np.stack([mask*255, mask*255, mask*255], axis = -1)"
      ],
      "metadata": {
        "id": "Qat0TC9V6pqA",
        "papermill": {
          "duration": 0.027237,
          "end_time": "2023-04-15T20:04:22.993892",
          "exception": false,
          "start_time": "2023-04-15T20:04:22.966655",
          "status": "completed"
        },
        "tags": [],
        "execution": {
          "iopub.status.busy": "2023-04-17T10:50:53.169149Z",
          "iopub.execute_input": "2023-04-17T10:50:53.169531Z",
          "iopub.status.idle": "2023-04-17T10:50:53.356777Z",
          "shell.execute_reply.started": "2023-04-17T10:50:53.169490Z",
          "shell.execute_reply": "2023-04-17T10:50:53.355419Z"
        },
        "trusted": true
      },
      "execution_count": 16,
      "outputs": [],
      "id": "Qat0TC9V6pqA"
    },
    {
      "cell_type": "markdown",
      "source": [
        "#Helper function"
      ],
      "metadata": {
        "id": "vynIVpX8wDN1",
        "papermill": {
          "duration": 0.014835,
          "end_time": "2023-04-15T20:04:23.023744",
          "exception": false,
          "start_time": "2023-04-15T20:04:23.008909",
          "status": "completed"
        },
        "tags": []
      },
      "id": "vynIVpX8wDN1"
    },
    {
      "cell_type": "markdown",
      "source": [
        "##Fish-segment"
      ],
      "metadata": {
        "id": "RmqG6ado944l",
        "papermill": {
          "duration": 0.014927,
          "end_time": "2023-04-15T20:04:23.053756",
          "exception": false,
          "start_time": "2023-04-15T20:04:23.038829",
          "status": "completed"
        },
        "tags": []
      },
      "id": "RmqG6ado944l"
    },
    {
      "cell_type": "code",
      "source": [
        "def algin_mask(mask):\n",
        "  cmap = np.all(np.equal(mask,[255,255,255]), axis = -1)\n",
        "  return cmap"
      ],
      "metadata": {
        "id": "1zOMkjen8NIf",
        "papermill": {
          "duration": 0.023837,
          "end_time": "2023-04-15T20:04:23.092376",
          "exception": false,
          "start_time": "2023-04-15T20:04:23.068539",
          "status": "completed"
        },
        "tags": [],
        "execution": {
          "iopub.status.busy": "2023-04-17T10:50:53.358693Z",
          "iopub.execute_input": "2023-04-17T10:50:53.359148Z",
          "iopub.status.idle": "2023-04-17T10:50:53.366816Z",
          "shell.execute_reply.started": "2023-04-17T10:50:53.359108Z",
          "shell.execute_reply": "2023-04-17T10:50:53.365548Z"
        },
        "trusted": true
      },
      "execution_count": 17,
      "outputs": [],
      "id": "1zOMkjen8NIf"
    },
    {
      "cell_type": "markdown",
      "source": [
        "##Visualize prediction"
      ],
      "metadata": {
        "id": "wXUK6a8V98_b",
        "papermill": {
          "duration": 0.015191,
          "end_time": "2023-04-15T20:04:23.122180",
          "exception": false,
          "start_time": "2023-04-15T20:04:23.106989",
          "status": "completed"
        },
        "tags": []
      },
      "id": "wXUK6a8V98_b"
    },
    {
      "cell_type": "code",
      "source": [
        "def sigmoid(x):\n",
        "    return 1/(1+np.exp(-x))\n",
        "\n",
        "\n",
        "def threshold(x):\n",
        "    y = np.zeros([x.shape[0], x.shape[1], x.shape[2]])\n",
        "    y[x >= 0.5] = 1\n",
        "    y[x < 0.5] = 0\n",
        "    return y\n",
        "\n",
        "\n",
        "def normalize(x):\n",
        "    min = x.min()\n",
        "    max = x.max()\n",
        "    return (x-min)/(max - min)\n",
        "\n",
        "\n",
        "def restore(mask):\n",
        "    mask = sigmoid(mask)\n",
        "    #mask = normalize(mask)\n",
        "    mask = threshold(mask)\n",
        "    img = np.stack([mask*255, mask*255, mask*255], axis=-1)\n",
        "    return img\n",
        "\n",
        "\n",
        "color_map = [[0, 0, 0], [255, 255, 0]]\n",
        "\n",
        "\n",
        "def restore_mask(mask):\n",
        "    return np.stack([mask*255, mask*255, mask*255], axis=-1)\n"
      ],
      "metadata": {
        "id": "oBh13e4EN01E",
        "papermill": {
          "duration": 0.026587,
          "end_time": "2023-04-15T20:04:23.163800",
          "exception": false,
          "start_time": "2023-04-15T20:04:23.137213",
          "status": "completed"
        },
        "tags": [],
        "execution": {
          "iopub.status.busy": "2023-04-17T10:50:53.368780Z",
          "iopub.execute_input": "2023-04-17T10:50:53.369450Z",
          "iopub.status.idle": "2023-04-17T10:50:53.380887Z",
          "shell.execute_reply.started": "2023-04-17T10:50:53.369409Z",
          "shell.execute_reply": "2023-04-17T10:50:53.379713Z"
        },
        "trusted": true
      },
      "execution_count": 18,
      "outputs": [],
      "id": "oBh13e4EN01E"
    },
    {
      "cell_type": "markdown",
      "source": [
        "##Metric"
      ],
      "metadata": {
        "id": "0Pqqt6WI-AV1",
        "papermill": {
          "duration": 0.014826,
          "end_time": "2023-04-15T20:04:23.193765",
          "exception": false,
          "start_time": "2023-04-15T20:04:23.178939",
          "status": "completed"
        },
        "tags": []
      },
      "id": "0Pqqt6WI-AV1"
    },
    {
      "cell_type": "code",
      "source": [
        "# custom metric\n",
        "def iou_score(output, target):\n",
        "    smooth = 1e-5\n",
        "\n",
        "    if torch.is_tensor(output):\n",
        "        output = torch.sigmoid(output).data.cpu().numpy()\n",
        "    if torch.is_tensor(target):\n",
        "        target = target.data.cpu().numpy()\n",
        "    output_ = output > 0.5\n",
        "    target_ = target > 0.5\n",
        "    intersection = (output_ & target_).sum()\n",
        "    union = (output_ | target_).sum()\n",
        "\n",
        "    return (intersection + smooth) / (union + smooth)\n",
        "\n",
        "\n",
        "def dice_coef(output, target):\n",
        "    smooth = 1e-5\n",
        "\n",
        "    output = torch.sigmoid(output).view(-1).data.cpu().numpy()\n",
        "    target = target.view(-1).data.cpu().numpy()\n",
        "    intersection = (output * target).sum()\n",
        "\n",
        "    return (2. * intersection + smooth) / (output.sum() + target.sum() + smooth)\n",
        "\n",
        "def dice_coef_loss(y_true, y_pred):\n",
        "    return 1.0 - dice_coef(y_true, y_pred)\n",
        "    #return 1.0 - dice_coef(y_true, y_pred)\n",
        "\n",
        "def jaccard_coef(y_true, y_pred, smooth=0.0):\n",
        "    '''Average jaccard coefficient per batch.'''\n",
        "    axes = (1,2,3)\n",
        "    intersection = K.sum(y_true * y_pred, axis=axes)\n",
        "    union = K.sum(y_true + y_pred, axis=axes) - intersection\n",
        "    return K.mean( (intersection + smooth) / (union + smooth), axis=0)\n",
        "\n",
        "def accuracy(pred, label):\n",
        "    pred = torch.sigmoid(pred)\n",
        "    temp = torch.zeros(pred.shape[0],pred.shape[1],pred.shape[2],pred.shape[3]).cuda()\n",
        "    temp[pred>=0.5] = 255\n",
        "    temp[pred<0.5] = 0\n",
        "    corrects = (temp == label).float()\n",
        "    acc = corrects.sum() / corrects.numel()\n",
        "    return acc.item()\n",
        ""
      ],
      "metadata": {
        "id": "uEKE-BBylIR1",
        "papermill": {
          "duration": 0.030894,
          "end_time": "2023-04-15T20:04:23.239691",
          "exception": false,
          "start_time": "2023-04-15T20:04:23.208797",
          "status": "completed"
        },
        "tags": [],
        "execution": {
          "iopub.status.busy": "2023-04-17T10:50:53.382261Z",
          "iopub.execute_input": "2023-04-17T10:50:53.382549Z",
          "iopub.status.idle": "2023-04-17T10:50:53.395726Z",
          "shell.execute_reply.started": "2023-04-17T10:50:53.382523Z",
          "shell.execute_reply": "2023-04-17T10:50:53.394562Z"
        },
        "trusted": true
      },
      "execution_count": 19,
      "outputs": [],
      "id": "uEKE-BBylIR1"
    },
    {
      "cell_type": "code",
      "source": [
        "history = {\n",
        "    'iou':\n",
        "    {\n",
        "        'train': [],\n",
        "        'val': [],\n",
        "        'test_1': [],\n",
        "        'test_2': [],\n",
        "        'test_3': [],\n",
        "        'test_4': [],\n",
        "        'test_5': [],\n",
        "    },\n",
        "    'dice_coef':\n",
        "    {\n",
        "\n",
        "        'train': [],\n",
        "        'val': [],\n",
        "        'test_1': [],\n",
        "        'test_2': [],\n",
        "        'test_3': [],\n",
        "        'test_4': [],\n",
        "        'test_5': [],\n",
        "\n",
        "    },\n",
        "    'loss':\n",
        "    {\n",
        "\n",
        "        'train': [],\n",
        "        'val': [],\n",
        "        'test_1': [],\n",
        "        'test_2': [],\n",
        "        'test_3': [],\n",
        "        'test_4': [],\n",
        "        'test_5': [],\n",
        "    }\n",
        "}"
      ],
      "metadata": {
        "id": "dGB1ey9SRRif",
        "papermill": {
          "duration": 0.025125,
          "end_time": "2023-04-15T20:04:23.279715",
          "exception": false,
          "start_time": "2023-04-15T20:04:23.254590",
          "status": "completed"
        },
        "tags": [],
        "execution": {
          "iopub.status.busy": "2023-04-17T10:50:53.397270Z",
          "iopub.execute_input": "2023-04-17T10:50:53.397919Z",
          "iopub.status.idle": "2023-04-17T10:50:53.405486Z",
          "shell.execute_reply.started": "2023-04-17T10:50:53.397858Z",
          "shell.execute_reply": "2023-04-17T10:50:53.404378Z"
        },
        "trusted": true
      },
      "execution_count": 20,
      "outputs": [],
      "id": "dGB1ey9SRRif"
    },
    {
      "cell_type": "markdown",
      "source": [
        "#Loss Function"
      ],
      "metadata": {
        "id": "EF78aoIXZ2-K",
        "papermill": {
          "duration": 0.014798,
          "end_time": "2023-04-15T20:04:23.309632",
          "exception": false,
          "start_time": "2023-04-15T20:04:23.294834",
          "status": "completed"
        },
        "tags": []
      },
      "id": "EF78aoIXZ2-K"
    },
    {
      "cell_type": "markdown",
      "source": [
        "### Loss function"
      ],
      "metadata": {
        "id": "-GKW1mh24F3G",
        "papermill": {
          "duration": 0.014936,
          "end_time": "2023-04-15T20:04:23.339498",
          "exception": false,
          "start_time": "2023-04-15T20:04:23.324562",
          "status": "completed"
        },
        "tags": []
      },
      "id": "-GKW1mh24F3G"
    },
    {
      "cell_type": "code",
      "source": [
        "# import torch\n",
        "# import torch.nn as nn\n",
        "\n",
        "\n",
        "# def dice_loss(pred, target, smooth=1.):\n",
        "#     pred = pred.contiguous()\n",
        "#     target = target.contiguous()\n",
        "\n",
        "#     intersection = (pred * target).sum(dim=2).sum(dim=2)\n",
        "\n",
        "#     loss = (1 - ((2. * intersection + smooth) /\n",
        "#             (pred.sum(dim=2).sum(dim=2) + target.sum(dim=2).sum(dim=2) + smooth)))\n",
        "\n",
        "#     return loss.mean()\n"
      ],
      "metadata": {
        "id": "ayHU2YOY4-Jn",
        "papermill": {
          "duration": 0.025625,
          "end_time": "2023-04-15T20:04:23.380120",
          "exception": false,
          "start_time": "2023-04-15T20:04:23.354495",
          "status": "completed"
        },
        "tags": [],
        "execution": {
          "iopub.status.busy": "2023-04-17T10:50:53.407253Z",
          "iopub.execute_input": "2023-04-17T10:50:53.407645Z",
          "iopub.status.idle": "2023-04-17T10:50:53.418657Z",
          "shell.execute_reply.started": "2023-04-17T10:50:53.407609Z",
          "shell.execute_reply": "2023-04-17T10:50:53.417660Z"
        },
        "trusted": true
      },
      "execution_count": 21,
      "outputs": [],
      "id": "ayHU2YOY4-Jn"
    },
    {
      "cell_type": "code",
      "source": [
        "class FocalLossV1(nn.Module):\n",
        "\n",
        "    def __init__(self,\n",
        "                alpha=0.25,\n",
        "                gamma=2,\n",
        "                reduction='mean',):\n",
        "        super(FocalLossV1, self).__init__()\n",
        "        self.alpha = alpha\n",
        "        self.gamma = gamma\n",
        "        self.reduction = reduction\n",
        "        self.crit = nn.BCEWithLogitsLoss(reduction='none')\n",
        "\n",
        "    def forward(self, logits, label):\n",
        "        # compute loss\n",
        "        logits = logits.float() # use fp32 if logits is fp16\n",
        "        with torch.no_grad():\n",
        "            alpha = torch.empty_like(logits).fill_(1 - self.alpha)\n",
        "            alpha[label == 1] = self.alpha\n",
        "\n",
        "        probs = torch.sigmoid(logits)\n",
        "        pt = torch.where(label == 1, probs, 1 - probs)\n",
        "        ce_loss = self.crit(logits, label.float())\n",
        "        loss = (alpha * torch.pow(1 - pt, self.gamma) * ce_loss)\n",
        "        if self.reduction == 'mean':\n",
        "            loss = loss.mean()\n",
        "        if self.reduction == 'sum':\n",
        "            loss = loss.sum()\n",
        "        return loss\n",
        "\n",
        "def structure_loss(pred, mask):\n",
        "    weit = 1 + 5*torch.abs(F.avg_pool2d(mask, kernel_size=31, stride=1, padding=15) - mask)\n",
        "    wfocal = FocalLossV1()(pred, mask)\n",
        "    wfocal = (wfocal*weit).sum(dim=(2,3)) / weit.sum(dim=(2, 3))\n",
        "\n",
        "    pred = torch.sigmoid(pred)\n",
        "    inter = ((pred * mask)*weit).sum(dim=(2, 3))\n",
        "    union = ((pred + mask)*weit).sum(dim=(2, 3))\n",
        "    wiou = 1 - (inter + 1)/(union - inter+1)\n",
        "    return (wfocal + wiou).mean()"
      ],
      "metadata": {
        "id": "Xcd7K44tiiR5",
        "papermill": {
          "duration": 0.029612,
          "end_time": "2023-04-15T20:04:23.424674",
          "exception": false,
          "start_time": "2023-04-15T20:04:23.395062",
          "status": "completed"
        },
        "tags": [],
        "execution": {
          "iopub.status.busy": "2023-04-17T10:50:53.421858Z",
          "iopub.execute_input": "2023-04-17T10:50:53.422580Z",
          "iopub.status.idle": "2023-04-17T10:50:53.433959Z",
          "shell.execute_reply.started": "2023-04-17T10:50:53.422552Z",
          "shell.execute_reply": "2023-04-17T10:50:53.432884Z"
        },
        "trusted": true
      },
      "execution_count": 22,
      "outputs": [],
      "id": "Xcd7K44tiiR5"
    },
    {
      "cell_type": "code",
      "source": [
        "def boundary_forward(pred, gt):\n",
        "    laplacian = torch.tensor([[[[-1.0, -1.0, -1.0], [-1.0, 8.0, -1.0], [-1.0, -1.0, -1.0]]]]).requires_grad_(False).to(device)\n",
        "    pred = nn.Sigmoid()(pred)\n",
        "\n",
        "    pred_edges=(F.conv2d(pred.float(), laplacian, stride=1, padding = 1) > 0.1).float()\n",
        "    gt_edges = (F.conv2d(gt.float(), laplacian, stride=1, padding = 1) > 0.1).float()\n",
        "    edge_loss = F.binary_cross_entropy_with_logits(input=pred_edges, target=gt_edges)\n",
        "\n",
        "    return edge_loss\n"
      ],
      "metadata": {
        "id": "d1Ko0ad6AEWB",
        "papermill": {
          "duration": 0.024559,
          "end_time": "2023-04-15T20:04:23.464323",
          "exception": false,
          "start_time": "2023-04-15T20:04:23.439764",
          "status": "completed"
        },
        "tags": [],
        "execution": {
          "iopub.status.busy": "2023-04-17T10:50:53.435353Z",
          "iopub.execute_input": "2023-04-17T10:50:53.436359Z",
          "iopub.status.idle": "2023-04-17T10:50:53.446574Z",
          "shell.execute_reply.started": "2023-04-17T10:50:53.436284Z",
          "shell.execute_reply": "2023-04-17T10:50:53.445362Z"
        },
        "trusted": true
      },
      "execution_count": 23,
      "outputs": [],
      "id": "d1Ko0ad6AEWB"
    },
    {
      "cell_type": "code",
      "source": [
        "def calc_loss(pred,bound ,target, metrics):\n",
        "\n",
        "    bound_loss = boundary_forward(bound, target)\n",
        "    loss = structure_loss(pred,target)\n",
        "\n",
        "    metrics['score'] += bound_loss.data.cpu().numpy() * target.size(0)\n",
        "    metrics['loss'] += loss.data.cpu().numpy() * target.size(0)\n",
        "\n",
        "    return loss+bound_loss\n"
      ],
      "metadata": {
        "id": "terCigH0iiR6",
        "papermill": {
          "duration": 0.024806,
          "end_time": "2023-04-15T20:04:23.504259",
          "exception": false,
          "start_time": "2023-04-15T20:04:23.479453",
          "status": "completed"
        },
        "tags": [],
        "execution": {
          "iopub.status.busy": "2023-04-17T10:50:53.447725Z",
          "iopub.execute_input": "2023-04-17T10:50:53.449200Z",
          "iopub.status.idle": "2023-04-17T10:50:53.456774Z",
          "shell.execute_reply.started": "2023-04-17T10:50:53.449160Z",
          "shell.execute_reply": "2023-04-17T10:50:53.455653Z"
        },
        "trusted": true
      },
      "execution_count": 24,
      "outputs": [],
      "id": "terCigH0iiR6"
    },
    {
      "cell_type": "markdown",
      "source": [
        "#Model components"
      ],
      "metadata": {
        "id": "cK46U-OXa88I",
        "papermill": {
          "duration": 0.014896,
          "end_time": "2023-04-15T20:04:23.534251",
          "exception": false,
          "start_time": "2023-04-15T20:04:23.519355",
          "status": "completed"
        },
        "tags": []
      },
      "id": "cK46U-OXa88I"
    },
    {
      "cell_type": "code",
      "source": [
        "# !pip install git+https://github.com/rwightman/pytorch-image-models.git\n",
        "!pip install git+https://github.com/hugontin/tien130102.git\n",
        "!pip install timm"
      ],
      "metadata": {
        "id": "TQaAxaEOpDtd",
        "outputId": "34850e0e-bf36-426d-ac21-55f3bdecb549",
        "papermill": {
          "duration": 33.091083,
          "end_time": "2023-04-15T20:04:56.640312",
          "exception": false,
          "start_time": "2023-04-15T20:04:23.549229",
          "status": "completed"
        },
        "tags": [],
        "execution": {
          "iopub.status.busy": "2023-04-17T10:50:53.458640Z",
          "iopub.execute_input": "2023-04-17T10:50:53.459067Z",
          "iopub.status.idle": "2023-04-17T10:51:24.939743Z",
          "shell.execute_reply.started": "2023-04-17T10:50:53.459028Z",
          "shell.execute_reply": "2023-04-17T10:51:24.938411Z"
        },
        "trusted": true,
        "colab": {
          "base_uri": "https://localhost:8080/"
        }
      },
      "execution_count": 25,
      "outputs": [
        {
          "output_type": "stream",
          "name": "stdout",
          "text": [
            "Collecting git+https://github.com/hugontin/tien130102.git\n",
            "  Cloning https://github.com/hugontin/tien130102.git to /tmp/pip-req-build-bvhgoeym\n",
            "  Running command git clone --filter=blob:none --quiet https://github.com/hugontin/tien130102.git /tmp/pip-req-build-bvhgoeym\n",
            "  Resolved https://github.com/hugontin/tien130102.git to commit 4f591b6a641be5cd7bb4348a0643326a2b0384a2\n",
            "  Installing build dependencies ... \u001b[?25l\u001b[?25hdone\n",
            "  Getting requirements to build wheel ... \u001b[?25l\u001b[?25hdone\n",
            "  Preparing metadata (pyproject.toml) ... \u001b[?25l\u001b[?25hdone\n",
            "Requirement already satisfied: torch>=1.7 in /usr/local/lib/python3.10/dist-packages (from timm==0.8.18.dev0) (2.0.1+cu118)\n",
            "Requirement already satisfied: torchvision in /usr/local/lib/python3.10/dist-packages (from timm==0.8.18.dev0) (0.15.2+cu118)\n",
            "Requirement already satisfied: pyyaml in /usr/local/lib/python3.10/dist-packages (from timm==0.8.18.dev0) (6.0)\n",
            "Requirement already satisfied: huggingface-hub in /usr/local/lib/python3.10/dist-packages (from timm==0.8.18.dev0) (0.16.4)\n",
            "Requirement already satisfied: safetensors in /usr/local/lib/python3.10/dist-packages (from timm==0.8.18.dev0) (0.3.1)\n",
            "Requirement already satisfied: filelock in /usr/local/lib/python3.10/dist-packages (from torch>=1.7->timm==0.8.18.dev0) (3.12.2)\n",
            "Requirement already satisfied: typing-extensions in /usr/local/lib/python3.10/dist-packages (from torch>=1.7->timm==0.8.18.dev0) (4.7.1)\n",
            "Requirement already satisfied: sympy in /usr/local/lib/python3.10/dist-packages (from torch>=1.7->timm==0.8.18.dev0) (1.11.1)\n",
            "Requirement already satisfied: networkx in /usr/local/lib/python3.10/dist-packages (from torch>=1.7->timm==0.8.18.dev0) (3.1)\n",
            "Requirement already satisfied: jinja2 in /usr/local/lib/python3.10/dist-packages (from torch>=1.7->timm==0.8.18.dev0) (3.1.2)\n",
            "Requirement already satisfied: triton==2.0.0 in /usr/local/lib/python3.10/dist-packages (from torch>=1.7->timm==0.8.18.dev0) (2.0.0)\n",
            "Requirement already satisfied: cmake in /usr/local/lib/python3.10/dist-packages (from triton==2.0.0->torch>=1.7->timm==0.8.18.dev0) (3.25.2)\n",
            "Requirement already satisfied: lit in /usr/local/lib/python3.10/dist-packages (from triton==2.0.0->torch>=1.7->timm==0.8.18.dev0) (16.0.6)\n",
            "Requirement already satisfied: fsspec in /usr/local/lib/python3.10/dist-packages (from huggingface-hub->timm==0.8.18.dev0) (2023.6.0)\n",
            "Requirement already satisfied: requests in /usr/local/lib/python3.10/dist-packages (from huggingface-hub->timm==0.8.18.dev0) (2.27.1)\n",
            "Requirement already satisfied: tqdm>=4.42.1 in /usr/local/lib/python3.10/dist-packages (from huggingface-hub->timm==0.8.18.dev0) (4.65.0)\n",
            "Requirement already satisfied: packaging>=20.9 in /usr/local/lib/python3.10/dist-packages (from huggingface-hub->timm==0.8.18.dev0) (23.1)\n",
            "Requirement already satisfied: numpy in /usr/local/lib/python3.10/dist-packages (from torchvision->timm==0.8.18.dev0) (1.22.4)\n",
            "Requirement already satisfied: pillow!=8.3.*,>=5.3.0 in /usr/local/lib/python3.10/dist-packages (from torchvision->timm==0.8.18.dev0) (8.4.0)\n",
            "Requirement already satisfied: MarkupSafe>=2.0 in /usr/local/lib/python3.10/dist-packages (from jinja2->torch>=1.7->timm==0.8.18.dev0) (2.1.3)\n",
            "Requirement already satisfied: urllib3<1.27,>=1.21.1 in /usr/local/lib/python3.10/dist-packages (from requests->huggingface-hub->timm==0.8.18.dev0) (1.26.16)\n",
            "Requirement already satisfied: certifi>=2017.4.17 in /usr/local/lib/python3.10/dist-packages (from requests->huggingface-hub->timm==0.8.18.dev0) (2023.5.7)\n",
            "Requirement already satisfied: charset-normalizer~=2.0.0 in /usr/local/lib/python3.10/dist-packages (from requests->huggingface-hub->timm==0.8.18.dev0) (2.0.12)\n",
            "Requirement already satisfied: idna<4,>=2.5 in /usr/local/lib/python3.10/dist-packages (from requests->huggingface-hub->timm==0.8.18.dev0) (3.4)\n",
            "Requirement already satisfied: mpmath>=0.19 in /usr/local/lib/python3.10/dist-packages (from sympy->torch>=1.7->timm==0.8.18.dev0) (1.3.0)\n",
            "Requirement already satisfied: timm in /usr/local/lib/python3.10/dist-packages (0.8.18.dev0)\n",
            "Requirement already satisfied: torch>=1.7 in /usr/local/lib/python3.10/dist-packages (from timm) (2.0.1+cu118)\n",
            "Requirement already satisfied: torchvision in /usr/local/lib/python3.10/dist-packages (from timm) (0.15.2+cu118)\n",
            "Requirement already satisfied: pyyaml in /usr/local/lib/python3.10/dist-packages (from timm) (6.0)\n",
            "Requirement already satisfied: huggingface-hub in /usr/local/lib/python3.10/dist-packages (from timm) (0.16.4)\n",
            "Requirement already satisfied: safetensors in /usr/local/lib/python3.10/dist-packages (from timm) (0.3.1)\n",
            "Requirement already satisfied: filelock in /usr/local/lib/python3.10/dist-packages (from torch>=1.7->timm) (3.12.2)\n",
            "Requirement already satisfied: typing-extensions in /usr/local/lib/python3.10/dist-packages (from torch>=1.7->timm) (4.7.1)\n",
            "Requirement already satisfied: sympy in /usr/local/lib/python3.10/dist-packages (from torch>=1.7->timm) (1.11.1)\n",
            "Requirement already satisfied: networkx in /usr/local/lib/python3.10/dist-packages (from torch>=1.7->timm) (3.1)\n",
            "Requirement already satisfied: jinja2 in /usr/local/lib/python3.10/dist-packages (from torch>=1.7->timm) (3.1.2)\n",
            "Requirement already satisfied: triton==2.0.0 in /usr/local/lib/python3.10/dist-packages (from torch>=1.7->timm) (2.0.0)\n",
            "Requirement already satisfied: cmake in /usr/local/lib/python3.10/dist-packages (from triton==2.0.0->torch>=1.7->timm) (3.25.2)\n",
            "Requirement already satisfied: lit in /usr/local/lib/python3.10/dist-packages (from triton==2.0.0->torch>=1.7->timm) (16.0.6)\n",
            "Requirement already satisfied: fsspec in /usr/local/lib/python3.10/dist-packages (from huggingface-hub->timm) (2023.6.0)\n",
            "Requirement already satisfied: requests in /usr/local/lib/python3.10/dist-packages (from huggingface-hub->timm) (2.27.1)\n",
            "Requirement already satisfied: tqdm>=4.42.1 in /usr/local/lib/python3.10/dist-packages (from huggingface-hub->timm) (4.65.0)\n",
            "Requirement already satisfied: packaging>=20.9 in /usr/local/lib/python3.10/dist-packages (from huggingface-hub->timm) (23.1)\n",
            "Requirement already satisfied: numpy in /usr/local/lib/python3.10/dist-packages (from torchvision->timm) (1.22.4)\n",
            "Requirement already satisfied: pillow!=8.3.*,>=5.3.0 in /usr/local/lib/python3.10/dist-packages (from torchvision->timm) (8.4.0)\n",
            "Requirement already satisfied: MarkupSafe>=2.0 in /usr/local/lib/python3.10/dist-packages (from jinja2->torch>=1.7->timm) (2.1.3)\n",
            "Requirement already satisfied: urllib3<1.27,>=1.21.1 in /usr/local/lib/python3.10/dist-packages (from requests->huggingface-hub->timm) (1.26.16)\n",
            "Requirement already satisfied: certifi>=2017.4.17 in /usr/local/lib/python3.10/dist-packages (from requests->huggingface-hub->timm) (2023.5.7)\n",
            "Requirement already satisfied: charset-normalizer~=2.0.0 in /usr/local/lib/python3.10/dist-packages (from requests->huggingface-hub->timm) (2.0.12)\n",
            "Requirement already satisfied: idna<4,>=2.5 in /usr/local/lib/python3.10/dist-packages (from requests->huggingface-hub->timm) (3.4)\n",
            "Requirement already satisfied: mpmath>=0.19 in /usr/local/lib/python3.10/dist-packages (from sympy->torch>=1.7->timm) (1.3.0)\n"
          ]
        }
      ],
      "id": "TQaAxaEOpDtd"
    },
    {
      "cell_type": "markdown",
      "source": [
        "##Mvit backbone"
      ],
      "metadata": {
        "id": "vS3HNL_1pTYn",
        "papermill": {
          "duration": 0.016764,
          "end_time": "2023-04-15T20:04:56.674936",
          "exception": false,
          "start_time": "2023-04-15T20:04:56.658172",
          "status": "completed"
        },
        "tags": []
      },
      "id": "vS3HNL_1pTYn"
    },
    {
      "cell_type": "code",
      "source": [
        "\"\"\" Multi-Scale Vision Transformer v2\n",
        "\n",
        "@inproceedings{li2021improved,\n",
        "  title={MViTv2: Improved multiscale vision transformers for classification and detection},\n",
        "  author={Li, Yanghao and Wu, Chao-Yuan and Fan, Haoqi and Mangalam, Karttikeya and Xiong, Bo and Malik, Jitendra and Feichtenhofer, Christoph},\n",
        "  booktitle={CVPR},\n",
        "  year={2022}\n",
        "}\n",
        "\n",
        "Code adapted from original Apache 2.0 licensed impl at https://github.com/facebookresearch/mvit\n",
        "Original copyright below.\n",
        "\n",
        "Modifications and timm support by / Copyright 2022, Ross Wightman\n",
        "\"\"\"\n",
        "# Copyright (c) Meta Platforms, Inc. and affiliates. All Rights Reserved. All Rights Reserved.\n",
        "import operator\n",
        "from collections import OrderedDict\n",
        "from dataclasses import dataclass\n",
        "from functools import partial, reduce\n",
        "from typing import Union, List, Tuple, Optional\n",
        "\n",
        "import torch\n",
        "import torch.utils.checkpoint as checkpoint\n",
        "from torch import nn\n",
        "\n",
        "from timm.data import IMAGENET_DEFAULT_MEAN, IMAGENET_DEFAULT_STD\n",
        "from timm.layers import Mlp, DropPath, trunc_normal_tf_, get_norm_layer, to_2tuple\n",
        "from timm.models._builder import build_model_with_cfg\n",
        "from timm.models._features_fx import register_notrace_function\n",
        "from timm.models._registry import register_model\n",
        "\n",
        "__all__ = ['MultiScaleVit', 'MultiScaleVitCfg']  # model_registry will add each entrypoint fn to this\n",
        "\n",
        "\n",
        "def _cfg(url='', **kwargs):\n",
        "    return {\n",
        "        'url': url,\n",
        "        'num_classes': 1000, 'input_size': (3, 224, 224), 'pool_size': None,\n",
        "        'crop_pct': .9, 'interpolation': 'bicubic',\n",
        "        'mean': IMAGENET_DEFAULT_MEAN, 'std': IMAGENET_DEFAULT_STD,\n",
        "        'first_conv': 'patch_embed.proj', 'classifier': 'head.fc',\n",
        "        'fixed_input_size': True,\n",
        "        **kwargs\n",
        "    }\n",
        "\n",
        "\n",
        "default_cfgs = dict(\n",
        "    mvitv2_tiny=_cfg(url='https://dl.fbaipublicfiles.com/mvit/mvitv2_models/MViTv2_T_in1k.pyth'),\n",
        "    mvitv2_small=_cfg(url='https://dl.fbaipublicfiles.com/mvit/mvitv2_models/MViTv2_S_in1k.pyth'),\n",
        "    mvitv2_base=_cfg(url='https://dl.fbaipublicfiles.com/mvit/mvitv2_models/MViTv2_B_in1k.pyth'),\n",
        "    mvitv2_large=_cfg(url='https://dl.fbaipublicfiles.com/mvit/mvitv2_models/MViTv2_L_in1k.pyth'),\n",
        "\n",
        "    mvitv2_base_in21k=_cfg(\n",
        "        url='https://dl.fbaipublicfiles.com/mvit/mvitv2_models/MViTv2_B_in21k.pyth',\n",
        "        num_classes=19168),\n",
        "    mvitv2_large_in21k=_cfg(\n",
        "        url='https://dl.fbaipublicfiles.com/mvit/mvitv2_models/MViTv2_L_in21k.pyth',\n",
        "        num_classes=19168),\n",
        "    mvitv2_huge_in21k=_cfg(\n",
        "        url='https://dl.fbaipublicfiles.com/mvit/mvitv2_models/MViTv2_H_in21k.pyth',\n",
        "        num_classes=19168),\n",
        "\n",
        "    mvitv2_small_cls=_cfg(url=''),\n",
        ")\n",
        "\n",
        "\n",
        "@dataclass\n",
        "class MultiScaleVitCfg:\n",
        "    depths: Tuple[int, ...] = (2, 3, 16, 3)\n",
        "    embed_dim: Union[int, Tuple[int, ...]] = 96\n",
        "    num_heads: Union[int, Tuple[int, ...]] = 1\n",
        "    mlp_ratio: float = 4.\n",
        "    pool_first: bool = False\n",
        "    expand_attn: bool = True\n",
        "    qkv_bias: bool = True\n",
        "    use_cls_token: bool = False\n",
        "    use_abs_pos: bool = False\n",
        "    residual_pooling: bool = True\n",
        "    mode: str = 'conv'\n",
        "    kernel_qkv: Tuple[int, int] = (3, 3)\n",
        "    stride_q: Optional[Tuple[Tuple[int, int]]] = ((1, 1), (2, 2), (2, 2), (2, 2))\n",
        "    stride_kv: Optional[Tuple[Tuple[int, int]]] = None\n",
        "    stride_kv_adaptive: Optional[Tuple[int, int]] = (4, 4)\n",
        "    patch_kernel: Tuple[int, int] = (7, 7)\n",
        "    patch_stride: Tuple[int, int] = (4, 4)\n",
        "    patch_padding: Tuple[int, int] = (3, 3)\n",
        "    pool_type: str = 'max'\n",
        "    rel_pos_type: str = 'spatial'\n",
        "    act_layer: Union[str, Tuple[str, str]] = 'gelu'\n",
        "    norm_layer: Union[str, Tuple[str, str]] = 'layernorm'\n",
        "    norm_eps: float = 1e-6\n",
        "\n",
        "    def __post_init__(self):\n",
        "        num_stages = len(self.depths)\n",
        "        if not isinstance(self.embed_dim, (tuple, list)):\n",
        "            self.embed_dim = tuple(self.embed_dim * 2 ** i for i in range(num_stages))\n",
        "        assert len(self.embed_dim) == num_stages\n",
        "\n",
        "        if not isinstance(self.num_heads, (tuple, list)):\n",
        "            self.num_heads = tuple(self.num_heads * 2 ** i for i in range(num_stages))\n",
        "        assert len(self.num_heads) == num_stages\n",
        "\n",
        "        if self.stride_kv_adaptive is not None and self.stride_kv is None:\n",
        "            _stride_kv = self.stride_kv_adaptive\n",
        "            pool_kv_stride = []\n",
        "            for i in range(num_stages):\n",
        "                if min(self.stride_q[i]) > 1:\n",
        "                    _stride_kv = [\n",
        "                        max(_stride_kv[d] // self.stride_q[i][d], 1)\n",
        "                        for d in range(len(_stride_kv))\n",
        "                    ]\n",
        "                pool_kv_stride.append(tuple(_stride_kv))\n",
        "            self.stride_kv = tuple(pool_kv_stride)\n",
        "\n",
        "\n",
        "model_cfgs = dict(\n",
        "    mvitv2_tiny=MultiScaleVitCfg(\n",
        "        depths=(1, 2, 5, 2),\n",
        "    ),\n",
        "    mvitv2_small=MultiScaleVitCfg(\n",
        "        depths=(1, 2, 11, 2),\n",
        "    ),\n",
        "    mvitv2_base=MultiScaleVitCfg(\n",
        "        depths=(2, 3, 16, 3),\n",
        "    ),\n",
        "    mvitv2_large=MultiScaleVitCfg(\n",
        "        depths=(2, 6, 36, 4),\n",
        "        embed_dim=144,\n",
        "        num_heads=2,\n",
        "        expand_attn=False,\n",
        "    ),\n",
        "\n",
        "    mvitv2_base_in21k=MultiScaleVitCfg(\n",
        "        depths=(2, 3, 16, 3),\n",
        "    ),\n",
        "    mvitv2_large_in21k=MultiScaleVitCfg(\n",
        "        depths=(2, 6, 36, 4),\n",
        "        embed_dim=144,\n",
        "        num_heads=2,\n",
        "        expand_attn=False,\n",
        "    ),\n",
        "\n",
        "    mvitv2_small_cls=MultiScaleVitCfg(\n",
        "        depths=(1, 2, 11, 2),\n",
        "        use_cls_token=True,\n",
        "    ),\n",
        ")\n",
        "\n",
        "\n",
        "def prod(iterable):\n",
        "    return reduce(operator.mul, iterable, 1)\n",
        "\n",
        "\n",
        "class PatchEmbed(nn.Module):\n",
        "    \"\"\"\n",
        "    PatchEmbed.\n",
        "    \"\"\"\n",
        "\n",
        "    def __init__(\n",
        "            self,\n",
        "            dim_in=3,\n",
        "            dim_out=768,\n",
        "            kernel=(7, 7),\n",
        "            stride=(4, 4),\n",
        "            padding=(3, 3),\n",
        "    ):\n",
        "        super().__init__()\n",
        "\n",
        "        self.proj = nn.Conv2d(\n",
        "            dim_in,\n",
        "            dim_out,\n",
        "            kernel_size=kernel,\n",
        "            stride=stride,\n",
        "            padding=padding,\n",
        "        )\n",
        "\n",
        "    def forward(self, x) -> Tuple[torch.Tensor, List[int]]:\n",
        "        x = self.proj(x)\n",
        "        # B C H W -> B HW C\n",
        "        return x.flatten(2).transpose(1, 2), x.shape[-2:]\n",
        "\n",
        "\n",
        "@register_notrace_function\n",
        "def reshape_pre_pool(\n",
        "        x,\n",
        "        feat_size: List[int],\n",
        "        has_cls_token: bool = True\n",
        ") -> Tuple[torch.Tensor, Optional[torch.Tensor]]:\n",
        "    H, W = feat_size\n",
        "    if has_cls_token:\n",
        "        cls_tok, x = x[:, :, :1, :], x[:, :, 1:, :]\n",
        "    else:\n",
        "        cls_tok = None\n",
        "    x = x.reshape(-1, H, W, x.shape[-1]).permute(0, 3, 1, 2).contiguous()\n",
        "    return x, cls_tok\n",
        "\n",
        "\n",
        "@register_notrace_function\n",
        "def reshape_post_pool(\n",
        "        x,\n",
        "        num_heads: int,\n",
        "        cls_tok: Optional[torch.Tensor] = None\n",
        ") -> Tuple[torch.Tensor, List[int]]:\n",
        "    feat_size = [x.shape[2], x.shape[3]]\n",
        "    L_pooled = x.shape[2] * x.shape[3]\n",
        "    x = x.reshape(-1, num_heads, x.shape[1], L_pooled).transpose(2, 3)\n",
        "    if cls_tok is not None:\n",
        "        x = torch.cat((cls_tok, x), dim=2)\n",
        "    return x, feat_size\n",
        "\n",
        "\n",
        "@register_notrace_function\n",
        "def cal_rel_pos_type(\n",
        "        attn: torch.Tensor,\n",
        "        q: torch.Tensor,\n",
        "        has_cls_token: bool,\n",
        "        q_size: List[int],\n",
        "        k_size: List[int],\n",
        "        rel_pos_h: torch.Tensor,\n",
        "        rel_pos_w: torch.Tensor,\n",
        "):\n",
        "    \"\"\"\n",
        "    Spatial Relative Positional Embeddings.\n",
        "    \"\"\"\n",
        "    sp_idx = 1 if has_cls_token else 0\n",
        "    q_h, q_w = q_size\n",
        "    k_h, k_w = k_size\n",
        "\n",
        "    # Scale up rel pos if shapes for q and k are different.\n",
        "    q_h_ratio = max(k_h / q_h, 1.0)\n",
        "    k_h_ratio = max(q_h / k_h, 1.0)\n",
        "    dist_h = torch.arange(q_h)[:, None] * q_h_ratio - torch.arange(k_h)[None, :] * k_h_ratio\n",
        "    dist_h += (k_h - 1) * k_h_ratio\n",
        "    q_w_ratio = max(k_w / q_w, 1.0)\n",
        "    k_w_ratio = max(q_w / k_w, 1.0)\n",
        "    dist_w = torch.arange(q_w)[:, None] * q_w_ratio - torch.arange(k_w)[None, :] * k_w_ratio\n",
        "    dist_w += (k_w - 1) * k_w_ratio\n",
        "\n",
        "    Rh = rel_pos_h[dist_h.long()]\n",
        "    Rw = rel_pos_w[dist_w.long()]\n",
        "\n",
        "    B, n_head, q_N, dim = q.shape\n",
        "\n",
        "    r_q = q[:, :, sp_idx:].reshape(B, n_head, q_h, q_w, dim)\n",
        "    rel_h = torch.einsum(\"byhwc,hkc->byhwk\", r_q, Rh)\n",
        "    rel_w = torch.einsum(\"byhwc,wkc->byhwk\", r_q, Rw)\n",
        "\n",
        "    attn[:, :, sp_idx:, sp_idx:] = (\n",
        "        attn[:, :, sp_idx:, sp_idx:].view(B, -1, q_h, q_w, k_h, k_w)\n",
        "        + rel_h[:, :, :, :, :, None]\n",
        "        + rel_w[:, :, :, :, None, :]\n",
        "    ).view(B, -1, q_h * q_w, k_h * k_w)\n",
        "\n",
        "    return attn\n",
        "\n",
        "\n",
        "class MultiScaleAttentionPoolFirst(nn.Module):\n",
        "    def __init__(\n",
        "            self,\n",
        "            dim,\n",
        "            dim_out,\n",
        "            feat_size,\n",
        "            num_heads=8,\n",
        "            qkv_bias=True,\n",
        "            mode=\"conv\",\n",
        "            kernel_q=(1, 1),\n",
        "            kernel_kv=(1, 1),\n",
        "            stride_q=(1, 1),\n",
        "            stride_kv=(1, 1),\n",
        "            has_cls_token=True,\n",
        "            rel_pos_type='spatial',\n",
        "            residual_pooling=True,\n",
        "            norm_layer=nn.LayerNorm,\n",
        "    ):\n",
        "        super().__init__()\n",
        "        self.num_heads = num_heads\n",
        "        self.dim_out = dim_out\n",
        "        self.head_dim = dim_out // num_heads\n",
        "        self.scale = self.head_dim ** -0.5\n",
        "        self.has_cls_token = has_cls_token\n",
        "        padding_q = tuple([int(q // 2) for q in kernel_q])\n",
        "        padding_kv = tuple([int(kv // 2) for kv in kernel_kv])\n",
        "\n",
        "        self.q = nn.Linear(dim, dim_out, bias=qkv_bias)\n",
        "        self.k = nn.Linear(dim, dim_out, bias=qkv_bias)\n",
        "        self.v = nn.Linear(dim, dim_out, bias=qkv_bias)\n",
        "        self.proj = nn.Linear(dim_out, dim_out)\n",
        "\n",
        "        # Skip pooling with kernel and stride size of (1, 1, 1).\n",
        "        if prod(kernel_q) == 1 and prod(stride_q) == 1:\n",
        "            kernel_q = None\n",
        "        if prod(kernel_kv) == 1 and prod(stride_kv) == 1:\n",
        "            kernel_kv = None\n",
        "        self.mode = mode\n",
        "        self.unshared = mode == 'conv_unshared'\n",
        "        self.pool_q, self.pool_k, self.pool_v = None, None, None\n",
        "        self.norm_q, self.norm_k, self.norm_v = None, None, None\n",
        "        if mode in (\"avg\", \"max\"):\n",
        "            pool_op = nn.MaxPool2d if mode == \"max\" else nn.AvgPool2d\n",
        "            if kernel_q:\n",
        "                self.pool_q = pool_op(kernel_q, stride_q, padding_q)\n",
        "            if kernel_kv:\n",
        "                self.pool_k = pool_op(kernel_kv, stride_kv, padding_kv)\n",
        "                self.pool_v = pool_op(kernel_kv, stride_kv, padding_kv)\n",
        "        elif mode == \"conv\" or mode == \"conv_unshared\":\n",
        "            dim_conv = dim // num_heads if mode == \"conv\" else dim\n",
        "            if kernel_q:\n",
        "                self.pool_q = nn.Conv2d(\n",
        "                    dim_conv,\n",
        "                    dim_conv,\n",
        "                    kernel_q,\n",
        "                    stride=stride_q,\n",
        "                    padding=padding_q,\n",
        "                    groups=dim_conv,\n",
        "                    bias=False,\n",
        "                )\n",
        "                self.norm_q = norm_layer(dim_conv)\n",
        "            if kernel_kv:\n",
        "                self.pool_k = nn.Conv2d(\n",
        "                    dim_conv,\n",
        "                    dim_conv,\n",
        "                    kernel_kv,\n",
        "                    stride=stride_kv,\n",
        "                    padding=padding_kv,\n",
        "                    groups=dim_conv,\n",
        "                    bias=False,\n",
        "                )\n",
        "                self.norm_k = norm_layer(dim_conv)\n",
        "                self.pool_v = nn.Conv2d(\n",
        "                    dim_conv,\n",
        "                    dim_conv,\n",
        "                    kernel_kv,\n",
        "                    stride=stride_kv,\n",
        "                    padding=padding_kv,\n",
        "                    groups=dim_conv,\n",
        "                    bias=False,\n",
        "                )\n",
        "                self.norm_v = norm_layer(dim_conv)\n",
        "        else:\n",
        "            raise NotImplementedError(f\"Unsupported model {mode}\")\n",
        "\n",
        "        # relative pos embedding\n",
        "        self.rel_pos_type = rel_pos_type\n",
        "        if self.rel_pos_type == 'spatial':\n",
        "            assert feat_size[0] == feat_size[1]\n",
        "            size = feat_size[0]\n",
        "            q_size = size // stride_q[1] if len(stride_q) > 0 else size\n",
        "            kv_size = size // stride_kv[1] if len(stride_kv) > 0 else size\n",
        "            rel_sp_dim = 2 * max(q_size, kv_size) - 1\n",
        "\n",
        "            self.rel_pos_h = nn.Parameter(torch.zeros(rel_sp_dim, self.head_dim))\n",
        "            self.rel_pos_w = nn.Parameter(torch.zeros(rel_sp_dim, self.head_dim))\n",
        "            trunc_normal_tf_(self.rel_pos_h, std=0.02)\n",
        "            trunc_normal_tf_(self.rel_pos_w, std=0.02)\n",
        "\n",
        "        self.residual_pooling = residual_pooling\n",
        "\n",
        "    def forward(self, x, feat_size: List[int]):\n",
        "        B, N, _ = x.shape\n",
        "\n",
        "        fold_dim = 1 if self.unshared else self.num_heads\n",
        "        x = x.reshape(B, N, fold_dim, -1).permute(0, 2, 1, 3)\n",
        "        q = k = v = x\n",
        "\n",
        "        if self.pool_q is not None:\n",
        "            q, q_tok = reshape_pre_pool(q, feat_size, self.has_cls_token)\n",
        "            q = self.pool_q(q)\n",
        "            q, q_size = reshape_post_pool(q, self.num_heads, q_tok)\n",
        "        else:\n",
        "            q_size = feat_size\n",
        "        if self.norm_q is not None:\n",
        "            q = self.norm_q(q)\n",
        "\n",
        "        if self.pool_k is not None:\n",
        "            k, k_tok = reshape_pre_pool(k, feat_size, self.has_cls_token)\n",
        "            k = self.pool_k(k)\n",
        "            k, k_size = reshape_post_pool(k, self.num_heads, k_tok)\n",
        "        else:\n",
        "            k_size = feat_size\n",
        "        if self.norm_k is not None:\n",
        "            k = self.norm_k(k)\n",
        "\n",
        "        if self.pool_v is not None:\n",
        "            v, v_tok = reshape_pre_pool(v, feat_size, self.has_cls_token)\n",
        "            v = self.pool_v(v)\n",
        "            v, v_size = reshape_post_pool(v, self.num_heads, v_tok)\n",
        "        else:\n",
        "            v_size = feat_size\n",
        "        if self.norm_v is not None:\n",
        "            v = self.norm_v(v)\n",
        "\n",
        "        q_N = q_size[0] * q_size[1] + int(self.has_cls_token)\n",
        "        q = q.permute(0, 2, 1, 3).reshape(B, q_N, -1)\n",
        "        q = self.q(q).reshape(B, q_N, self.num_heads, -1).permute(0, 2, 1, 3)\n",
        "\n",
        "        k_N = k_size[0] * k_size[1] + int(self.has_cls_token)\n",
        "        k = k.permute(0, 2, 1, 3).reshape(B, k_N, -1)\n",
        "        k = self.k(k).reshape(B, k_N, self.num_heads, -1).permute(0, 2, 1, 3)\n",
        "\n",
        "        v_N = v_size[0] * v_size[1] + int(self.has_cls_token)\n",
        "        v = v.permute(0, 2, 1, 3).reshape(B, v_N, -1)\n",
        "        v = self.v(v).reshape(B, v_N, self.num_heads, -1).permute(0, 2, 1, 3)\n",
        "\n",
        "        attn = (q * self.scale) @ k.transpose(-2, -1)\n",
        "        if self.rel_pos_type == 'spatial':\n",
        "            attn = cal_rel_pos_type(\n",
        "                attn,\n",
        "                q,\n",
        "                self.has_cls_token,\n",
        "                q_size,\n",
        "                k_size,\n",
        "                self.rel_pos_h,\n",
        "                self.rel_pos_w,\n",
        "            )\n",
        "        attn = attn.softmax(dim=-1)\n",
        "        x = attn @ v\n",
        "\n",
        "        if self.residual_pooling:\n",
        "            x = x + q\n",
        "\n",
        "        x = x.transpose(1, 2).reshape(B, -1, self.dim_out)\n",
        "        x = self.proj(x)\n",
        "\n",
        "        return x, q_size\n",
        "\n",
        "\n",
        "class MultiScaleAttention(nn.Module):\n",
        "    def __init__(\n",
        "            self,\n",
        "            dim,\n",
        "            dim_out,\n",
        "            feat_size,\n",
        "            num_heads=8,\n",
        "            qkv_bias=True,\n",
        "            mode=\"conv\",\n",
        "            kernel_q=(1, 1),\n",
        "            kernel_kv=(1, 1),\n",
        "            stride_q=(1, 1),\n",
        "            stride_kv=(1, 1),\n",
        "            has_cls_token=True,\n",
        "            rel_pos_type='spatial',\n",
        "            residual_pooling=True,\n",
        "            norm_layer=nn.LayerNorm,\n",
        "    ):\n",
        "        super().__init__()\n",
        "        self.num_heads = num_heads\n",
        "        self.dim_out = dim_out\n",
        "        self.head_dim = dim_out // num_heads\n",
        "        self.scale = self.head_dim ** -0.5\n",
        "        self.has_cls_token = has_cls_token\n",
        "        padding_q = tuple([int(q // 2) for q in kernel_q])\n",
        "        padding_kv = tuple([int(kv // 2) for kv in kernel_kv])\n",
        "\n",
        "        self.qkv = nn.Linear(dim, dim_out * 3, bias=qkv_bias)\n",
        "        self.proj = nn.Linear(dim_out, dim_out)\n",
        "\n",
        "        # Skip pooling with kernel and stride size of (1, 1, 1).\n",
        "        if prod(kernel_q) == 1 and prod(stride_q) == 1:\n",
        "            kernel_q = None\n",
        "        if prod(kernel_kv) == 1 and prod(stride_kv) == 1:\n",
        "            kernel_kv = None\n",
        "        self.mode = mode\n",
        "        self.unshared = mode == 'conv_unshared'\n",
        "        self.norm_q, self.norm_k, self.norm_v = None, None, None\n",
        "        self.pool_q, self.pool_k, self.pool_v = None, None, None\n",
        "        if mode in (\"avg\", \"max\"):\n",
        "            pool_op = nn.MaxPool2d if mode == \"max\" else nn.AvgPool2d\n",
        "            if kernel_q:\n",
        "                self.pool_q = pool_op(kernel_q, stride_q, padding_q)\n",
        "            if kernel_kv:\n",
        "                self.pool_k = pool_op(kernel_kv, stride_kv, padding_kv)\n",
        "                self.pool_v = pool_op(kernel_kv, stride_kv, padding_kv)\n",
        "        elif mode == \"conv\" or mode == \"conv_unshared\":\n",
        "            dim_conv = dim_out // num_heads if mode == \"conv\" else dim_out\n",
        "            if kernel_q:\n",
        "                self.pool_q = nn.Conv2d(\n",
        "                    dim_conv,\n",
        "                    dim_conv,\n",
        "                    kernel_q,\n",
        "                    stride=stride_q,\n",
        "                    padding=padding_q,\n",
        "                    groups=dim_conv,\n",
        "                    bias=False,\n",
        "                )\n",
        "                self.norm_q = norm_layer(dim_conv)\n",
        "            if kernel_kv:\n",
        "                self.pool_k = nn.Conv2d(\n",
        "                    dim_conv,\n",
        "                    dim_conv,\n",
        "                    kernel_kv,\n",
        "                    stride=stride_kv,\n",
        "                    padding=padding_kv,\n",
        "                    groups=dim_conv,\n",
        "                    bias=False,\n",
        "                )\n",
        "                self.norm_k = norm_layer(dim_conv)\n",
        "                self.pool_v = nn.Conv2d(\n",
        "                    dim_conv,\n",
        "                    dim_conv,\n",
        "                    kernel_kv,\n",
        "                    stride=stride_kv,\n",
        "                    padding=padding_kv,\n",
        "                    groups=dim_conv,\n",
        "                    bias=False,\n",
        "                )\n",
        "                self.norm_v = norm_layer(dim_conv)\n",
        "        else:\n",
        "            raise NotImplementedError(f\"Unsupported model {mode}\")\n",
        "\n",
        "        # relative pos embedding\n",
        "        self.rel_pos_type = rel_pos_type\n",
        "        if self.rel_pos_type == 'spatial':\n",
        "            assert feat_size[0] == feat_size[1]\n",
        "            size = feat_size[0]\n",
        "            q_size = size // stride_q[1] if len(stride_q) > 0 else size\n",
        "            kv_size = size // stride_kv[1] if len(stride_kv) > 0 else size\n",
        "            rel_sp_dim = 2 * max(q_size, kv_size) - 1\n",
        "\n",
        "            self.rel_pos_h = nn.Parameter(torch.zeros(rel_sp_dim, self.head_dim))\n",
        "            self.rel_pos_w = nn.Parameter(torch.zeros(rel_sp_dim, self.head_dim))\n",
        "            trunc_normal_tf_(self.rel_pos_h, std=0.02)\n",
        "            trunc_normal_tf_(self.rel_pos_w, std=0.02)\n",
        "\n",
        "        self.residual_pooling = residual_pooling\n",
        "\n",
        "    def forward(self, x, feat_size: List[int]):\n",
        "        B, N, _ = x.shape\n",
        "\n",
        "        qkv = self.qkv(x).reshape(B, N, 3, self.num_heads, -1).permute(2, 0, 3, 1, 4)\n",
        "        q, k, v = qkv.unbind(dim=0)\n",
        "\n",
        "        if self.pool_q is not None:\n",
        "            q, q_tok = reshape_pre_pool(q, feat_size, self.has_cls_token)\n",
        "            q = self.pool_q(q)\n",
        "            q, q_size = reshape_post_pool(q, self.num_heads, q_tok)\n",
        "        else:\n",
        "            q_size = feat_size\n",
        "        if self.norm_q is not None:\n",
        "            q = self.norm_q(q)\n",
        "\n",
        "        if self.pool_k is not None:\n",
        "            k, k_tok = reshape_pre_pool(k, feat_size, self.has_cls_token)\n",
        "            k = self.pool_k(k)\n",
        "            k, k_size = reshape_post_pool(k, self.num_heads, k_tok)\n",
        "        else:\n",
        "            k_size = feat_size\n",
        "        if self.norm_k is not None:\n",
        "            k = self.norm_k(k)\n",
        "\n",
        "        if self.pool_v is not None:\n",
        "            v, v_tok = reshape_pre_pool(v, feat_size, self.has_cls_token)\n",
        "            v = self.pool_v(v)\n",
        "            v, _ = reshape_post_pool(v, self.num_heads, v_tok)\n",
        "        if self.norm_v is not None:\n",
        "            v = self.norm_v(v)\n",
        "\n",
        "        attn = (q * self.scale) @ k.transpose(-2, -1)\n",
        "        if self.rel_pos_type == 'spatial':\n",
        "            attn = cal_rel_pos_type(\n",
        "                attn,\n",
        "                q,\n",
        "                self.has_cls_token,\n",
        "                q_size,\n",
        "                k_size,\n",
        "                self.rel_pos_h,\n",
        "                self.rel_pos_w,\n",
        "            )\n",
        "        attn = attn.softmax(dim=-1)\n",
        "        x = attn @ v\n",
        "\n",
        "        if self.residual_pooling:\n",
        "            x = x + q\n",
        "\n",
        "        x = x.transpose(1, 2).reshape(B, -1, self.dim_out)\n",
        "        x = self.proj(x)\n",
        "\n",
        "        return x, q_size\n",
        "\n",
        "\n",
        "class MultiScaleBlock(nn.Module):\n",
        "    def __init__(\n",
        "            self,\n",
        "            dim,\n",
        "            dim_out,\n",
        "            num_heads,\n",
        "            feat_size,\n",
        "            mlp_ratio=4.0,\n",
        "            qkv_bias=True,\n",
        "            drop_path=0.0,\n",
        "            norm_layer=nn.LayerNorm,\n",
        "            kernel_q=(1, 1),\n",
        "            kernel_kv=(1, 1),\n",
        "            stride_q=(1, 1),\n",
        "            stride_kv=(1, 1),\n",
        "            mode=\"conv\",\n",
        "            has_cls_token=True,\n",
        "            expand_attn=False,\n",
        "            pool_first=False,\n",
        "            rel_pos_type='spatial',\n",
        "            residual_pooling=True,\n",
        "    ):\n",
        "        super().__init__()\n",
        "        proj_needed = dim != dim_out\n",
        "        self.dim = dim\n",
        "        self.dim_out = dim_out\n",
        "        self.has_cls_token = has_cls_token\n",
        "\n",
        "        self.norm1 = norm_layer(dim)\n",
        "\n",
        "        self.shortcut_proj_attn = nn.Linear(dim, dim_out) if proj_needed and expand_attn else None\n",
        "        if stride_q and prod(stride_q) > 1:\n",
        "            kernel_skip = [s + 1 if s > 1 else s for s in stride_q]\n",
        "            stride_skip = stride_q\n",
        "            padding_skip = [int(skip // 2) for skip in kernel_skip]\n",
        "            self.shortcut_pool_attn = nn.MaxPool2d(kernel_skip, stride_skip, padding_skip)\n",
        "        else:\n",
        "            self.shortcut_pool_attn = None\n",
        "\n",
        "        att_dim = dim_out if expand_attn else dim\n",
        "        attn_layer = MultiScaleAttentionPoolFirst if pool_first else MultiScaleAttention\n",
        "        self.attn = attn_layer(\n",
        "            dim,\n",
        "            att_dim,\n",
        "            num_heads=num_heads,\n",
        "            feat_size=feat_size,\n",
        "            qkv_bias=qkv_bias,\n",
        "            kernel_q=kernel_q,\n",
        "            kernel_kv=kernel_kv,\n",
        "            stride_q=stride_q,\n",
        "            stride_kv=stride_kv,\n",
        "            norm_layer=norm_layer,\n",
        "            has_cls_token=has_cls_token,\n",
        "            mode=mode,\n",
        "            rel_pos_type=rel_pos_type,\n",
        "            residual_pooling=residual_pooling,\n",
        "        )\n",
        "        self.drop_path1 = DropPath(drop_path) if drop_path > 0.0 else nn.Identity()\n",
        "\n",
        "        self.norm2 = norm_layer(att_dim)\n",
        "        mlp_dim_out = dim_out\n",
        "        self.shortcut_proj_mlp = nn.Linear(dim, dim_out) if proj_needed and not expand_attn else None\n",
        "        self.mlp = Mlp(\n",
        "            in_features=att_dim,\n",
        "            hidden_features=int(att_dim * mlp_ratio),\n",
        "            out_features=mlp_dim_out,\n",
        "        )\n",
        "        self.drop_path2 = DropPath(drop_path) if drop_path > 0.0 else nn.Identity()\n",
        "\n",
        "    def _shortcut_pool(self, x, feat_size: List[int]):\n",
        "        if self.shortcut_pool_attn is None:\n",
        "            return x\n",
        "        if self.has_cls_token:\n",
        "            cls_tok, x = x[:, :1, :], x[:, 1:, :]\n",
        "        else:\n",
        "            cls_tok = None\n",
        "        B, L, C = x.shape\n",
        "        H, W = feat_size\n",
        "        x = x.reshape(B, H, W, C).permute(0, 3, 1, 2).contiguous()\n",
        "        x = self.shortcut_pool_attn(x)\n",
        "        x = x.reshape(B, C, -1).transpose(1, 2)\n",
        "        if cls_tok is not None:\n",
        "            x = torch.cat((cls_tok, x), dim=1)\n",
        "        return x\n",
        "\n",
        "    def forward(self, x, feat_size: List[int]):\n",
        "        x_norm = self.norm1(x)\n",
        "        # NOTE as per the original impl, this seems odd, but shortcut uses un-normalized input if no proj\n",
        "        x_shortcut = x if self.shortcut_proj_attn is None else self.shortcut_proj_attn(x_norm)\n",
        "        x_shortcut = self._shortcut_pool(x_shortcut, feat_size)\n",
        "        x, feat_size_new = self.attn(x_norm, feat_size)\n",
        "        x = x_shortcut + self.drop_path1(x)\n",
        "\n",
        "        x_norm = self.norm2(x)\n",
        "        x_shortcut = x if self.shortcut_proj_mlp is None else self.shortcut_proj_mlp(x_norm)\n",
        "        x = x_shortcut + self.drop_path2(self.mlp(x_norm))\n",
        "        return x, feat_size_new\n",
        "\n",
        "\n",
        "class MultiScaleVitStage(nn.Module):\n",
        "\n",
        "    def __init__(\n",
        "            self,\n",
        "            dim,\n",
        "            dim_out,\n",
        "            depth,\n",
        "            num_heads,\n",
        "            feat_size,\n",
        "            mlp_ratio=4.0,\n",
        "            qkv_bias=True,\n",
        "            mode=\"conv\",\n",
        "            kernel_q=(1, 1),\n",
        "            kernel_kv=(1, 1),\n",
        "            stride_q=(1, 1),\n",
        "            stride_kv=(1, 1),\n",
        "            has_cls_token=True,\n",
        "            expand_attn=False,\n",
        "            pool_first=False,\n",
        "            rel_pos_type='spatial',\n",
        "            residual_pooling=True,\n",
        "            norm_layer=nn.LayerNorm,\n",
        "            drop_path=0.0,\n",
        "    ):\n",
        "        super().__init__()\n",
        "        self.grad_checkpointing = False\n",
        "\n",
        "        self.blocks = nn.ModuleList()\n",
        "        if expand_attn:\n",
        "            out_dims = (dim_out,) * depth\n",
        "        else:\n",
        "            out_dims = (dim,) * (depth - 1) + (dim_out,)\n",
        "\n",
        "        for i in range(depth):\n",
        "            attention_block = MultiScaleBlock(\n",
        "                dim=dim,\n",
        "                dim_out=out_dims[i],\n",
        "                num_heads=num_heads,\n",
        "                feat_size=feat_size,\n",
        "                mlp_ratio=mlp_ratio,\n",
        "                qkv_bias=qkv_bias,\n",
        "                kernel_q=kernel_q,\n",
        "                kernel_kv=kernel_kv,\n",
        "                stride_q=stride_q if i == 0 else (1, 1),\n",
        "                stride_kv=stride_kv,\n",
        "                mode=mode,\n",
        "                has_cls_token=has_cls_token,\n",
        "                pool_first=pool_first,\n",
        "                rel_pos_type=rel_pos_type,\n",
        "                residual_pooling=residual_pooling,\n",
        "                expand_attn=expand_attn,\n",
        "                norm_layer=norm_layer,\n",
        "                drop_path=drop_path[i] if isinstance(drop_path, (list, tuple)) else drop_path,\n",
        "            )\n",
        "            dim = out_dims[i]\n",
        "            self.blocks.append(attention_block)\n",
        "            if i == 0:\n",
        "                feat_size = tuple([size // stride for size, stride in zip(feat_size, stride_q)])\n",
        "\n",
        "        self.feat_size = feat_size\n",
        "\n",
        "    def forward(self, x, feat_size: List[int]):\n",
        "        for blk in self.blocks:\n",
        "            if self.grad_checkpointing and not torch.jit.is_scripting():\n",
        "                x, feat_size = checkpoint.checkpoint(blk, x, feat_size)\n",
        "            else:\n",
        "                x, feat_size = blk(x, feat_size)\n",
        "        return x, feat_size\n",
        "\n",
        "\n",
        "class MultiScaleVit(nn.Module):\n",
        "    \"\"\"\n",
        "    Improved Multiscale Vision Transformers for Classification and Detection\n",
        "    Yanghao Li*, Chao-Yuan Wu*, Haoqi Fan, Karttikeya Mangalam, Bo Xiong, Jitendra Malik,\n",
        "        Christoph Feichtenhofer*\n",
        "    https://arxiv.org/abs/2112.01526\n",
        "\n",
        "    Multiscale Vision Transformers\n",
        "    Haoqi Fan*, Bo Xiong*, Karttikeya Mangalam*, Yanghao Li*, Zhicheng Yan, Jitendra Malik,\n",
        "        Christoph Feichtenhofer*\n",
        "    https://arxiv.org/abs/2104.11227\n",
        "    \"\"\"\n",
        "\n",
        "    def __init__(\n",
        "            self,\n",
        "            cfg: MultiScaleVitCfg,\n",
        "            img_size: Tuple[int, int] = (224, 224),\n",
        "            in_chans: int = 3,\n",
        "            global_pool: str = 'avg',\n",
        "            num_classes: int = 1000,\n",
        "            drop_path_rate: float = 0.,\n",
        "            drop_rate: float = 0.,\n",
        "    ):\n",
        "        super().__init__()\n",
        "        img_size = to_2tuple(img_size)\n",
        "        norm_layer = partial(get_norm_layer(cfg.norm_layer), eps=cfg.norm_eps)\n",
        "        self.num_classes = num_classes\n",
        "        self.drop_rate = drop_rate\n",
        "        self.global_pool = global_pool\n",
        "        self.depths = tuple(cfg.depths)\n",
        "        self.expand_attn = cfg.expand_attn\n",
        "\n",
        "        embed_dim = cfg.embed_dim[0]\n",
        "        self.patch_embed = PatchEmbed(\n",
        "            dim_in=in_chans,\n",
        "            dim_out=embed_dim,\n",
        "            kernel=cfg.patch_kernel,\n",
        "            stride=cfg.patch_stride,\n",
        "            padding=cfg.patch_padding,\n",
        "        )\n",
        "        patch_dims = (img_size[0] // cfg.patch_stride[0], img_size[1] // cfg.patch_stride[1])\n",
        "        num_patches = prod(patch_dims)\n",
        "\n",
        "        if cfg.use_cls_token:\n",
        "            self.cls_token = nn.Parameter(torch.zeros(1, 1, embed_dim))\n",
        "            self.num_prefix_tokens = 1\n",
        "            pos_embed_dim = num_patches + 1\n",
        "        else:\n",
        "            self.num_prefix_tokens = 0\n",
        "            self.cls_token = None\n",
        "            pos_embed_dim = num_patches\n",
        "\n",
        "        if cfg.use_abs_pos:\n",
        "            self.pos_embed = nn.Parameter(torch.zeros(1, pos_embed_dim, embed_dim))\n",
        "        else:\n",
        "            self.pos_embed = None\n",
        "\n",
        "        num_stages = len(cfg.embed_dim)\n",
        "        feat_size = patch_dims\n",
        "        dpr = [x.tolist() for x in torch.linspace(0, drop_path_rate, sum(cfg.depths)).split(cfg.depths)]\n",
        "        self.stages = nn.ModuleList()\n",
        "        for i in range(num_stages):\n",
        "            if cfg.expand_attn:\n",
        "                dim_out = cfg.embed_dim[i]\n",
        "            else:\n",
        "                dim_out = cfg.embed_dim[min(i + 1, num_stages - 1)]\n",
        "            stage = MultiScaleVitStage(\n",
        "                dim=embed_dim,\n",
        "                dim_out=dim_out,\n",
        "                depth=cfg.depths[i],\n",
        "                num_heads=cfg.num_heads[i],\n",
        "                feat_size=feat_size,\n",
        "                mlp_ratio=cfg.mlp_ratio,\n",
        "                qkv_bias=cfg.qkv_bias,\n",
        "                mode=cfg.mode,\n",
        "                pool_first=cfg.pool_first,\n",
        "                expand_attn=cfg.expand_attn,\n",
        "                kernel_q=cfg.kernel_qkv,\n",
        "                kernel_kv=cfg.kernel_qkv,\n",
        "                stride_q=cfg.stride_q[i],\n",
        "                stride_kv=cfg.stride_kv[i],\n",
        "                has_cls_token=cfg.use_cls_token,\n",
        "                rel_pos_type=cfg.rel_pos_type,\n",
        "                residual_pooling=cfg.residual_pooling,\n",
        "                norm_layer=norm_layer,\n",
        "                drop_path=dpr[i],\n",
        "            )\n",
        "            embed_dim = dim_out\n",
        "            feat_size = stage.feat_size\n",
        "            self.stages.append(stage)\n",
        "\n",
        "        self.num_features = embed_dim\n",
        "        self.norm = norm_layer(embed_dim)\n",
        "        self.head = nn.Sequential(OrderedDict([\n",
        "            ('drop', nn.Dropout(self.drop_rate)),\n",
        "            ('fc', nn.Linear(self.num_features, num_classes) if num_classes > 0 else nn.Identity())\n",
        "        ]))\n",
        "\n",
        "        if self.pos_embed is not None:\n",
        "            trunc_normal_tf_(self.pos_embed, std=0.02)\n",
        "        if self.cls_token is not None:\n",
        "            trunc_normal_tf_(self.cls_token, std=0.02)\n",
        "        self.apply(self._init_weights)\n",
        "\n",
        "    def _init_weights(self, m):\n",
        "        if isinstance(m, nn.Linear):\n",
        "            trunc_normal_tf_(m.weight, std=0.02)\n",
        "            if isinstance(m, nn.Linear) and m.bias is not None:\n",
        "                nn.init.constant_(m.bias, 0.0)\n",
        "\n",
        "    @torch.jit.ignore\n",
        "    def no_weight_decay(self):\n",
        "        return {k for k, _ in self.named_parameters()\n",
        "                if any(n in k for n in [\"pos_embed\", \"rel_pos_h\", \"rel_pos_w\", \"cls_token\"])}\n",
        "\n",
        "    @torch.jit.ignore\n",
        "    def group_matcher(self, coarse=False):\n",
        "        matcher = dict(\n",
        "            stem=r'^patch_embed',  # stem and embed\n",
        "            blocks=[(r'^stages\\.(\\d+)', None), (r'^norm', (99999,))]\n",
        "        )\n",
        "        return matcher\n",
        "\n",
        "    @torch.jit.ignore\n",
        "    def set_grad_checkpointing(self, enable=True):\n",
        "        for s in self.stages:\n",
        "            s.grad_checkpointing = enable\n",
        "\n",
        "    @torch.jit.ignore\n",
        "    def get_classifier(self):\n",
        "        return self.head.fc\n",
        "\n",
        "    def reset_classifier(self, num_classes, global_pool=None):\n",
        "        self.num_classes = num_classes\n",
        "        if global_pool is not None:\n",
        "            self.global_pool = global_pool\n",
        "        self.head = nn.Sequential(OrderedDict([\n",
        "            ('drop', nn.Dropout(self.drop_rate)),\n",
        "            ('fc', nn.Linear(self.num_features, num_classes) if num_classes > 0 else nn.Identity())\n",
        "        ]))\n",
        "\n",
        "    def forward_features(self, x):\n",
        "        x, feat_size = self.patch_embed(x)\n",
        "        B, N, C = x.shape\n",
        "\n",
        "        if self.cls_token is not None:\n",
        "            cls_tokens = self.cls_token.expand(B, -1, -1)\n",
        "            x = torch.cat((cls_tokens, x), dim=1)\n",
        "\n",
        "        if self.pos_embed is not None:\n",
        "            x = x + self.pos_embed\n",
        "\n",
        "        for stage in self.stages:\n",
        "            x, feat_size = stage(x, feat_size)\n",
        "\n",
        "        x = self.norm(x)\n",
        "        return x\n",
        "\n",
        "\n",
        "    def forward_head(self, x, pre_logits: bool = False):\n",
        "        if self.global_pool:\n",
        "            if self.global_pool == 'avg':\n",
        "                x = x[:, self.num_prefix_tokens:].mean(1)\n",
        "            else:\n",
        "                x = x[:, 0]\n",
        "        return x if pre_logits else self.head(x)\n",
        "\n",
        "    def forward(self, x):\n",
        "        x = self.forward_features(x)\n",
        "        x = self.forward_head(x)\n",
        "        return x\n",
        "    def get_features(self, x):\n",
        "        x, feat_size = self.patch_embed(x)\n",
        "        B, N, C = x.shape\n",
        "        if self.cls_token is not None:\n",
        "            cls_tokens = self.cls_token.expand(B, -1, -1)\n",
        "            x = torch.cat((cls_tokens, x), dim=1)\n",
        "\n",
        "        if self.pos_embed is not None:\n",
        "            x = x + self.pos_embed\n",
        "        features=[]\n",
        "        # bs,n,f=x.shape\n",
        "        # h = int(n**0.5)\n",
        "        # features= [x.view(-1,h,h,f).permute(0, 3, 1, 2).contiguous()]\n",
        "        for stage in self.stages:\n",
        "            x, feat_size = stage(x, feat_size)\n",
        "            bs,n,f=x.shape\n",
        "            h = int(n**0.5)\n",
        "            features.append(x.view(-1,h,h,f).permute(0, 3, 1, 2).contiguous())\n",
        "        return features\n",
        "\n",
        "\n",
        "def checkpoint_filter_fn(state_dict, model):\n",
        "    if 'stages.0.blocks.0.norm1.weight' in state_dict:\n",
        "        return state_dict\n",
        "\n",
        "    import re\n",
        "    if 'model_state' in state_dict:\n",
        "        state_dict = state_dict['model_state']\n",
        "\n",
        "    depths = getattr(model, 'depths', None)\n",
        "    expand_attn = getattr(model, 'expand_attn', True)\n",
        "    assert depths is not None, 'model requires depth attribute to remap checkpoints'\n",
        "    depth_map = {}\n",
        "    block_idx = 0\n",
        "    for stage_idx, d in enumerate(depths):\n",
        "        depth_map.update({i: (stage_idx, i - block_idx) for i in range(block_idx, block_idx + d)})\n",
        "        block_idx += d\n",
        "\n",
        "    out_dict = {}\n",
        "    for k, v in state_dict.items():\n",
        "        k = re.sub(\n",
        "            r'blocks\\.(\\d+)',\n",
        "            lambda x: f'stages.{depth_map[int(x.group(1))][0]}.blocks.{depth_map[int(x.group(1))][1]}',\n",
        "            k)\n",
        "\n",
        "        if expand_attn:\n",
        "            k = re.sub(r'stages\\.(\\d+).blocks\\.(\\d+).proj', f'stages.\\\\1.blocks.\\\\2.shortcut_proj_attn', k)\n",
        "        else:\n",
        "            k = re.sub(r'stages\\.(\\d+).blocks\\.(\\d+).proj', f'stages.\\\\1.blocks.\\\\2.shortcut_proj_mlp', k)\n",
        "        if 'head' in k:\n",
        "            k = k.replace('head.projection', 'head.fc')\n",
        "        out_dict[k] = v\n",
        "\n",
        "    # for k, v in state_dict.items():\n",
        "    #     if model.pos_embed is not None and k == 'pos_embed' and v.shape[1] != model.pos_embed.shape[1]:\n",
        "    #         # To resize pos embedding when using model at different size from pretrained weights\n",
        "    #         v = resize_pos_embed(\n",
        "    #             v,\n",
        "    #             model.pos_embed,\n",
        "    #             0 if getattr(model, 'no_embed_class') else getattr(model, 'num_prefix_tokens', 1),\n",
        "    #             model.patch_embed.grid_size\n",
        "    #         )\n",
        "\n",
        "    return out_dict\n",
        "\n",
        "\n",
        "def _create_mvitv2(variant, cfg_variant=None, pretrained=False, **kwargs):\n",
        "    return build_model_with_cfg(\n",
        "        MultiScaleVit, variant, pretrained,\n",
        "        model_cfg=model_cfgs[variant] if not cfg_variant else model_cfgs[cfg_variant],\n",
        "        pretrained_filter_fn=checkpoint_filter_fn,\n",
        "        feature_cfg=dict(flatten_sequential=True),\n",
        "        **kwargs)\n",
        "\n",
        "\n",
        "@register_model\n",
        "def mvitv2_tiny(pretrained=False, **kwargs):\n",
        "    return _create_mvitv2('mvitv2_tiny', pretrained=pretrained, **kwargs)\n",
        "\n",
        "\n",
        "@register_model\n",
        "def mvitv2_small(pretrained=False, **kwargs):\n",
        "    return _create_mvitv2('mvitv2_small', pretrained=pretrained, **kwargs)\n",
        "\n",
        "\n",
        "@register_model\n",
        "def mvitv2_base(pretrained=False, **kwargs):\n",
        "    return _create_mvitv2('mvitv2_base', pretrained=pretrained, **kwargs)\n",
        "\n",
        "\n",
        "@register_model\n",
        "def mvitv2_large(pretrained=False, **kwargs):\n",
        "    return _create_mvitv2('mvitv2_large', pretrained=pretrained, **kwargs)\n",
        "\n",
        "@register_model\n",
        "def mvitv2_small_cls(pretrained=False, **kwargs):\n",
        "    return _create_mvitv2('mvitv2_small_cls', pretrained=pretrained, **kwargs)"
      ],
      "metadata": {
        "id": "TBWaDoafpNbb",
        "papermill": {
          "duration": 1.031605,
          "end_time": "2023-04-15T20:04:57.723280",
          "exception": false,
          "start_time": "2023-04-15T20:04:56.691675",
          "status": "completed"
        },
        "tags": [],
        "execution": {
          "iopub.status.busy": "2023-04-17T10:51:24.943163Z",
          "iopub.execute_input": "2023-04-17T10:51:24.943639Z",
          "iopub.status.idle": "2023-04-17T10:51:25.580601Z",
          "shell.execute_reply.started": "2023-04-17T10:51:24.943592Z",
          "shell.execute_reply": "2023-04-17T10:51:25.579452Z"
        },
        "trusted": true
      },
      "execution_count": 26,
      "outputs": [],
      "id": "TBWaDoafpNbb"
    },
    {
      "cell_type": "code",
      "source": [
        "backbone=mvitv2_small(pretrained=True)"
      ],
      "metadata": {
        "id": "dnCCXJHYpYvc",
        "papermill": {
          "duration": 3.575278,
          "end_time": "2023-04-15T20:05:01.315955",
          "exception": false,
          "start_time": "2023-04-15T20:04:57.740677",
          "status": "completed"
        },
        "tags": [],
        "execution": {
          "iopub.status.busy": "2023-04-17T10:51:25.582523Z",
          "iopub.execute_input": "2023-04-17T10:51:25.582873Z",
          "iopub.status.idle": "2023-04-17T10:51:27.065190Z",
          "shell.execute_reply.started": "2023-04-17T10:51:25.582826Z",
          "shell.execute_reply": "2023-04-17T10:51:27.064131Z"
        },
        "trusted": true
      },
      "execution_count": 27,
      "outputs": [],
      "id": "dnCCXJHYpYvc"
    },
    {
      "cell_type": "markdown",
      "source": [
        "##GLSA"
      ],
      "metadata": {
        "id": "EKxP5UK1Ik7H",
        "papermill": {
          "duration": 0.017037,
          "end_time": "2023-04-15T20:05:01.350434",
          "exception": false,
          "start_time": "2023-04-15T20:05:01.333397",
          "status": "completed"
        },
        "tags": []
      },
      "id": "EKxP5UK1Ik7H"
    },
    {
      "cell_type": "code",
      "source": [
        "class ConvBranch(nn.Module):\n",
        "    def __init__(self, in_features, hidden_features = None, out_features = None):\n",
        "        super().__init__()\n",
        "        hidden_features = hidden_features or in_features\n",
        "        out_features = out_features or in_features\n",
        "        self.conv1 = nn.Sequential(\n",
        "            nn.Conv2d(in_features, hidden_features, 1, bias=False),\n",
        "            nn.BatchNorm2d(hidden_features),\n",
        "            nn.ReLU(inplace=True)\n",
        "        )\n",
        "        self.conv2 = nn.Sequential(\n",
        "            nn.Conv2d(hidden_features, hidden_features, 3, padding=1, groups=hidden_features, bias=False),\n",
        "            nn.BatchNorm2d(hidden_features),\n",
        "            nn.ReLU(inplace=True)\n",
        "        )\n",
        "        self.conv3 = nn.Sequential(\n",
        "            nn.Conv2d(hidden_features, hidden_features, 1, bias=False),\n",
        "            nn.BatchNorm2d(hidden_features),\n",
        "            nn.ReLU(inplace=True)\n",
        "        )\n",
        "        self.conv4 = nn.Sequential(\n",
        "            nn.Conv2d(hidden_features, hidden_features, 3, padding=1, groups=hidden_features, bias=False),\n",
        "            nn.BatchNorm2d(hidden_features),\n",
        "            nn.ReLU(inplace=True)\n",
        "        )\n",
        "        self.conv5 = nn.Sequential(\n",
        "            nn.Conv2d(hidden_features, hidden_features, 1, bias=False),\n",
        "            nn.BatchNorm2d(hidden_features),\n",
        "            nn.SiLU(inplace=True)\n",
        "        )\n",
        "        self.conv6 = nn.Sequential(\n",
        "            nn.Conv2d(hidden_features, hidden_features, 3, padding=1, groups=hidden_features, bias=False),\n",
        "            nn.BatchNorm2d(hidden_features),\n",
        "            nn.ReLU(inplace=True)\n",
        "        )\n",
        "        self.conv7 = nn.Sequential(\n",
        "            nn.Conv2d(hidden_features, out_features, 1, bias=False),\n",
        "            nn.ReLU(inplace=True)\n",
        "        )\n",
        "        self.sigmoid_spatial = nn.Sigmoid()\n",
        "\n",
        "    def forward(self, x):\n",
        "        res1 = x\n",
        "        res2 = x\n",
        "        x = self.conv1(x)\n",
        "        x = x + self.conv2(x)\n",
        "        x = self.conv3(x)\n",
        "        x = x + self.conv4(x)\n",
        "        x = self.conv5(x)\n",
        "        x = x + self.conv6(x)\n",
        "        x = self.conv7(x)\n",
        "        x_mask = self.sigmoid_spatial(x)\n",
        "        res1 = res1 * x_mask\n",
        "        return  res1+res2"
      ],
      "metadata": {
        "id": "67N1nobyIn3g",
        "papermill": {
          "duration": 0.034773,
          "end_time": "2023-04-15T20:05:01.402136",
          "exception": false,
          "start_time": "2023-04-15T20:05:01.367363",
          "status": "completed"
        },
        "tags": [],
        "execution": {
          "iopub.status.busy": "2023-04-17T10:51:27.070758Z",
          "iopub.execute_input": "2023-04-17T10:51:27.073113Z",
          "iopub.status.idle": "2023-04-17T10:51:27.091063Z",
          "shell.execute_reply.started": "2023-04-17T10:51:27.073069Z",
          "shell.execute_reply": "2023-04-17T10:51:27.089933Z"
        },
        "trusted": true
      },
      "execution_count": 28,
      "outputs": [],
      "id": "67N1nobyIn3g"
    },
    {
      "cell_type": "code",
      "source": [
        "# class ChannelAttention(nn.Module):\n",
        "#     def __init__(self, in_planes, ratio=16):\n",
        "#         super(ChannelAttention, self).__init__()\n",
        "#         self.avg_pool = nn.AdaptiveAvgPool2d(1)\n",
        "#         self.max_pool = nn.AdaptiveMaxPool2d(1)\n",
        "\n",
        "#         self.fc1   = nn.Conv2d(in_planes, in_planes // 16, 1, bias=False)\n",
        "#         self.relu1 = nn.ReLU()\n",
        "#         self.fc2   = nn.Conv2d(in_planes // 16, in_planes, 1, bias=False)\n",
        "\n",
        "#         self.sigmoid = nn.Sigmoid()\n",
        "\n",
        "#     def forward(self, x):\n",
        "#         avg_out = self.fc2(self.relu1(self.fc1(self.avg_pool(x))))\n",
        "#         max_out = self.fc2(self.relu1(self.fc1(self.max_pool(x))))\n",
        "#         out = avg_out + max_out\n",
        "#         return self.sigmoid(out)"
      ],
      "metadata": {
        "id": "ss39sW5pIqIl",
        "papermill": {
          "duration": 0.027175,
          "end_time": "2023-04-15T20:05:01.446220",
          "exception": false,
          "start_time": "2023-04-15T20:05:01.419045",
          "status": "completed"
        },
        "tags": [],
        "execution": {
          "iopub.status.busy": "2023-04-17T10:51:27.095943Z",
          "iopub.execute_input": "2023-04-17T10:51:27.099012Z",
          "iopub.status.idle": "2023-04-17T10:51:27.106453Z",
          "shell.execute_reply.started": "2023-04-17T10:51:27.098962Z",
          "shell.execute_reply": "2023-04-17T10:51:27.105353Z"
        },
        "trusted": true
      },
      "execution_count": 29,
      "outputs": [],
      "id": "ss39sW5pIqIl"
    },
    {
      "cell_type": "code",
      "source": [
        "class ChannelAttention(nn.Module):\n",
        "    r'''\n",
        "    Global channel attention(GCA)\n",
        "    '''\n",
        "    def __init__(self, kernel_size=1):\n",
        "        super().__init__()\n",
        "        self.gap = nn.AdaptiveAvgPool2d(1)\n",
        "        self.conv_q = nn.Conv1d(1, 1, kernel_size, stride=1, padding=(kernel_size - 1)//2)\n",
        "        self.conv_k = nn.Conv1d(1, 1, kernel_size, stride=1, padding=(kernel_size - 1)//2)\n",
        "        self.softmax = nn.Softmax(dim=1)\n",
        "\n",
        "    def forward(self, feature):\n",
        "        r'''\n",
        "        feature: shape (B, C, H, W)\n",
        "        1. Apply global average pooling(GAP) and squeeze spatial dimensions.\n",
        "        2. Apply 1D convolution of kernel size k and a sigmoid function.\n",
        "        3. Get 1*c query(Q) and key(K).\n",
        "        4. Get value(V) by reshaping feature to hw*c without GAP.\n",
        "        5. Perform the outer product of K and Q, followed by softmax over channels,\n",
        "        and obtain c*c global channel attention map.\n",
        "        Att = softmax(K^TQ)\n",
        "        6. Obtain attention feature map by performing matrix product of V and Att and\n",
        "        reshape back to (B, C, H, W)\n",
        "        '''\n",
        "        b, c, h, w = feature.shape\n",
        "        feature_gap = self.gap(feature).reshape(b, 1, c)  # (b, c, 1, 1) -> (b, 1, c)\n",
        "        query = F.sigmoid(self.conv_q(feature_gap))  # (b, 1, c)\n",
        "        key = F.sigmoid(self.conv_k(feature_gap))  # (b, 1, c)\n",
        "        value = feature.reshape(b, h*w, c)  # (b, h*w, c)\n",
        "        att = torch.matmul(key.transpose(1, 2), query)  # (b, c, c)\n",
        "        att = self.softmax(att)\n",
        "        feature_gc = torch.matmul(value, att)  # (b, h*w, c)\n",
        "        feature_gc = feature_gc.reshape(b, c, h, w)\n",
        "        return feature_gc\n"
      ],
      "metadata": {
        "execution": {
          "iopub.status.busy": "2023-04-17T10:51:27.111443Z",
          "iopub.execute_input": "2023-04-17T10:51:27.114170Z",
          "iopub.status.idle": "2023-04-17T10:51:27.126670Z",
          "shell.execute_reply.started": "2023-04-17T10:51:27.114128Z",
          "shell.execute_reply": "2023-04-17T10:51:27.125629Z"
        },
        "trusted": true,
        "id": "-W3V0jDidICT"
      },
      "execution_count": 30,
      "outputs": [],
      "id": "-W3V0jDidICT"
    },
    {
      "cell_type": "code",
      "source": [
        "class SpatialAttention(nn.Module):\n",
        "    def __init__(self, kernel_size=3):\n",
        "        super(SpatialAttention, self).__init__()\n",
        "\n",
        "        assert kernel_size in (3, 7), 'kernel size must be 3 or 7'\n",
        "        padding = 3 if kernel_size == 7 else 1\n",
        "\n",
        "        self.conv1 = nn.Conv2d(2, 1, kernel_size, padding=padding, bias=False)\n",
        "        self.sigmoid = nn.Sigmoid()\n",
        "\n",
        "    def forward(self, x):\n",
        "        avg_out = torch.mean(x, dim=1, keepdim=True)\n",
        "        max_out, _ = torch.max(x, dim=1, keepdim=True)\n",
        "        x = torch.cat([avg_out, max_out], dim=1)\n",
        "        x = self.conv1(x)\n",
        "        return self.sigmoid(x)"
      ],
      "metadata": {
        "id": "xuX7CltPIsva",
        "papermill": {
          "duration": 0.027248,
          "end_time": "2023-04-15T20:05:01.490295",
          "exception": false,
          "start_time": "2023-04-15T20:05:01.463047",
          "status": "completed"
        },
        "tags": [],
        "execution": {
          "iopub.status.busy": "2023-04-17T10:51:27.131427Z",
          "iopub.execute_input": "2023-04-17T10:51:27.134526Z",
          "iopub.status.idle": "2023-04-17T10:51:27.144744Z",
          "shell.execute_reply.started": "2023-04-17T10:51:27.134487Z",
          "shell.execute_reply": "2023-04-17T10:51:27.143621Z"
        },
        "trusted": true
      },
      "execution_count": 31,
      "outputs": [],
      "id": "xuX7CltPIsva"
    },
    {
      "cell_type": "code",
      "source": [
        "class LocalChannelAttention(nn.Module):\n",
        "    r'''\n",
        "    Local channel attention.\n",
        "    '''\n",
        "    def __init__(self, in_channels, kernel_size=1):\n",
        "        super().__init__()\n",
        "        self.gap = nn.AdaptiveAvgPool2d(1)\n",
        "        self.conv = nn.Conv1d(in_channels, in_channels, kernel_size, padding=(kernel_size - 1)//2)\n",
        "\n",
        "    def forward(self, feature):\n",
        "        r'''\n",
        "        feature: shape (B, C, H, W)\n",
        "        1. Apply global average pooling to reduce tensor to shape (B, C, 1, 1)\n",
        "        '''\n",
        "        b, c, h, w = feature.shape\n",
        "        feature_gap = self.gap(feature)  # (b, c, 1, 1)\n",
        "        feature_lc = self.conv(feature_gap.reshape(b, c, 1)).reshape(b, c, 1, 1)\n",
        "        feature_lc = F.sigmoid(feature_lc)\n",
        "        return feature_lc\n",
        "\n",
        "\n",
        "class LocalSpatialAttention(nn.Module):\n",
        "    r'''\n",
        "    Local spatial attention.\n",
        "    '''\n",
        "    def __init__(self, in_channels, embedding_num):\n",
        "        super().__init__()\n",
        "        self.conv1 = nn.Conv2d(in_channels, embedding_num, 1)\n",
        "        self.conv3 = nn.Conv2d(embedding_num, embedding_num, 3, padding=1, dilation=1)\n",
        "        self.conv5 = nn.Conv2d(embedding_num, embedding_num, 3, padding=2, dilation=2)\n",
        "        self.conv7 = nn.Conv2d(embedding_num, embedding_num, 3, padding=3, dilation=3)\n",
        "        self.conv_ls = nn.Conv2d(4*embedding_num, 1, 1)\n",
        "\n",
        "    def forward(self, feature):\n",
        "        b, c, h, w = feature.shape\n",
        "        f1 = self.conv1(feature)  # (b, c', h, w)\n",
        "        f3 = self.conv3(f1)  # (b, c', h, w)\n",
        "        f5 = self.conv5(f1)  # (b, c', h, w)\n",
        "        f7 = self.conv7(f1)  # (b, c', h, w)\n",
        "        fea_concat = torch.cat((f1, f3, f5, f7), 1)  # (b, 4c', h, w)\n",
        "        feature_ls = self.conv_ls(fea_concat)  # (b, 1, h, w)\n",
        "        return feature_ls\n",
        "\n",
        "\n",
        "class LocalAttention(nn.Module):\n",
        "    r'''\n",
        "    Local attention module.\n",
        "    '''\n",
        "    def __init__(self, in_channels, embedding_num, kernel_size=1):\n",
        "        super().__init__()\n",
        "        self.lca = LocalChannelAttention(in_channels, kernel_size=kernel_size)\n",
        "        self.lsa = LocalSpatialAttention(in_channels, embedding_num)\n",
        "\n",
        "    def forward(self, feature):\n",
        "        att_c = self.lca(feature)  # (b, c, 1, 1)\n",
        "        att_s = self.lsa(feature)  # (b, 1, h, w)\n",
        "        feature_lc = feature * att_c + feature  # (b, c, h, w)\n",
        "        feature_local = feature_lc * att_s + feature_lc  # (b, c, h, w)\n",
        "        return feature_local\n",
        "\n"
      ],
      "metadata": {
        "papermill": {
          "duration": 0.033054,
          "end_time": "2023-04-15T20:05:01.540062",
          "exception": false,
          "start_time": "2023-04-15T20:05:01.507008",
          "status": "completed"
        },
        "tags": [],
        "execution": {
          "iopub.status.busy": "2023-04-17T10:51:27.149603Z",
          "iopub.execute_input": "2023-04-17T10:51:27.152595Z",
          "iopub.status.idle": "2023-04-17T10:51:27.172531Z",
          "shell.execute_reply.started": "2023-04-17T10:51:27.152559Z",
          "shell.execute_reply": "2023-04-17T10:51:27.170902Z"
        },
        "trusted": true,
        "id": "c7DbU35idICT"
      },
      "execution_count": 32,
      "outputs": [],
      "id": "c7DbU35idICT"
    },
    {
      "cell_type": "code",
      "source": [
        "class ChannelPool(nn.Module):\n",
        "    def __init__(self):\n",
        "      super(ChannelPool,self).__init__()\n",
        "    def forward(self, x):\n",
        "        return torch.cat( [torch.max(x,1)[0].unsqueeze(1), torch.mean(x,1).unsqueeze(1)], dim=1 )"
      ],
      "metadata": {
        "id": "RS_B8JnyIuBO",
        "papermill": {
          "duration": 0.028788,
          "end_time": "2023-04-15T20:05:01.585729",
          "exception": false,
          "start_time": "2023-04-15T20:05:01.556941",
          "status": "completed"
        },
        "tags": [],
        "execution": {
          "iopub.status.busy": "2023-04-17T10:51:27.177710Z",
          "iopub.execute_input": "2023-04-17T10:51:27.183527Z",
          "iopub.status.idle": "2023-04-17T10:51:27.192917Z",
          "shell.execute_reply.started": "2023-04-17T10:51:27.183431Z",
          "shell.execute_reply": "2023-04-17T10:51:27.191244Z"
        },
        "trusted": true
      },
      "execution_count": 33,
      "outputs": [],
      "id": "RS_B8JnyIuBO"
    },
    {
      "cell_type": "code",
      "source": [
        "class Context_block(nn.Module):\n",
        "  def __init__(self,c_in):\n",
        "    super(Context_block,self).__init__()\n",
        "    self.ca = ChannelAttention(3)\n",
        "    self.conv_3x3 = nn.Conv2d(c_in,c_in,kernel_size=3,padding=1,stride=1)\n",
        "    self.sa = SpatialAttention()\n",
        "    self.out_layer = nn.Conv2d(2*c_in,c_in,kernel_size=3,padding=1)\n",
        "\n",
        "  def forward(self,x):\n",
        "    #Channel attention\n",
        "    b,c,h,w = x.shape\n",
        "    out_channel = self.ca(x)\n",
        "    #Convolution\n",
        "    out_conv    = self.conv_3x3(x)\n",
        "    #Spatial attention\n",
        "    out_spatial = self.sa(x) * x\n",
        "\n",
        "    out1 = out_conv * out_channel\n",
        "    out2 = out_conv * out_spatial\n",
        "    out  = torch.cat([out1,out2],dim=1)\n",
        "    out  = self.out_layer(out)\n",
        "    return out"
      ],
      "metadata": {
        "id": "73WV9xQFIvJc",
        "papermill": {
          "duration": 0.030119,
          "end_time": "2023-04-15T20:05:01.633341",
          "exception": false,
          "start_time": "2023-04-15T20:05:01.603222",
          "status": "completed"
        },
        "tags": [],
        "execution": {
          "iopub.status.busy": "2023-04-17T10:51:27.198150Z",
          "iopub.execute_input": "2023-04-17T10:51:27.200629Z",
          "iopub.status.idle": "2023-04-17T10:51:27.213322Z",
          "shell.execute_reply.started": "2023-04-17T10:51:27.200594Z",
          "shell.execute_reply": "2023-04-17T10:51:27.211947Z"
        },
        "trusted": true
      },
      "execution_count": 34,
      "outputs": [],
      "id": "73WV9xQFIvJc"
    },
    {
      "cell_type": "code",
      "source": [
        "class GLSA(nn.Module):\n",
        "    def __init__(self, input_dim=512, embed_dim=32, k_s=3):\n",
        "        super().__init__()\n",
        "\n",
        "        self.conv1_1 = BasicConv2d(embed_dim*2,embed_dim, 1)\n",
        "        self.local_11conv = nn.Conv2d(input_dim//2,embed_dim,1)\n",
        "        self.global_11conv = nn.Conv2d(input_dim//2,embed_dim,1)\n",
        "        self.GlobelBlock = Context_block(embed_dim)\n",
        "        self.local = LocalAttention(embed_dim,  embed_dim,3)\n",
        "\n",
        "    def forward(self, x):\n",
        "        b, c, h, w = x.size()\n",
        "        x_0, x_1 = x.chunk(2,dim = 1)\n",
        "\n",
        "    # local block\n",
        "        local = self.local(self.local_11conv(x_0))\n",
        "\n",
        "    # Globel block\n",
        "        Globel = self.GlobelBlock(self.global_11conv(x_1))\n",
        "\n",
        "    # concat Globel + local\n",
        "        x = torch.cat([local,Globel], dim=1)\n",
        "        x = self.conv1_1(x)\n",
        "\n",
        "        return x"
      ],
      "metadata": {
        "id": "TOZ6pdYWIw8_",
        "papermill": {
          "duration": 0.029368,
          "end_time": "2023-04-15T20:05:01.680619",
          "exception": false,
          "start_time": "2023-04-15T20:05:01.651251",
          "status": "completed"
        },
        "tags": [],
        "execution": {
          "iopub.status.busy": "2023-04-17T10:51:27.219012Z",
          "iopub.execute_input": "2023-04-17T10:51:27.221830Z",
          "iopub.status.idle": "2023-04-17T10:51:27.233762Z",
          "shell.execute_reply.started": "2023-04-17T10:51:27.221795Z",
          "shell.execute_reply": "2023-04-17T10:51:27.232315Z"
        },
        "trusted": true
      },
      "execution_count": 35,
      "outputs": [],
      "id": "TOZ6pdYWIw8_"
    },
    {
      "cell_type": "markdown",
      "source": [
        "##ResBlock"
      ],
      "metadata": {
        "id": "hy8DXzvgIz3-",
        "papermill": {
          "duration": 0.016603,
          "end_time": "2023-04-15T20:05:01.714253",
          "exception": false,
          "start_time": "2023-04-15T20:05:01.697650",
          "status": "completed"
        },
        "tags": []
      },
      "id": "hy8DXzvgIz3-"
    },
    {
      "cell_type": "code",
      "source": [
        "class RB(nn.Module):\n",
        "    def __init__(self, in_channels, out_channels):\n",
        "        super().__init__()\n",
        "\n",
        "        self.in_layers = nn.Sequential(\n",
        "            nn.Conv2d(in_channels, out_channels, kernel_size=3, padding=1),\n",
        "            nn.GroupNorm(32, out_channels),\n",
        "            nn.SiLU(),\n",
        "        )\n",
        "\n",
        "        self.out_layers = nn.Sequential(\n",
        "            nn.Conv2d(out_channels, out_channels, kernel_size=3, padding=1),\n",
        "            nn.GroupNorm(32, out_channels),\n",
        "            nn.SiLU(),\n",
        "        )\n",
        "\n",
        "        if out_channels == in_channels:\n",
        "            self.skip = nn.Identity()\n",
        "        else:\n",
        "            self.skip = nn.Conv2d(in_channels, out_channels, kernel_size=1)\n",
        "\n",
        "    def forward(self, x):\n",
        "        h = self.in_layers(x)\n",
        "        h = self.out_layers(h)\n",
        "        return h + self.skip(x)"
      ],
      "metadata": {
        "id": "XgK8ZVAWI0ex",
        "papermill": {
          "duration": 0.027688,
          "end_time": "2023-04-15T20:05:01.758690",
          "exception": false,
          "start_time": "2023-04-15T20:05:01.731002",
          "status": "completed"
        },
        "tags": [],
        "execution": {
          "iopub.status.busy": "2023-04-17T10:51:27.242592Z",
          "iopub.execute_input": "2023-04-17T10:51:27.246962Z",
          "iopub.status.idle": "2023-04-17T10:51:27.259048Z",
          "shell.execute_reply.started": "2023-04-17T10:51:27.246927Z",
          "shell.execute_reply": "2023-04-17T10:51:27.257209Z"
        },
        "trusted": true
      },
      "execution_count": 36,
      "outputs": [],
      "id": "XgK8ZVAWI0ex"
    },
    {
      "cell_type": "markdown",
      "source": [
        "##SBA"
      ],
      "metadata": {
        "id": "J-BiB2R5I7bQ",
        "papermill": {
          "duration": 0.016629,
          "end_time": "2023-04-15T20:05:01.835295",
          "exception": false,
          "start_time": "2023-04-15T20:05:01.818666",
          "status": "completed"
        },
        "tags": []
      },
      "id": "J-BiB2R5I7bQ"
    },
    {
      "cell_type": "code",
      "source": [
        "class BasicConv2d(nn.Module):\n",
        "    def __init__(self, in_planes, out_planes, kernel_size, stride=1, padding=0, dilation=1):\n",
        "        super(BasicConv2d, self).__init__()\n",
        "\n",
        "        self.conv = nn.Conv2d(in_planes, out_planes,\n",
        "                              kernel_size=kernel_size, stride=stride,\n",
        "                              padding=padding, dilation=dilation, bias=False)\n",
        "        self.bn = nn.BatchNorm2d(out_planes)\n",
        "        self.relu = nn.ReLU(inplace=True)\n",
        "\n",
        "    def forward(self, x):\n",
        "        x = self.conv(x)\n",
        "        x = self.bn(x)\n",
        "        x = self.relu(x)\n",
        "        return x"
      ],
      "metadata": {
        "id": "_5rA5ts4I749",
        "papermill": {
          "duration": 0.026249,
          "end_time": "2023-04-15T20:05:01.878288",
          "exception": false,
          "start_time": "2023-04-15T20:05:01.852039",
          "status": "completed"
        },
        "tags": [],
        "execution": {
          "iopub.status.busy": "2023-04-17T10:51:27.292522Z",
          "iopub.execute_input": "2023-04-17T10:51:27.295555Z",
          "iopub.status.idle": "2023-04-17T10:51:27.307066Z",
          "shell.execute_reply.started": "2023-04-17T10:51:27.295510Z",
          "shell.execute_reply": "2023-04-17T10:51:27.305961Z"
        },
        "trusted": true
      },
      "execution_count": 37,
      "outputs": [],
      "id": "_5rA5ts4I749"
    },
    {
      "cell_type": "code",
      "source": [
        "def Upsample(x, size, align_corners = False):\n",
        "    \"\"\"\n",
        "    Wrapper Around the Upsample Call\n",
        "    \"\"\"\n",
        "    return nn.functional.interpolate(x, size=size, mode='bilinear', align_corners=align_corners)"
      ],
      "metadata": {
        "id": "lnp2vkPQI_5p",
        "papermill": {
          "duration": 0.025102,
          "end_time": "2023-04-15T20:05:01.920005",
          "exception": false,
          "start_time": "2023-04-15T20:05:01.894903",
          "status": "completed"
        },
        "tags": [],
        "execution": {
          "iopub.status.busy": "2023-04-17T10:51:27.308308Z",
          "iopub.execute_input": "2023-04-17T10:51:27.312654Z",
          "iopub.status.idle": "2023-04-17T10:51:27.328160Z",
          "shell.execute_reply.started": "2023-04-17T10:51:27.312614Z",
          "shell.execute_reply": "2023-04-17T10:51:27.326116Z"
        },
        "trusted": true
      },
      "execution_count": 38,
      "outputs": [],
      "id": "lnp2vkPQI_5p"
    },
    {
      "cell_type": "code",
      "source": [
        "class SBA(nn.Module):\n",
        "\n",
        "    def __init__(self,input_dim = 64):\n",
        "        super().__init__()\n",
        "\n",
        "        self.input_dim = input_dim\n",
        "\n",
        "        self.d_in1 = BasicConv2d(input_dim//2, input_dim//2, 1)\n",
        "        self.d_in2 = BasicConv2d(input_dim//2, input_dim//2, 1)\n",
        "\n",
        "\n",
        "        self.conv = nn.Sequential(BasicConv2d(input_dim, input_dim, 3,1,1), nn.Conv2d(input_dim, 1, kernel_size=1, bias=False))\n",
        "        self.fc1 = nn.Conv2d(input_dim, input_dim//2, kernel_size=1, bias=False)\n",
        "        self.fc2 = nn.Conv2d(input_dim, input_dim//2, kernel_size=1, bias=False)\n",
        "\n",
        "        self.Sigmoid = nn.Sigmoid()\n",
        "\n",
        "    def forward(self, H_feature, L_feature):\n",
        "\n",
        "        L_feature = self.fc1(L_feature)\n",
        "        H_feature = self.fc2(H_feature)\n",
        "\n",
        "        g_L_feature =  self.Sigmoid(L_feature)\n",
        "        g_H_feature = self.Sigmoid(H_feature)\n",
        "\n",
        "        L_feature = self.d_in1(L_feature)\n",
        "        H_feature = self.d_in2(H_feature)\n",
        "\n",
        "\n",
        "        L_feature = L_feature + L_feature * g_L_feature + (1 - g_L_feature) * Upsample(g_H_feature * H_feature, size= L_feature.size()[2:], align_corners=False)\n",
        "        H_feature = H_feature + H_feature * g_H_feature + (1 - g_H_feature) * Upsample(g_L_feature * L_feature, size= H_feature.size()[2:], align_corners=False)\n",
        "\n",
        "        H_feature = Upsample(H_feature, size = L_feature.size()[2:])\n",
        "        out = self.conv(torch.cat([H_feature,L_feature], dim=1))\n",
        "        return out\n",
        ""
      ],
      "metadata": {
        "id": "xMAhCMZOJA_f",
        "papermill": {
          "duration": 0.034499,
          "end_time": "2023-04-15T20:05:01.971257",
          "exception": false,
          "start_time": "2023-04-15T20:05:01.936758",
          "status": "completed"
        },
        "tags": [],
        "execution": {
          "iopub.status.busy": "2023-04-17T10:51:27.348616Z",
          "iopub.execute_input": "2023-04-17T10:51:27.350505Z",
          "iopub.status.idle": "2023-04-17T10:51:27.373039Z",
          "shell.execute_reply.started": "2023-04-17T10:51:27.350454Z",
          "shell.execute_reply": "2023-04-17T10:51:27.371779Z"
        },
        "trusted": true
      },
      "execution_count": 39,
      "outputs": [],
      "id": "xMAhCMZOJA_f"
    },
    {
      "cell_type": "markdown",
      "source": [
        "##Mvit model"
      ],
      "metadata": {
        "id": "oUN3zLl5qCed",
        "papermill": {
          "duration": 0.016793,
          "end_time": "2023-04-15T20:05:02.107648",
          "exception": false,
          "start_time": "2023-04-15T20:05:02.090855",
          "status": "completed"
        },
        "tags": []
      },
      "id": "oUN3zLl5qCed"
    },
    {
      "cell_type": "code",
      "source": [
        "class Mvit_Net(nn.Module):\n",
        "\n",
        "    def __init__(self,backbone,dims=(96,96*2,96*4,96*8),depths=(14,28,56,56)):\n",
        "        super(Mvit_Net, self).__init__()\n",
        "\n",
        "        # Backbone\n",
        "        self.backbone = backbone\n",
        "\n",
        "        self.sba = SBA(32)\n",
        "        #attention\n",
        "        self.attention0=GLSA(dims[0])\n",
        "        self.attention1=GLSA(dims[1])\n",
        "        self.attention2=GLSA(dims[2])\n",
        "        self.attention3=GLSA(dims[3])\n",
        "\n",
        "        # go through LP Header\n",
        "        self.conv = BasicConv2d(96,32,3,1,1)\n",
        "        self.linear_fuse=BasicConv2d(64,32,1)\n",
        "        self.RB = nn.Sequential(\n",
        "                RB(64, 32), RB(32, 32))\n",
        "\n",
        "        self.Multi = nn.ModuleList([])\n",
        "        for i in range(4):\n",
        "          self.Multi.append(nn.Sequential(\n",
        "                    RB([32, 96,96 , 512][i], [64,64,64,64][i]), RB(64, 64))\n",
        "                           )\n",
        "        self.Up=nn.Upsample(size=224)\n",
        "        self.Near = nn.Sequential(\n",
        "                RB(96, 64), RB(64, 64))\n",
        "        self.End=  nn.Sequential(\n",
        "                RB(64, 64), RB(64, 64), nn.Conv2d(64, 1, kernel_size=1)\n",
        "            )\n",
        "    def forward(self, x):\n",
        "\n",
        "        ##################  Go through backbone ###################\n",
        "        pyramid=self.backbone.get_features(x)\n",
        "        pyramid0=pyramid[0]\n",
        "        pyramid1=self.attention1(pyramid[1])\n",
        "        pyramid2=self.attention2(pyramid[2])\n",
        "        pyramid3=self.attention3(pyramid[3])\n",
        "\n",
        "        py3=pyramid3\n",
        "        py2=pyramid2\n",
        "        py1=pyramid1\n",
        "        py0=self.conv(pyramid0)\n",
        "\n",
        "        py3mix=self.Multi[0](py3)\n",
        "        py2mix=self.Multi[1](torch.cat((F.interpolate(py3mix,scale_factor=2,mode='bilinear', align_corners=False),\n",
        "                             py2),dim=1))\n",
        "        py1mix=self.Multi[2](torch.cat((F.interpolate(py2mix,scale_factor=2,mode='bilinear', align_corners=False),\n",
        "                             py1),dim=1))\n",
        "\n",
        "        cfm_feature = torch.cat((F.interpolate(py1mix,scale_factor=2,mode='bilinear', align_corners=False),\n",
        "                             py0),dim=1)\n",
        "\n",
        "        ##SBA###\n",
        "        feature_h = F.interpolate(py2mix,scale_factor=2,mode='bilinear', align_corners=False)\n",
        "        feature_h =self.linear_fuse(feature_h)\n",
        "        output = self.sba(feature_h,py0)\n",
        "        out2=self.Up(output)\n",
        "\n",
        "        ##output##\n",
        "        out1=self.Near(cfm_feature)\n",
        "        out1=self.End(out1)\n",
        "        out1 = F.interpolate(out1,scale_factor=4,mode='bilinear', align_corners=False)\n",
        "        return out1,out2"
      ],
      "metadata": {
        "id": "DmQldtw9qHyC",
        "papermill": {
          "duration": 0.036865,
          "end_time": "2023-04-15T20:05:02.162361",
          "exception": false,
          "start_time": "2023-04-15T20:05:02.125496",
          "status": "completed"
        },
        "tags": [],
        "execution": {
          "iopub.status.busy": "2023-04-17T10:51:27.423133Z",
          "iopub.execute_input": "2023-04-17T10:51:27.423588Z",
          "iopub.status.idle": "2023-04-17T10:51:27.446500Z",
          "shell.execute_reply.started": "2023-04-17T10:51:27.423545Z",
          "shell.execute_reply": "2023-04-17T10:51:27.445424Z"
        },
        "trusted": true
      },
      "execution_count": 40,
      "outputs": [],
      "id": "DmQldtw9qHyC"
    },
    {
      "cell_type": "code",
      "source": [
        "device = torch.device('cuda' if torch.cuda.is_available() else 'cpu')\n",
        "print(device)\n",
        "model = Mvit_Net(backbone)\n",
        "model = model.to(device)"
      ],
      "metadata": {
        "id": "_x_8Rv2eqJ3S",
        "outputId": "7383dd77-f564-4280-c5b7-694688824b09",
        "papermill": {
          "duration": 2.751899,
          "end_time": "2023-04-15T20:05:04.931102",
          "exception": false,
          "start_time": "2023-04-15T20:05:02.179203",
          "status": "completed"
        },
        "tags": [],
        "execution": {
          "iopub.status.busy": "2023-04-17T10:51:27.448924Z",
          "iopub.execute_input": "2023-04-17T10:51:27.450102Z",
          "iopub.status.idle": "2023-04-17T10:51:28.837805Z",
          "shell.execute_reply.started": "2023-04-17T10:51:27.450064Z",
          "shell.execute_reply": "2023-04-17T10:51:28.836743Z"
        },
        "trusted": true,
        "colab": {
          "base_uri": "https://localhost:8080/"
        }
      },
      "execution_count": 41,
      "outputs": [
        {
          "output_type": "stream",
          "name": "stdout",
          "text": [
            "cuda\n"
          ]
        }
      ],
      "id": "_x_8Rv2eqJ3S"
    },
    {
      "cell_type": "code",
      "source": [
        "def count_parameters(model):\n",
        "    return sum(p.numel() for p in model.parameters() if p.requires_grad)\n",
        "num_param=count_parameters(model)\n",
        "num_param"
      ],
      "metadata": {
        "id": "S3xo5NGsqMeh",
        "outputId": "8ebf69d4-e29b-4188-d1e3-1dc85a841a1d",
        "papermill": {
          "duration": 0.03028,
          "end_time": "2023-04-15T20:05:04.984031",
          "exception": false,
          "start_time": "2023-04-15T20:05:04.953751",
          "status": "completed"
        },
        "tags": [],
        "execution": {
          "iopub.status.busy": "2023-04-17T10:51:28.839736Z",
          "iopub.execute_input": "2023-04-17T10:51:28.840176Z",
          "iopub.status.idle": "2023-04-17T10:51:28.851107Z",
          "shell.execute_reply.started": "2023-04-17T10:51:28.840136Z",
          "shell.execute_reply": "2023-04-17T10:51:28.850074Z"
        },
        "trusted": true,
        "colab": {
          "base_uri": "https://localhost:8080/"
        }
      },
      "execution_count": 42,
      "outputs": [
        {
          "output_type": "execute_result",
          "data": {
            "text/plain": [
              "36491253"
            ]
          },
          "metadata": {},
          "execution_count": 42
        }
      ],
      "id": "S3xo5NGsqMeh"
    },
    {
      "cell_type": "markdown",
      "source": [
        "# Training"
      ],
      "metadata": {
        "id": "xUixOIO84pbz",
        "papermill": {
          "duration": 0.017301,
          "end_time": "2023-04-15T20:05:05.018299",
          "exception": false,
          "start_time": "2023-04-15T20:05:05.000998",
          "status": "completed"
        },
        "tags": []
      },
      "id": "xUixOIO84pbz"
    },
    {
      "cell_type": "code",
      "source": [
        "from torch.cuda import amp\n",
        "scaler = amp.GradScaler()"
      ],
      "metadata": {
        "id": "TQkXtLgsiiSI",
        "papermill": {
          "duration": 0.024787,
          "end_time": "2023-04-15T20:05:05.060024",
          "exception": false,
          "start_time": "2023-04-15T20:05:05.035237",
          "status": "completed"
        },
        "tags": [],
        "execution": {
          "iopub.status.busy": "2023-04-17T10:51:28.852717Z",
          "iopub.execute_input": "2023-04-17T10:51:28.853548Z",
          "iopub.status.idle": "2023-04-17T10:51:28.860924Z",
          "shell.execute_reply.started": "2023-04-17T10:51:28.853494Z",
          "shell.execute_reply": "2023-04-17T10:51:28.859884Z"
        },
        "trusted": true
      },
      "execution_count": 43,
      "outputs": [],
      "id": "TQkXtLgsiiSI"
    },
    {
      "cell_type": "code",
      "source": [
        "from collections import defaultdict\n",
        "import torch.nn.functional as F\n",
        "from tqdm import tqdm\n",
        "\n",
        "\n",
        "def print_metrics(metrics, epoch_samples, phase):\n",
        "    outputs = []\n",
        "    for k in metrics.keys():\n",
        "        if k =='iou' or k == 'dice_coef':\n",
        "          outputs.append(\"{}: {:4f}\".format(k, metrics[k]))\n",
        "        else:\n",
        "          outputs.append(\"{}: {:4f}\".format(k, metrics[k] / epoch_samples))\n",
        "\n",
        "\n",
        "    print(\"{}: {}\".format(phase, \", \".join(outputs)))\n",
        "\n",
        "\n",
        "def train_model(model, optimizer, scheduler, history, patience, num_epochs=25):\n",
        "\n",
        "    best_model_wts = copy.deepcopy(model.state_dict())\n",
        "    best_loss = 1e10\n",
        "    counter = 0\n",
        "    best_dice = [0,0,0,0,0]\n",
        "\n",
        "    for epoch in range(num_epochs):\n",
        "        print('Epoch {}/{}'.format(epoch+1, num_epochs))\n",
        "        print('-' * 10)\n",
        "\n",
        "        since = time.time()\n",
        "\n",
        "        # Each epoch has a training and validation phase\n",
        "        for phase in ['train', 'val', 'test_1', 'test_2', 'test_3', 'test_4', 'test_5']:\n",
        "            if phase == 'train':\n",
        "                scheduler.step()\n",
        "                for param_group in optimizer.param_groups:\n",
        "                    print(\"LR\", param_group['lr'])\n",
        "\n",
        "                model.train()  # Set model to training mode\n",
        "            else:\n",
        "                model.eval()   # Set model to evaluate mode\n",
        "\n",
        "            metrics = defaultdict(float)\n",
        "            epoch_samples = 0\n",
        "            dice = 0\n",
        "            iou = 0\n",
        "            for inputs, labels in tqdm(dataloaders[phase]):\n",
        "                labels = np.asarray(labels)\n",
        "                labels = algin_mask(labels)\n",
        "                labels = torch.tensor(labels)\n",
        "                inputs = inputs.permute(0, 3, 1, 2).float().to(device)\n",
        "                labels = labels.unsqueeze(1).float().to(device)\n",
        "\n",
        "                # zero the parameter gradients\n",
        "                optimizer.zero_grad()\n",
        "\n",
        "                # forward\n",
        "                # track history if only in train\n",
        "                with torch.set_grad_enabled(phase == 'train'):\n",
        "                    outputs,outputs1 = model(inputs)\n",
        "                    loss = calc_loss(outputs, outputs1,labels, metrics)\n",
        "                    dice += dice_coef(outputs, labels)\n",
        "                    iou += iou_score(outputs, labels)\n",
        "\n",
        "                    # backward + optimize only if in training phase\n",
        "                    if phase == 'train':\n",
        "                        scaler.scale(loss).backward()\n",
        "                        scaler.step(optimizer)\n",
        "                        scaler.update()\n",
        "\n",
        "                # statistics\n",
        "                epoch_samples += inputs.size(0)\n",
        "            metrics['iou'] = iou/len(dataloaders[phase])\n",
        "            metrics['dice_coef'] = dice/len(dataloaders[phase])\n",
        "            print_metrics(metrics, epoch_samples, phase)\n",
        "            epoch_loss = metrics['loss'] / epoch_samples\n",
        "\n",
        "            # deep copy the model\n",
        "            history['dice_coef'][phase].append(dice/len(dataloaders[phase]))\n",
        "            history['iou'][phase].append(iou/len(dataloaders[phase]))\n",
        "            history['loss'][phase].append(epoch_loss)\n",
        "\n",
        "            if phase == 'val':\n",
        "\n",
        "                if epoch_loss < best_loss:\n",
        "                    print(\"saving best model\")\n",
        "                    best_loss = epoch_loss\n",
        "                    best_model_wts = copy.deepcopy(model.state_dict())\n",
        "                    counter = 0\n",
        "                else:\n",
        "                  counter = counter + 1\n",
        "            if phase == 'test_1':\n",
        "                if dice/len(dataloaders[phase]) > best_dice[0]:\n",
        "                    best_dice[0] = dice/len(dataloaders[phase])\n",
        "                    print('save best weight of kvasir')\n",
        "                    torch.save(model.state_dict(),'kvasir.pt')\n",
        "            if phase == 'test_2':\n",
        "                if dice/len(dataloaders[phase]) > best_dice[1]:\n",
        "                    best_dice[1] = dice/len(dataloaders[phase])\n",
        "                    print('save best weight of etis')\n",
        "                    torch.save(model.state_dict(),'etis.pt')\n",
        "            if phase == 'test_3':\n",
        "                if dice/len(dataloaders[phase]) > best_dice[2]:\n",
        "                    best_dice[2] = dice/len(dataloaders[phase])\n",
        "                    print('save best weight of clonDB')\n",
        "                    torch.save(model.state_dict(),'ClonDB.pt')\n",
        "            if phase == 'test_4':\n",
        "                if dice/len(dataloaders[phase]) > best_dice[3]:\n",
        "                    best_dice[3] = dice/len(dataloaders[phase])\n",
        "                    print('save best weight of clinDB')\n",
        "                    torch.save(model.state_dict(),'ClinDB.pt')\n",
        "            if phase == 'test_5':\n",
        "                if dice/len(dataloaders[phase]) > best_dice[4]:\n",
        "                    best_dice[4] = dice/len(dataloaders[phase])\n",
        "                    print('save best weight of CVC-300')\n",
        "                    torch.save(model.state_dict(),'CVC300.pt')\n",
        "        time_elapsed = time.time() - since\n",
        "        print('{:.0f}m {:.0f}s'.format(time_elapsed // 60, time_elapsed % 60))\n",
        "        if counter > patience:\n",
        "                  break\n",
        "    print('Best val loss: {:4f}'.format(best_loss))\n",
        "\n",
        "    # load best model weights\n",
        "    model.load_state_dict(best_model_wts)\n",
        "    return model, history\n"
      ],
      "metadata": {
        "id": "WiviKXaD5hy0",
        "papermill": {
          "duration": 0.043427,
          "end_time": "2023-04-15T20:05:05.120525",
          "exception": false,
          "start_time": "2023-04-15T20:05:05.077098",
          "status": "completed"
        },
        "tags": [],
        "execution": {
          "iopub.status.busy": "2023-04-17T10:51:28.862749Z",
          "iopub.execute_input": "2023-04-17T10:51:28.863188Z",
          "iopub.status.idle": "2023-04-17T10:51:28.888554Z",
          "shell.execute_reply.started": "2023-04-17T10:51:28.863146Z",
          "shell.execute_reply": "2023-04-17T10:51:28.887456Z"
        },
        "trusted": true
      },
      "execution_count": 44,
      "outputs": [],
      "id": "WiviKXaD5hy0"
    },
    {
      "cell_type": "code",
      "source": [
        "device = torch.device(\"cuda:0\" if torch.cuda.is_available() else \"cpu\")\n",
        "print(device)\n",
        "\n",
        "#num_class = 1\n",
        "\n",
        "model = model.to(device)"
      ],
      "metadata": {
        "id": "l99GbxfD1TXS",
        "outputId": "565eab07-b7ac-4413-8c7d-0026b51b4961",
        "papermill": {
          "duration": 0.032601,
          "end_time": "2023-04-15T20:05:05.170107",
          "exception": false,
          "start_time": "2023-04-15T20:05:05.137506",
          "status": "completed"
        },
        "tags": [],
        "execution": {
          "iopub.status.busy": "2023-04-17T10:51:28.890091Z",
          "iopub.execute_input": "2023-04-17T10:51:28.890681Z",
          "iopub.status.idle": "2023-04-17T10:51:28.909829Z",
          "shell.execute_reply.started": "2023-04-17T10:51:28.890643Z",
          "shell.execute_reply": "2023-04-17T10:51:28.908566Z"
        },
        "trusted": true,
        "colab": {
          "base_uri": "https://localhost:8080/"
        }
      },
      "execution_count": 45,
      "outputs": [
        {
          "output_type": "stream",
          "name": "stdout",
          "text": [
            "cuda:0\n"
          ]
        }
      ],
      "id": "l99GbxfD1TXS"
    },
    {
      "cell_type": "code",
      "source": [
        "import torch.nn.functional as F"
      ],
      "metadata": {
        "id": "AEpry2Tvifgl",
        "papermill": {
          "duration": 0.024425,
          "end_time": "2023-04-15T20:05:05.211376",
          "exception": false,
          "start_time": "2023-04-15T20:05:05.186951",
          "status": "completed"
        },
        "tags": [],
        "execution": {
          "iopub.status.busy": "2023-04-17T10:51:28.913054Z",
          "iopub.execute_input": "2023-04-17T10:51:28.913351Z",
          "iopub.status.idle": "2023-04-17T10:51:28.920397Z",
          "shell.execute_reply.started": "2023-04-17T10:51:28.913322Z",
          "shell.execute_reply": "2023-04-17T10:51:28.919341Z"
        },
        "trusted": true
      },
      "execution_count": 46,
      "outputs": [],
      "id": "AEpry2Tvifgl"
    },
    {
      "cell_type": "code",
      "source": [
        "import torch\n",
        "import torch.optim as optim\n",
        "from torch.optim import lr_scheduler\n",
        "import time\n",
        "import copy\n",
        "\n",
        "\n",
        "print(device)\n",
        "\n",
        "#num_class = 1\n",
        "\n",
        "\n",
        "# Observe that all parameters are being optimized\n",
        "optimizer_ft = optim.Adam(model.parameters(), lr=1e-4)\n",
        "# optimizer_ft = Lion(model.parameters(), lr=1e-4,betas = (0.9, 0.99), weight_decay = 0.01)\n",
        "exp_lr_scheduler = lr_scheduler.StepLR(optimizer_ft, step_size=20, gamma=0.4)\n",
        "\n",
        "model, history= train_model(model, optimizer_ft, exp_lr_scheduler, history, patience = 30, num_epochs=100) #increase the num_epochs for better results"
      ],
      "metadata": {
        "id": "1FgDpnNO3Tgr",
        "outputId": "6bae479f-aabd-4848-abc3-2516b5ebb84b",
        "papermill": {
          "duration": 10840.522354,
          "end_time": "2023-04-15T23:05:45.750960",
          "exception": false,
          "start_time": "2023-04-15T20:05:05.228606",
          "status": "completed"
        },
        "tags": [],
        "execution": {
          "iopub.status.busy": "2023-04-17T10:51:28.923755Z",
          "iopub.execute_input": "2023-04-17T10:51:28.924080Z",
          "iopub.status.idle": "2023-04-17T13:54:39.137080Z",
          "shell.execute_reply.started": "2023-04-17T10:51:28.924051Z",
          "shell.execute_reply": "2023-04-17T13:54:39.135966Z"
        },
        "trusted": true,
        "colab": {
          "base_uri": "https://localhost:8080/"
        }
      },
      "execution_count": null,
      "outputs": [
        {
          "output_type": "stream",
          "name": "stderr",
          "text": [
            "/usr/local/lib/python3.10/dist-packages/torch/optim/lr_scheduler.py:139: UserWarning: Detected call of `lr_scheduler.step()` before `optimizer.step()`. In PyTorch 1.1.0 and later, you should call them in the opposite order: `optimizer.step()` before `lr_scheduler.step()`.  Failure to do this will result in PyTorch skipping the first value of the learning rate schedule. See more details at https://pytorch.org/docs/stable/optim.html#how-to-adjust-learning-rate\n",
            "  warnings.warn(\"Detected call of `lr_scheduler.step()` before `optimizer.step()`. \"\n"
          ]
        },
        {
          "output_type": "stream",
          "name": "stdout",
          "text": [
            "cuda:0\n",
            "Epoch 1/100\n",
            "----------\n",
            "LR 0.0001\n"
          ]
        },
        {
          "output_type": "stream",
          "name": "stderr",
          "text": [
            "100%|██████████| 362/362 [01:43<00:00,  3.48it/s]\n"
          ]
        },
        {
          "output_type": "stream",
          "name": "stdout",
          "text": [
            "train: score: 0.833542, loss: 0.481284, iou: 0.632188, dice_coef: 0.715847\n"
          ]
        },
        {
          "output_type": "stream",
          "name": "stderr",
          "text": [
            "100%|██████████| 25/25 [00:03<00:00,  7.36it/s]\n"
          ]
        },
        {
          "output_type": "stream",
          "name": "stdout",
          "text": [
            "val: score: 0.846334, loss: 0.314348, iou: 0.763430, dice_coef: 0.834656\n",
            "saving best model\n"
          ]
        },
        {
          "output_type": "stream",
          "name": "stderr",
          "text": [
            "100%|██████████| 25/25 [00:04<00:00,  5.07it/s]\n"
          ]
        },
        {
          "output_type": "stream",
          "name": "stdout",
          "text": [
            "test_1: score: 0.846334, loss: 0.314348, iou: 0.785746, dice_coef: 0.852214\n",
            "save best weight of kvasir\n"
          ]
        },
        {
          "output_type": "stream",
          "name": "stderr",
          "text": [
            "100%|██████████| 49/49 [00:16<00:00,  3.03it/s]\n"
          ]
        },
        {
          "output_type": "stream",
          "name": "stdout",
          "text": [
            "test_2: score: 0.843597, loss: 0.503550, iou: 0.523009, dice_coef: 0.627897\n",
            "save best weight of etis\n"
          ]
        },
        {
          "output_type": "stream",
          "name": "stderr",
          "text": [
            "100%|██████████| 95/95 [00:15<00:00,  6.15it/s]\n"
          ]
        },
        {
          "output_type": "stream",
          "name": "stdout",
          "text": [
            "test_3: score: 0.820737, loss: 0.469016, iou: 0.576816, dice_coef: 0.685402\n",
            "save best weight of clonDB\n"
          ]
        },
        {
          "output_type": "stream",
          "name": "stderr",
          "text": [
            "100%|██████████| 15/15 [00:01<00:00,  9.02it/s]\n"
          ]
        },
        {
          "output_type": "stream",
          "name": "stdout",
          "text": [
            "test_4: score: 0.828860, loss: 0.348229, iou: 0.696172, dice_coef: 0.787388\n",
            "save best weight of clinDB\n"
          ]
        },
        {
          "output_type": "stream",
          "name": "stderr",
          "text": [
            "100%|██████████| 15/15 [00:02<00:00,  7.41it/s]\n"
          ]
        },
        {
          "output_type": "stream",
          "name": "stdout",
          "text": [
            "test_5: score: 0.818847, loss: 0.269804, iou: 0.752005, dice_coef: 0.816207\n",
            "save best weight of CVC-300\n",
            "2m 31s\n",
            "Epoch 2/100\n",
            "----------\n",
            "LR 0.0001\n"
          ]
        },
        {
          "output_type": "stream",
          "name": "stderr",
          "text": [
            "100%|██████████| 362/362 [01:29<00:00,  4.04it/s]\n"
          ]
        },
        {
          "output_type": "stream",
          "name": "stdout",
          "text": [
            "train: score: 0.833870, loss: 0.293437, iou: 0.793473, dice_coef: 0.863590\n"
          ]
        },
        {
          "output_type": "stream",
          "name": "stderr",
          "text": [
            "100%|██████████| 25/25 [00:03<00:00,  7.37it/s]\n"
          ]
        },
        {
          "output_type": "stream",
          "name": "stdout",
          "text": [
            "val: score: 0.845173, loss: 0.260317, iou: 0.818111, dice_coef: 0.884582\n",
            "saving best model\n"
          ]
        },
        {
          "output_type": "stream",
          "name": "stderr",
          "text": [
            "100%|██████████| 25/25 [00:03<00:00,  7.32it/s]\n"
          ]
        },
        {
          "output_type": "stream",
          "name": "stdout",
          "text": [
            "test_1: score: 0.845172, loss: 0.260317, iou: 0.824823, dice_coef: 0.888585\n",
            "save best weight of kvasir\n"
          ]
        },
        {
          "output_type": "stream",
          "name": "stderr",
          "text": [
            "100%|██████████| 49/49 [00:14<00:00,  3.29it/s]\n"
          ]
        },
        {
          "output_type": "stream",
          "name": "stdout",
          "text": [
            "test_2: score: 0.842810, loss: 0.423918, iou: 0.608792, dice_coef: 0.712418\n",
            "save best weight of etis\n"
          ]
        },
        {
          "output_type": "stream",
          "name": "stderr",
          "text": [
            "100%|██████████| 95/95 [00:14<00:00,  6.41it/s]\n"
          ]
        },
        {
          "output_type": "stream",
          "name": "stdout",
          "text": [
            "test_3: score: 0.817528, loss: 0.389920, iou: 0.660004, dice_coef: 0.757108\n",
            "save best weight of clonDB\n"
          ]
        },
        {
          "output_type": "stream",
          "name": "stderr",
          "text": [
            "100%|██████████| 15/15 [00:02<00:00,  7.25it/s]\n"
          ]
        },
        {
          "output_type": "stream",
          "name": "stdout",
          "text": [
            "test_4: score: 0.827030, loss: 0.251304, iou: 0.802702, dice_coef: 0.870066\n",
            "save best weight of clinDB\n"
          ]
        },
        {
          "output_type": "stream",
          "name": "stderr",
          "text": [
            "100%|██████████| 15/15 [00:02<00:00,  7.40it/s]\n"
          ]
        },
        {
          "output_type": "stream",
          "name": "stdout",
          "text": [
            "test_5: score: 0.814672, loss: 0.256652, iou: 0.715283, dice_coef: 0.809573\n",
            "2m 13s\n",
            "Epoch 3/100\n",
            "----------\n",
            "LR 0.0001\n"
          ]
        },
        {
          "output_type": "stream",
          "name": "stderr",
          "text": [
            "100%|██████████| 362/362 [01:31<00:00,  3.97it/s]\n"
          ]
        },
        {
          "output_type": "stream",
          "name": "stdout",
          "text": [
            "train: score: 0.832694, loss: 0.275486, iou: 0.802267, dice_coef: 0.870069\n"
          ]
        },
        {
          "output_type": "stream",
          "name": "stderr",
          "text": [
            "100%|██████████| 25/25 [00:04<00:00,  5.97it/s]\n"
          ]
        },
        {
          "output_type": "stream",
          "name": "stdout",
          "text": [
            "val: score: 0.846853, loss: 0.291993, iou: 0.784263, dice_coef: 0.857121\n"
          ]
        },
        {
          "output_type": "stream",
          "name": "stderr",
          "text": [
            "100%|██████████| 25/25 [00:04<00:00,  6.14it/s]\n"
          ]
        },
        {
          "output_type": "stream",
          "name": "stdout",
          "text": [
            "test_1: score: 0.846853, loss: 0.291993, iou: 0.779443, dice_coef: 0.856166\n"
          ]
        },
        {
          "output_type": "stream",
          "name": "stderr",
          "text": [
            "100%|██████████| 49/49 [00:16<00:00,  3.06it/s]\n"
          ]
        },
        {
          "output_type": "stream",
          "name": "stdout",
          "text": [
            "test_2: score: 0.847440, loss: 0.397771, iou: 0.615432, dice_coef: 0.706802\n"
          ]
        },
        {
          "output_type": "stream",
          "name": "stderr",
          "text": [
            "100%|██████████| 95/95 [00:14<00:00,  6.54it/s]\n"
          ]
        },
        {
          "output_type": "stream",
          "name": "stdout",
          "text": [
            "test_3: score: 0.822188, loss: 0.399285, iou: 0.640754, dice_coef: 0.742531\n"
          ]
        },
        {
          "output_type": "stream",
          "name": "stderr",
          "text": [
            "100%|██████████| 15/15 [00:01<00:00,  9.39it/s]\n"
          ]
        },
        {
          "output_type": "stream",
          "name": "stdout",
          "text": [
            "test_4: score: 0.831049, loss: 0.279815, iou: 0.771824, dice_coef: 0.837822\n"
          ]
        },
        {
          "output_type": "stream",
          "name": "stderr",
          "text": [
            "100%|██████████| 15/15 [00:01<00:00,  7.67it/s]\n"
          ]
        },
        {
          "output_type": "stream",
          "name": "stdout",
          "text": [
            "test_5: score: 0.820920, loss: 0.258666, iou: 0.724875, dice_coef: 0.812342\n",
            "2m 14s\n",
            "Epoch 4/100\n",
            "----------\n",
            "LR 0.0001\n"
          ]
        },
        {
          "output_type": "stream",
          "name": "stderr",
          "text": [
            "100%|██████████| 362/362 [01:30<00:00,  3.99it/s]\n"
          ]
        },
        {
          "output_type": "stream",
          "name": "stdout",
          "text": [
            "train: score: 0.834758, loss: 0.242519, iou: 0.836054, dice_coef: 0.894928\n"
          ]
        },
        {
          "output_type": "stream",
          "name": "stderr",
          "text": [
            "100%|██████████| 25/25 [00:03<00:00,  7.45it/s]\n"
          ]
        },
        {
          "output_type": "stream",
          "name": "stdout",
          "text": [
            "val: score: 0.846706, loss: 0.260747, iou: 0.822382, dice_coef: 0.887990\n"
          ]
        },
        {
          "output_type": "stream",
          "name": "stderr",
          "text": [
            "100%|██████████| 25/25 [00:03<00:00,  7.23it/s]\n"
          ]
        },
        {
          "output_type": "stream",
          "name": "stdout",
          "text": [
            "test_1: score: 0.846706, loss: 0.260747, iou: 0.820244, dice_coef: 0.886696\n"
          ]
        },
        {
          "output_type": "stream",
          "name": "stderr",
          "text": [
            "100%|██████████| 49/49 [00:14<00:00,  3.39it/s]\n"
          ]
        },
        {
          "output_type": "stream",
          "name": "stdout",
          "text": [
            "test_2: score: 0.845124, loss: 0.370963, iou: 0.675761, dice_coef: 0.772577\n",
            "save best weight of etis\n"
          ]
        },
        {
          "output_type": "stream",
          "name": "stderr",
          "text": [
            "100%|██████████| 95/95 [00:14<00:00,  6.73it/s]\n"
          ]
        },
        {
          "output_type": "stream",
          "name": "stdout",
          "text": [
            "test_3: score: 0.822638, loss: 0.382674, iou: 0.645046, dice_coef: 0.747642\n"
          ]
        },
        {
          "output_type": "stream",
          "name": "stderr",
          "text": [
            "100%|██████████| 15/15 [00:01<00:00,  9.36it/s]\n"
          ]
        },
        {
          "output_type": "stream",
          "name": "stdout",
          "text": [
            "test_4: score: 0.832283, loss: 0.217772, iou: 0.860725, dice_coef: 0.911500\n",
            "save best weight of clinDB\n"
          ]
        },
        {
          "output_type": "stream",
          "name": "stderr",
          "text": [
            "100%|██████████| 15/15 [00:02<00:00,  5.85it/s]\n"
          ]
        },
        {
          "output_type": "stream",
          "name": "stdout",
          "text": [
            "test_5: score: 0.818886, loss: 0.233863, iou: 0.768790, dice_coef: 0.854194\n",
            "save best weight of CVC-300\n",
            "2m 12s\n",
            "Epoch 5/100\n",
            "----------\n",
            "LR 0.0001\n"
          ]
        },
        {
          "output_type": "stream",
          "name": "stderr",
          "text": [
            "100%|██████████| 362/362 [01:28<00:00,  4.09it/s]\n"
          ]
        },
        {
          "output_type": "stream",
          "name": "stdout",
          "text": [
            "train: score: 0.832757, loss: 0.225726, iou: 0.859177, dice_coef: 0.913149\n"
          ]
        },
        {
          "output_type": "stream",
          "name": "stderr",
          "text": [
            "100%|██████████| 25/25 [00:03<00:00,  7.35it/s]\n"
          ]
        },
        {
          "output_type": "stream",
          "name": "stdout",
          "text": [
            "val: score: 0.843212, loss: 0.254905, iou: 0.817141, dice_coef: 0.881586\n",
            "saving best model\n"
          ]
        },
        {
          "output_type": "stream",
          "name": "stderr",
          "text": [
            "100%|██████████| 25/25 [00:03<00:00,  7.34it/s]\n"
          ]
        },
        {
          "output_type": "stream",
          "name": "stdout",
          "text": [
            "test_1: score: 0.843212, loss: 0.254905, iou: 0.828232, dice_coef: 0.894476\n",
            "save best weight of kvasir\n"
          ]
        },
        {
          "output_type": "stream",
          "name": "stderr",
          "text": [
            "100%|██████████| 49/49 [00:15<00:00,  3.26it/s]\n"
          ]
        },
        {
          "output_type": "stream",
          "name": "stdout",
          "text": [
            "test_2: score: 0.841041, loss: 0.399038, iou: 0.649455, dice_coef: 0.750124\n"
          ]
        },
        {
          "output_type": "stream",
          "name": "stderr",
          "text": [
            "100%|██████████| 95/95 [00:15<00:00,  6.23it/s]\n"
          ]
        },
        {
          "output_type": "stream",
          "name": "stdout",
          "text": [
            "test_3: score: 0.823095, loss: 0.355908, iou: 0.708863, dice_coef: 0.800176\n",
            "save best weight of clonDB\n"
          ]
        },
        {
          "output_type": "stream",
          "name": "stderr",
          "text": [
            "100%|██████████| 15/15 [00:01<00:00,  8.66it/s]\n"
          ]
        },
        {
          "output_type": "stream",
          "name": "stdout",
          "text": [
            "test_4: score: 0.829784, loss: 0.230130, iou: 0.816607, dice_coef: 0.881369\n"
          ]
        },
        {
          "output_type": "stream",
          "name": "stderr",
          "text": [
            "100%|██████████| 15/15 [00:01<00:00,  8.06it/s]\n"
          ]
        },
        {
          "output_type": "stream",
          "name": "stdout",
          "text": [
            "test_5: score: 0.820940, loss: 0.206343, iou: 0.793310, dice_coef: 0.866965\n",
            "save best weight of CVC-300\n",
            "2m 11s\n",
            "Epoch 6/100\n",
            "----------\n",
            "LR 0.0001\n"
          ]
        },
        {
          "output_type": "stream",
          "name": "stderr",
          "text": [
            "100%|██████████| 362/362 [01:27<00:00,  4.13it/s]\n"
          ]
        },
        {
          "output_type": "stream",
          "name": "stdout",
          "text": [
            "train: score: 0.832283, loss: 0.226159, iou: 0.848458, dice_coef: 0.902789\n"
          ]
        },
        {
          "output_type": "stream",
          "name": "stderr",
          "text": [
            "100%|██████████| 25/25 [00:03<00:00,  7.34it/s]\n"
          ]
        },
        {
          "output_type": "stream",
          "name": "stdout",
          "text": [
            "val: score: 0.844798, loss: 0.293582, iou: 0.801938, dice_coef: 0.865953\n"
          ]
        },
        {
          "output_type": "stream",
          "name": "stderr",
          "text": [
            "100%|██████████| 25/25 [00:04<00:00,  5.77it/s]\n"
          ]
        },
        {
          "output_type": "stream",
          "name": "stdout",
          "text": [
            "test_1: score: 0.844798, loss: 0.293582, iou: 0.787954, dice_coef: 0.855988\n"
          ]
        },
        {
          "output_type": "stream",
          "name": "stderr",
          "text": [
            "100%|██████████| 49/49 [00:14<00:00,  3.38it/s]\n"
          ]
        },
        {
          "output_type": "stream",
          "name": "stdout",
          "text": [
            "test_2: score: 0.845194, loss: 0.385417, iou: 0.626859, dice_coef: 0.736547\n"
          ]
        },
        {
          "output_type": "stream",
          "name": "stderr",
          "text": [
            "100%|██████████| 95/95 [00:13<00:00,  6.82it/s]\n"
          ]
        },
        {
          "output_type": "stream",
          "name": "stdout",
          "text": [
            "test_3: score: 0.822996, loss: 0.376093, iou: 0.639105, dice_coef: 0.740715\n"
          ]
        },
        {
          "output_type": "stream",
          "name": "stderr",
          "text": [
            "100%|██████████| 15/15 [00:01<00:00,  9.01it/s]\n"
          ]
        },
        {
          "output_type": "stream",
          "name": "stdout",
          "text": [
            "test_4: score: 0.829344, loss: 0.231610, iou: 0.830834, dice_coef: 0.893504\n"
          ]
        },
        {
          "output_type": "stream",
          "name": "stderr",
          "text": [
            "100%|██████████| 15/15 [00:01<00:00,  7.69it/s]\n"
          ]
        },
        {
          "output_type": "stream",
          "name": "stdout",
          "text": [
            "test_5: score: 0.822344, loss: 0.225627, iou: 0.784801, dice_coef: 0.866133\n",
            "2m 7s\n",
            "Epoch 7/100\n",
            "----------\n",
            "LR 0.0001\n"
          ]
        },
        {
          "output_type": "stream",
          "name": "stderr",
          "text": [
            "100%|██████████| 362/362 [01:26<00:00,  4.19it/s]\n"
          ]
        },
        {
          "output_type": "stream",
          "name": "stdout",
          "text": [
            "train: score: 0.832431, loss: 0.211891, iou: 0.861778, dice_coef: 0.913770\n"
          ]
        },
        {
          "output_type": "stream",
          "name": "stderr",
          "text": [
            "100%|██████████| 25/25 [00:03<00:00,  7.29it/s]\n"
          ]
        },
        {
          "output_type": "stream",
          "name": "stdout",
          "text": [
            "val: score: 0.848048, loss: 0.252873, iou: 0.837873, dice_coef: 0.898927\n",
            "saving best model\n"
          ]
        },
        {
          "output_type": "stream",
          "name": "stderr",
          "text": [
            "100%|██████████| 25/25 [00:04<00:00,  5.80it/s]\n"
          ]
        },
        {
          "output_type": "stream",
          "name": "stdout",
          "text": [
            "test_1: score: 0.848048, loss: 0.252873, iou: 0.830686, dice_coef: 0.895831\n",
            "save best weight of kvasir\n"
          ]
        },
        {
          "output_type": "stream",
          "name": "stderr",
          "text": [
            "100%|██████████| 49/49 [00:14<00:00,  3.31it/s]\n"
          ]
        },
        {
          "output_type": "stream",
          "name": "stdout",
          "text": [
            "test_2: score: 0.846590, loss: 0.372867, iou: 0.629813, dice_coef: 0.735947\n"
          ]
        },
        {
          "output_type": "stream",
          "name": "stderr",
          "text": [
            "100%|██████████| 95/95 [00:13<00:00,  6.96it/s]\n"
          ]
        },
        {
          "output_type": "stream",
          "name": "stdout",
          "text": [
            "test_3: score: 0.828098, loss: 0.354678, iou: 0.684047, dice_coef: 0.788645\n"
          ]
        },
        {
          "output_type": "stream",
          "name": "stderr",
          "text": [
            "100%|██████████| 15/15 [00:01<00:00,  9.28it/s]\n"
          ]
        },
        {
          "output_type": "stream",
          "name": "stdout",
          "text": [
            "test_4: score: 0.835293, loss: 0.217026, iou: 0.819745, dice_coef: 0.889156\n"
          ]
        },
        {
          "output_type": "stream",
          "name": "stderr",
          "text": [
            "100%|██████████| 15/15 [00:02<00:00,  6.23it/s]\n"
          ]
        },
        {
          "output_type": "stream",
          "name": "stdout",
          "text": [
            "test_5: score: 0.826015, loss: 0.217901, iou: 0.777253, dice_coef: 0.863664\n",
            "2m 7s\n",
            "Epoch 8/100\n",
            "----------\n",
            "LR 0.0001\n"
          ]
        },
        {
          "output_type": "stream",
          "name": "stderr",
          "text": [
            "100%|██████████| 362/362 [01:27<00:00,  4.16it/s]\n"
          ]
        },
        {
          "output_type": "stream",
          "name": "stdout",
          "text": [
            "train: score: 0.833309, loss: 0.198196, iou: 0.873686, dice_coef: 0.922585\n"
          ]
        },
        {
          "output_type": "stream",
          "name": "stderr",
          "text": [
            "100%|██████████| 25/25 [00:03<00:00,  6.37it/s]\n"
          ]
        },
        {
          "output_type": "stream",
          "name": "stdout",
          "text": [
            "val: score: 0.844219, loss: 0.293917, iou: 0.804313, dice_coef: 0.877919\n"
          ]
        },
        {
          "output_type": "stream",
          "name": "stderr",
          "text": [
            "100%|██████████| 25/25 [00:03<00:00,  6.44it/s]\n"
          ]
        },
        {
          "output_type": "stream",
          "name": "stdout",
          "text": [
            "test_1: score: 0.844219, loss: 0.293917, iou: 0.801601, dice_coef: 0.877783\n"
          ]
        },
        {
          "output_type": "stream",
          "name": "stderr",
          "text": [
            "100%|██████████| 49/49 [00:14<00:00,  3.38it/s]\n"
          ]
        },
        {
          "output_type": "stream",
          "name": "stdout",
          "text": [
            "test_2: score: 0.844522, loss: 0.388895, iou: 0.699530, dice_coef: 0.795826\n",
            "save best weight of etis\n"
          ]
        },
        {
          "output_type": "stream",
          "name": "stderr",
          "text": [
            "100%|██████████| 95/95 [00:14<00:00,  6.67it/s]\n"
          ]
        },
        {
          "output_type": "stream",
          "name": "stdout",
          "text": [
            "test_3: score: 0.820899, loss: 0.370542, iou: 0.681183, dice_coef: 0.775477\n"
          ]
        },
        {
          "output_type": "stream",
          "name": "stderr",
          "text": [
            "100%|██████████| 15/15 [00:01<00:00,  9.54it/s]\n"
          ]
        },
        {
          "output_type": "stream",
          "name": "stdout",
          "text": [
            "test_4: score: 0.826911, loss: 0.200133, iou: 0.853625, dice_coef: 0.904697\n"
          ]
        },
        {
          "output_type": "stream",
          "name": "stderr",
          "text": [
            "100%|██████████| 15/15 [00:01<00:00,  7.96it/s]\n"
          ]
        },
        {
          "output_type": "stream",
          "name": "stdout",
          "text": [
            "test_5: score: 0.821275, loss: 0.206736, iou: 0.822277, dice_coef: 0.892897\n",
            "save best weight of CVC-300\n",
            "2m 8s\n",
            "Epoch 9/100\n",
            "----------\n",
            "LR 0.0001\n"
          ]
        },
        {
          "output_type": "stream",
          "name": "stderr",
          "text": [
            "100%|██████████| 362/362 [01:31<00:00,  3.94it/s]\n"
          ]
        },
        {
          "output_type": "stream",
          "name": "stdout",
          "text": [
            "train: score: 0.832724, loss: 0.192879, iou: 0.881579, dice_coef: 0.927863\n"
          ]
        },
        {
          "output_type": "stream",
          "name": "stderr",
          "text": [
            "100%|██████████| 25/25 [00:03<00:00,  7.17it/s]\n"
          ]
        },
        {
          "output_type": "stream",
          "name": "stdout",
          "text": [
            "val: score: 0.847314, loss: 0.253247, iou: 0.815207, dice_coef: 0.884741\n"
          ]
        },
        {
          "output_type": "stream",
          "name": "stderr",
          "text": [
            "100%|██████████| 25/25 [00:03<00:00,  7.28it/s]\n"
          ]
        },
        {
          "output_type": "stream",
          "name": "stdout",
          "text": [
            "test_1: score: 0.847314, loss: 0.253247, iou: 0.823918, dice_coef: 0.892921\n"
          ]
        },
        {
          "output_type": "stream",
          "name": "stderr",
          "text": [
            "100%|██████████| 49/49 [00:14<00:00,  3.41it/s]\n"
          ]
        },
        {
          "output_type": "stream",
          "name": "stdout",
          "text": [
            "test_2: score: 0.848241, loss: 0.369374, iou: 0.631515, dice_coef: 0.737995\n"
          ]
        },
        {
          "output_type": "stream",
          "name": "stderr",
          "text": [
            "100%|██████████| 95/95 [00:13<00:00,  6.92it/s]\n"
          ]
        },
        {
          "output_type": "stream",
          "name": "stdout",
          "text": [
            "test_3: score: 0.824977, loss: 0.365396, iou: 0.657212, dice_coef: 0.760814\n"
          ]
        },
        {
          "output_type": "stream",
          "name": "stderr",
          "text": [
            "100%|██████████| 15/15 [00:01<00:00,  9.27it/s]\n"
          ]
        },
        {
          "output_type": "stream",
          "name": "stdout",
          "text": [
            "test_4: score: 0.829502, loss: 0.177551, iou: 0.873919, dice_coef: 0.923672\n",
            "save best weight of clinDB\n"
          ]
        },
        {
          "output_type": "stream",
          "name": "stderr",
          "text": [
            "100%|██████████| 15/15 [00:02<00:00,  6.57it/s]\n"
          ]
        },
        {
          "output_type": "stream",
          "name": "stdout",
          "text": [
            "test_5: score: 0.825156, loss: 0.228010, iou: 0.765085, dice_coef: 0.855232\n",
            "2m 11s\n",
            "Epoch 10/100\n",
            "----------\n",
            "LR 0.0001\n"
          ]
        },
        {
          "output_type": "stream",
          "name": "stderr",
          "text": [
            "100%|██████████| 362/362 [01:29<00:00,  4.06it/s]\n"
          ]
        },
        {
          "output_type": "stream",
          "name": "stdout",
          "text": [
            "train: score: 0.832776, loss: 0.180272, iou: 0.891827, dice_coef: 0.935249\n"
          ]
        },
        {
          "output_type": "stream",
          "name": "stderr",
          "text": [
            "100%|██████████| 25/25 [00:03<00:00,  7.49it/s]\n"
          ]
        },
        {
          "output_type": "stream",
          "name": "stdout",
          "text": [
            "val: score: 0.843540, loss: 0.248896, iou: 0.842131, dice_coef: 0.904889\n",
            "saving best model\n"
          ]
        },
        {
          "output_type": "stream",
          "name": "stderr",
          "text": [
            "100%|██████████| 25/25 [00:03<00:00,  7.16it/s]\n"
          ]
        },
        {
          "output_type": "stream",
          "name": "stdout",
          "text": [
            "test_1: score: 0.843540, loss: 0.248896, iou: 0.843987, dice_coef: 0.904702\n",
            "save best weight of kvasir\n"
          ]
        },
        {
          "output_type": "stream",
          "name": "stderr",
          "text": [
            "100%|██████████| 49/49 [00:14<00:00,  3.29it/s]\n"
          ]
        },
        {
          "output_type": "stream",
          "name": "stdout",
          "text": [
            "test_2: score: 0.843292, loss: 0.364984, iou: 0.714277, dice_coef: 0.812506\n",
            "save best weight of etis\n"
          ]
        },
        {
          "output_type": "stream",
          "name": "stderr",
          "text": [
            "100%|██████████| 95/95 [00:14<00:00,  6.72it/s]\n"
          ]
        },
        {
          "output_type": "stream",
          "name": "stdout",
          "text": [
            "test_3: score: 0.820957, loss: 0.391847, iou: 0.673926, dice_coef: 0.775602\n"
          ]
        },
        {
          "output_type": "stream",
          "name": "stderr",
          "text": [
            "100%|██████████| 15/15 [00:01<00:00,  7.57it/s]\n"
          ]
        },
        {
          "output_type": "stream",
          "name": "stdout",
          "text": [
            "test_4: score: 0.826567, loss: 0.173554, iou: 0.904159, dice_coef: 0.943577\n",
            "save best weight of clinDB\n"
          ]
        },
        {
          "output_type": "stream",
          "name": "stderr",
          "text": [
            "100%|██████████| 15/15 [00:01<00:00,  7.82it/s]\n"
          ]
        },
        {
          "output_type": "stream",
          "name": "stdout",
          "text": [
            "test_5: score: 0.820973, loss: 0.217916, iou: 0.790281, dice_coef: 0.869592\n",
            "2m 11s\n",
            "Epoch 11/100\n",
            "----------\n",
            "LR 0.0001\n"
          ]
        },
        {
          "output_type": "stream",
          "name": "stderr",
          "text": [
            "100%|██████████| 362/362 [01:26<00:00,  4.19it/s]\n"
          ]
        },
        {
          "output_type": "stream",
          "name": "stdout",
          "text": [
            "train: score: 0.833684, loss: 0.175977, iou: 0.896110, dice_coef: 0.938608\n"
          ]
        },
        {
          "output_type": "stream",
          "name": "stderr",
          "text": [
            "100%|██████████| 25/25 [00:03<00:00,  7.49it/s]\n"
          ]
        },
        {
          "output_type": "stream",
          "name": "stdout",
          "text": [
            "val: score: 0.843727, loss: 0.255512, iou: 0.834612, dice_coef: 0.897494\n"
          ]
        },
        {
          "output_type": "stream",
          "name": "stderr",
          "text": [
            "100%|██████████| 25/25 [00:03<00:00,  6.38it/s]\n"
          ]
        },
        {
          "output_type": "stream",
          "name": "stdout",
          "text": [
            "test_1: score: 0.843727, loss: 0.255512, iou: 0.829640, dice_coef: 0.896099\n"
          ]
        },
        {
          "output_type": "stream",
          "name": "stderr",
          "text": [
            "100%|██████████| 49/49 [00:14<00:00,  3.37it/s]\n"
          ]
        },
        {
          "output_type": "stream",
          "name": "stdout",
          "text": [
            "test_2: score: 0.844679, loss: 0.352122, iou: 0.715925, dice_coef: 0.811617\n"
          ]
        },
        {
          "output_type": "stream",
          "name": "stderr",
          "text": [
            "100%|██████████| 95/95 [00:13<00:00,  7.05it/s]\n"
          ]
        },
        {
          "output_type": "stream",
          "name": "stdout",
          "text": [
            "test_3: score: 0.826795, loss: 0.378853, iou: 0.669647, dice_coef: 0.768341\n"
          ]
        },
        {
          "output_type": "stream",
          "name": "stderr",
          "text": [
            "100%|██████████| 15/15 [00:01<00:00,  7.81it/s]\n"
          ]
        },
        {
          "output_type": "stream",
          "name": "stdout",
          "text": [
            "test_4: score: 0.830200, loss: 0.193552, iou: 0.862347, dice_coef: 0.918938\n"
          ]
        },
        {
          "output_type": "stream",
          "name": "stderr",
          "text": [
            "100%|██████████| 15/15 [00:01<00:00,  7.80it/s]\n"
          ]
        },
        {
          "output_type": "stream",
          "name": "stdout",
          "text": [
            "test_5: score: 0.829040, loss: 0.244960, iou: 0.757386, dice_coef: 0.849772\n",
            "2m 6s\n",
            "Epoch 12/100\n",
            "----------\n",
            "LR 0.0001\n"
          ]
        },
        {
          "output_type": "stream",
          "name": "stderr",
          "text": [
            "100%|██████████| 362/362 [01:26<00:00,  4.17it/s]\n"
          ]
        },
        {
          "output_type": "stream",
          "name": "stdout",
          "text": [
            "train: score: 0.833776, loss: 0.174456, iou: 0.898548, dice_coef: 0.939119\n"
          ]
        },
        {
          "output_type": "stream",
          "name": "stderr",
          "text": [
            "100%|██████████| 25/25 [00:03<00:00,  7.58it/s]\n"
          ]
        },
        {
          "output_type": "stream",
          "name": "stdout",
          "text": [
            "val: score: 0.839908, loss: 0.290654, iou: 0.774829, dice_coef: 0.846846\n"
          ]
        },
        {
          "output_type": "stream",
          "name": "stderr",
          "text": [
            "100%|██████████| 25/25 [00:03<00:00,  6.48it/s]\n"
          ]
        },
        {
          "output_type": "stream",
          "name": "stdout",
          "text": [
            "test_1: score: 0.839908, loss: 0.290654, iou: 0.766611, dice_coef: 0.841152\n"
          ]
        },
        {
          "output_type": "stream",
          "name": "stderr",
          "text": [
            " 90%|████████▉ | 44/49 [00:13<00:01,  3.32it/s]\n",
            "ERROR:root:Internal Python error in the inspect module.\n",
            "Below is the traceback from this internal error.\n",
            "\n",
            "ERROR:root:Internal Python error in the inspect module.\n",
            "Below is the traceback from this internal error.\n",
            "\n",
            "ERROR:root:Internal Python error in the inspect module.\n",
            "Below is the traceback from this internal error.\n",
            "\n"
          ]
        },
        {
          "output_type": "stream",
          "name": "stdout",
          "text": [
            "Traceback (most recent call last):\n",
            "  File \"/usr/local/lib/python3.10/dist-packages/IPython/core/interactiveshell.py\", line 3553, in run_code\n",
            "    exec(code_obj, self.user_global_ns, self.user_ns)\n",
            "  File \"<ipython-input-47-7de0b643ad57>\", line 18, in <cell line: 18>\n",
            "    model, history= train_model(model, optimizer_ft, exp_lr_scheduler, history, patience = 30, num_epochs=100) #increase the num_epochs for better results\n",
            "  File \"<ipython-input-44-df3c51c8dd8c>\", line 46, in train_model\n",
            "    for inputs, labels in tqdm(dataloaders[phase]):\n",
            "  File \"/usr/local/lib/python3.10/dist-packages/tqdm/std.py\", line 1178, in __iter__\n",
            "    for obj in iterable:\n",
            "  File \"/usr/local/lib/python3.10/dist-packages/torch/utils/data/dataloader.py\", line 633, in __next__\n",
            "    data = self._next_data()\n",
            "  File \"/usr/local/lib/python3.10/dist-packages/torch/utils/data/dataloader.py\", line 677, in _next_data\n",
            "    data = self._dataset_fetcher.fetch(index)  # may raise StopIteration\n",
            "  File \"/usr/local/lib/python3.10/dist-packages/torch/utils/data/_utils/fetch.py\", line 51, in fetch\n",
            "    data = [self.dataset[idx] for idx in possibly_batched_index]\n",
            "  File \"/usr/local/lib/python3.10/dist-packages/torch/utils/data/_utils/fetch.py\", line 51, in <listcomp>\n",
            "    data = [self.dataset[idx] for idx in possibly_batched_index]\n",
            "  File \"<ipython-input-8-a1ef16045776>\", line 10, in __getitem__\n",
            "    img = cv2.cvtColor(img , cv2.COLOR_BGR2RGB)\n",
            "cv2.error: OpenCV(4.7.0) /io/opencv/modules/imgproc/src/color.cpp:182: error: (-215:Assertion failed) !_src.empty() in function 'cvtColor'\n",
            "\n",
            "\n",
            "During handling of the above exception, another exception occurred:\n",
            "\n",
            "Traceback (most recent call last):\n",
            "  File \"/usr/local/lib/python3.10/dist-packages/IPython/core/interactiveshell.py\", line 2099, in showtraceback\n",
            "    stb = value._render_traceback_()\n",
            "AttributeError: 'error' object has no attribute '_render_traceback_'\n",
            "\n",
            "During handling of the above exception, another exception occurred:\n",
            "\n",
            "Traceback (most recent call last):\n",
            "  File \"/usr/local/lib/python3.10/dist-packages/IPython/core/ultratb.py\", line 1101, in get_records\n",
            "    return _fixed_getinnerframes(etb, number_of_lines_of_context, tb_offset)\n",
            "  File \"/usr/local/lib/python3.10/dist-packages/IPython/core/ultratb.py\", line 248, in wrapped\n",
            "    return f(*args, **kwargs)\n",
            "  File \"/usr/local/lib/python3.10/dist-packages/IPython/core/ultratb.py\", line 281, in _fixed_getinnerframes\n",
            "    records = fix_frame_records_filenames(inspect.getinnerframes(etb, context))\n",
            "  File \"/usr/lib/python3.10/inspect.py\", line 1662, in getinnerframes\n",
            "    frameinfo = (tb.tb_frame,) + getframeinfo(tb, context)\n",
            "  File \"/usr/lib/python3.10/inspect.py\", line 1620, in getframeinfo\n",
            "    filename = getsourcefile(frame) or getfile(frame)\n",
            "  File \"/usr/lib/python3.10/inspect.py\", line 829, in getsourcefile\n",
            "    module = getmodule(object, filename)\n",
            "  File \"/usr/lib/python3.10/inspect.py\", line 861, in getmodule\n",
            "    file = getabsfile(object, _filename)\n",
            "  File \"/usr/lib/python3.10/inspect.py\", line 845, in getabsfile\n",
            "    return os.path.normcase(os.path.abspath(_filename))\n",
            "  File \"/usr/lib/python3.10/posixpath.py\", line 384, in abspath\n",
            "    cwd = os.getcwd()\n",
            "OSError: [Errno 107] Transport endpoint is not connected\n",
            "Traceback (most recent call last):\n",
            "  File \"/usr/local/lib/python3.10/dist-packages/IPython/core/interactiveshell.py\", line 3553, in run_code\n",
            "    exec(code_obj, self.user_global_ns, self.user_ns)\n",
            "  File \"<ipython-input-47-7de0b643ad57>\", line 18, in <cell line: 18>\n",
            "    model, history= train_model(model, optimizer_ft, exp_lr_scheduler, history, patience = 30, num_epochs=100) #increase the num_epochs for better results\n",
            "  File \"<ipython-input-44-df3c51c8dd8c>\", line 46, in train_model\n",
            "    for inputs, labels in tqdm(dataloaders[phase]):\n",
            "  File \"/usr/local/lib/python3.10/dist-packages/tqdm/std.py\", line 1178, in __iter__\n",
            "    for obj in iterable:\n",
            "  File \"/usr/local/lib/python3.10/dist-packages/torch/utils/data/dataloader.py\", line 633, in __next__\n",
            "    data = self._next_data()\n",
            "  File \"/usr/local/lib/python3.10/dist-packages/torch/utils/data/dataloader.py\", line 677, in _next_data\n",
            "    data = self._dataset_fetcher.fetch(index)  # may raise StopIteration\n",
            "  File \"/usr/local/lib/python3.10/dist-packages/torch/utils/data/_utils/fetch.py\", line 51, in fetch\n",
            "    data = [self.dataset[idx] for idx in possibly_batched_index]\n",
            "  File \"/usr/local/lib/python3.10/dist-packages/torch/utils/data/_utils/fetch.py\", line 51, in <listcomp>\n",
            "    data = [self.dataset[idx] for idx in possibly_batched_index]\n",
            "  File \"<ipython-input-8-a1ef16045776>\", line 10, in __getitem__\n",
            "    img = cv2.cvtColor(img , cv2.COLOR_BGR2RGB)\n",
            "cv2.error: OpenCV(4.7.0) /io/opencv/modules/imgproc/src/color.cpp:182: error: (-215:Assertion failed) !_src.empty() in function 'cvtColor'\n",
            "\n",
            "\n",
            "During handling of the above exception, another exception occurred:\n",
            "\n",
            "Traceback (most recent call last):\n",
            "  File \"/usr/local/lib/python3.10/dist-packages/IPython/core/interactiveshell.py\", line 2099, in showtraceback\n",
            "    stb = value._render_traceback_()\n",
            "AttributeError: 'error' object has no attribute '_render_traceback_'\n",
            "\n",
            "During handling of the above exception, another exception occurred:\n",
            "\n",
            "Traceback (most recent call last):\n",
            "  File \"/usr/local/lib/python3.10/dist-packages/IPython/core/interactiveshell.py\", line 3473, in run_ast_nodes\n",
            "    if (await self.run_code(code, result,  async_=asy)):\n",
            "  File \"/usr/local/lib/python3.10/dist-packages/IPython/core/interactiveshell.py\", line 3575, in run_code\n",
            "    self.showtraceback(running_compiled_code=True)\n",
            "  File \"/usr/local/lib/python3.10/dist-packages/IPython/core/interactiveshell.py\", line 2101, in showtraceback\n",
            "    stb = self.InteractiveTB.structured_traceback(etype,\n",
            "  File \"/usr/local/lib/python3.10/dist-packages/IPython/core/ultratb.py\", line 1367, in structured_traceback\n",
            "    return FormattedTB.structured_traceback(\n",
            "  File \"/usr/local/lib/python3.10/dist-packages/IPython/core/ultratb.py\", line 1267, in structured_traceback\n",
            "    return VerboseTB.structured_traceback(\n",
            "  File \"/usr/local/lib/python3.10/dist-packages/IPython/core/ultratb.py\", line 1124, in structured_traceback\n",
            "    formatted_exception = self.format_exception_as_a_whole(etype, evalue, etb, number_of_lines_of_context,\n",
            "  File \"/usr/local/lib/python3.10/dist-packages/IPython/core/ultratb.py\", line 1082, in format_exception_as_a_whole\n",
            "    last_unique, recursion_repeat = find_recursion(orig_etype, evalue, records)\n",
            "  File \"/usr/local/lib/python3.10/dist-packages/IPython/core/ultratb.py\", line 382, in find_recursion\n",
            "    return len(records), 0\n",
            "TypeError: object of type 'NoneType' has no len()\n",
            "\n",
            "During handling of the above exception, another exception occurred:\n",
            "\n",
            "Traceback (most recent call last):\n",
            "  File \"/usr/local/lib/python3.10/dist-packages/IPython/core/interactiveshell.py\", line 2099, in showtraceback\n",
            "    stb = value._render_traceback_()\n",
            "AttributeError: 'TypeError' object has no attribute '_render_traceback_'\n",
            "\n",
            "During handling of the above exception, another exception occurred:\n",
            "\n",
            "Traceback (most recent call last):\n",
            "  File \"/usr/local/lib/python3.10/dist-packages/IPython/core/ultratb.py\", line 1101, in get_records\n",
            "    return _fixed_getinnerframes(etb, number_of_lines_of_context, tb_offset)\n",
            "  File \"/usr/local/lib/python3.10/dist-packages/IPython/core/ultratb.py\", line 248, in wrapped\n",
            "    return f(*args, **kwargs)\n",
            "  File \"/usr/local/lib/python3.10/dist-packages/IPython/core/ultratb.py\", line 281, in _fixed_getinnerframes\n",
            "    records = fix_frame_records_filenames(inspect.getinnerframes(etb, context))\n",
            "  File \"/usr/lib/python3.10/inspect.py\", line 1662, in getinnerframes\n",
            "    frameinfo = (tb.tb_frame,) + getframeinfo(tb, context)\n",
            "  File \"/usr/lib/python3.10/inspect.py\", line 1620, in getframeinfo\n",
            "    filename = getsourcefile(frame) or getfile(frame)\n",
            "  File \"/usr/lib/python3.10/inspect.py\", line 829, in getsourcefile\n",
            "    module = getmodule(object, filename)\n",
            "  File \"/usr/lib/python3.10/inspect.py\", line 861, in getmodule\n",
            "    file = getabsfile(object, _filename)\n",
            "  File \"/usr/lib/python3.10/inspect.py\", line 845, in getabsfile\n",
            "    return os.path.normcase(os.path.abspath(_filename))\n",
            "  File \"/usr/lib/python3.10/posixpath.py\", line 384, in abspath\n",
            "    cwd = os.getcwd()\n",
            "OSError: [Errno 107] Transport endpoint is not connected\n",
            "Traceback (most recent call last):\n",
            "  File \"/usr/local/lib/python3.10/dist-packages/IPython/core/interactiveshell.py\", line 3553, in run_code\n",
            "    exec(code_obj, self.user_global_ns, self.user_ns)\n",
            "  File \"<ipython-input-47-7de0b643ad57>\", line 18, in <cell line: 18>\n",
            "    model, history= train_model(model, optimizer_ft, exp_lr_scheduler, history, patience = 30, num_epochs=100) #increase the num_epochs for better results\n",
            "  File \"<ipython-input-44-df3c51c8dd8c>\", line 46, in train_model\n",
            "    for inputs, labels in tqdm(dataloaders[phase]):\n",
            "  File \"/usr/local/lib/python3.10/dist-packages/tqdm/std.py\", line 1178, in __iter__\n",
            "    for obj in iterable:\n",
            "  File \"/usr/local/lib/python3.10/dist-packages/torch/utils/data/dataloader.py\", line 633, in __next__\n",
            "    data = self._next_data()\n",
            "  File \"/usr/local/lib/python3.10/dist-packages/torch/utils/data/dataloader.py\", line 677, in _next_data\n",
            "    data = self._dataset_fetcher.fetch(index)  # may raise StopIteration\n",
            "  File \"/usr/local/lib/python3.10/dist-packages/torch/utils/data/_utils/fetch.py\", line 51, in fetch\n",
            "    data = [self.dataset[idx] for idx in possibly_batched_index]\n",
            "  File \"/usr/local/lib/python3.10/dist-packages/torch/utils/data/_utils/fetch.py\", line 51, in <listcomp>\n",
            "    data = [self.dataset[idx] for idx in possibly_batched_index]\n",
            "  File \"<ipython-input-8-a1ef16045776>\", line 10, in __getitem__\n",
            "    img = cv2.cvtColor(img , cv2.COLOR_BGR2RGB)\n",
            "cv2.error: OpenCV(4.7.0) /io/opencv/modules/imgproc/src/color.cpp:182: error: (-215:Assertion failed) !_src.empty() in function 'cvtColor'\n",
            "\n",
            "\n",
            "During handling of the above exception, another exception occurred:\n",
            "\n",
            "Traceback (most recent call last):\n",
            "  File \"/usr/local/lib/python3.10/dist-packages/IPython/core/interactiveshell.py\", line 2099, in showtraceback\n",
            "    stb = value._render_traceback_()\n",
            "AttributeError: 'error' object has no attribute '_render_traceback_'\n",
            "\n",
            "During handling of the above exception, another exception occurred:\n",
            "\n",
            "Traceback (most recent call last):\n",
            "  File \"/usr/local/lib/python3.10/dist-packages/IPython/core/interactiveshell.py\", line 3473, in run_ast_nodes\n",
            "    if (await self.run_code(code, result,  async_=asy)):\n",
            "  File \"/usr/local/lib/python3.10/dist-packages/IPython/core/interactiveshell.py\", line 3575, in run_code\n",
            "    self.showtraceback(running_compiled_code=True)\n",
            "  File \"/usr/local/lib/python3.10/dist-packages/IPython/core/interactiveshell.py\", line 2101, in showtraceback\n",
            "    stb = self.InteractiveTB.structured_traceback(etype,\n",
            "  File \"/usr/local/lib/python3.10/dist-packages/IPython/core/ultratb.py\", line 1367, in structured_traceback\n",
            "    return FormattedTB.structured_traceback(\n",
            "  File \"/usr/local/lib/python3.10/dist-packages/IPython/core/ultratb.py\", line 1267, in structured_traceback\n",
            "    return VerboseTB.structured_traceback(\n",
            "  File \"/usr/local/lib/python3.10/dist-packages/IPython/core/ultratb.py\", line 1124, in structured_traceback\n",
            "    formatted_exception = self.format_exception_as_a_whole(etype, evalue, etb, number_of_lines_of_context,\n",
            "  File \"/usr/local/lib/python3.10/dist-packages/IPython/core/ultratb.py\", line 1082, in format_exception_as_a_whole\n",
            "    last_unique, recursion_repeat = find_recursion(orig_etype, evalue, records)\n",
            "  File \"/usr/local/lib/python3.10/dist-packages/IPython/core/ultratb.py\", line 382, in find_recursion\n",
            "    return len(records), 0\n",
            "TypeError: object of type 'NoneType' has no len()\n",
            "\n",
            "During handling of the above exception, another exception occurred:\n",
            "\n",
            "Traceback (most recent call last):\n",
            "  File \"/usr/local/lib/python3.10/dist-packages/IPython/core/interactiveshell.py\", line 2099, in showtraceback\n",
            "    stb = value._render_traceback_()\n",
            "AttributeError: 'TypeError' object has no attribute '_render_traceback_'\n",
            "\n",
            "During handling of the above exception, another exception occurred:\n",
            "\n",
            "Traceback (most recent call last):\n",
            "  File \"/usr/local/lib/python3.10/dist-packages/IPython/core/interactiveshell.py\", line 3030, in _run_cell\n",
            "    return runner(coro)\n",
            "  File \"/usr/local/lib/python3.10/dist-packages/IPython/core/async_helpers.py\", line 78, in _pseudo_sync_runner\n",
            "    coro.send(None)\n",
            "  File \"/usr/local/lib/python3.10/dist-packages/IPython/core/interactiveshell.py\", line 3257, in run_cell_async\n",
            "    has_raised = await self.run_ast_nodes(code_ast.body, cell_name,\n",
            "  File \"/usr/local/lib/python3.10/dist-packages/IPython/core/interactiveshell.py\", line 3492, in run_ast_nodes\n",
            "    self.showtraceback()\n",
            "  File \"/usr/local/lib/python3.10/dist-packages/IPython/core/interactiveshell.py\", line 2101, in showtraceback\n",
            "    stb = self.InteractiveTB.structured_traceback(etype,\n",
            "  File \"/usr/local/lib/python3.10/dist-packages/IPython/core/ultratb.py\", line 1367, in structured_traceback\n",
            "    return FormattedTB.structured_traceback(\n",
            "  File \"/usr/local/lib/python3.10/dist-packages/IPython/core/ultratb.py\", line 1267, in structured_traceback\n",
            "    return VerboseTB.structured_traceback(\n",
            "  File \"/usr/local/lib/python3.10/dist-packages/IPython/core/ultratb.py\", line 1142, in structured_traceback\n",
            "    formatted_exceptions += self.format_exception_as_a_whole(etype, evalue, etb, lines_of_context,\n",
            "  File \"/usr/local/lib/python3.10/dist-packages/IPython/core/ultratb.py\", line 1082, in format_exception_as_a_whole\n",
            "    last_unique, recursion_repeat = find_recursion(orig_etype, evalue, records)\n",
            "  File \"/usr/local/lib/python3.10/dist-packages/IPython/core/ultratb.py\", line 382, in find_recursion\n",
            "    return len(records), 0\n",
            "TypeError: object of type 'NoneType' has no len()\n",
            "\n",
            "During handling of the above exception, another exception occurred:\n",
            "\n",
            "Traceback (most recent call last):\n",
            "  File \"/usr/local/lib/python3.10/dist-packages/IPython/core/interactiveshell.py\", line 2099, in showtraceback\n",
            "    stb = value._render_traceback_()\n",
            "AttributeError: 'TypeError' object has no attribute '_render_traceback_'\n",
            "\n",
            "During handling of the above exception, another exception occurred:\n",
            "\n",
            "Traceback (most recent call last):\n",
            "  File \"/usr/local/lib/python3.10/dist-packages/IPython/core/ultratb.py\", line 1101, in get_records\n",
            "    return _fixed_getinnerframes(etb, number_of_lines_of_context, tb_offset)\n",
            "  File \"/usr/local/lib/python3.10/dist-packages/IPython/core/ultratb.py\", line 248, in wrapped\n",
            "    return f(*args, **kwargs)\n",
            "  File \"/usr/local/lib/python3.10/dist-packages/IPython/core/ultratb.py\", line 281, in _fixed_getinnerframes\n",
            "    records = fix_frame_records_filenames(inspect.getinnerframes(etb, context))\n",
            "  File \"/usr/lib/python3.10/inspect.py\", line 1662, in getinnerframes\n",
            "    frameinfo = (tb.tb_frame,) + getframeinfo(tb, context)\n",
            "  File \"/usr/lib/python3.10/inspect.py\", line 1620, in getframeinfo\n",
            "    filename = getsourcefile(frame) or getfile(frame)\n",
            "  File \"/usr/lib/python3.10/inspect.py\", line 829, in getsourcefile\n",
            "    module = getmodule(object, filename)\n",
            "  File \"/usr/lib/python3.10/inspect.py\", line 861, in getmodule\n",
            "    file = getabsfile(object, _filename)\n",
            "  File \"/usr/lib/python3.10/inspect.py\", line 845, in getabsfile\n",
            "    return os.path.normcase(os.path.abspath(_filename))\n",
            "  File \"/usr/lib/python3.10/posixpath.py\", line 384, in abspath\n",
            "    cwd = os.getcwd()\n",
            "OSError: [Errno 107] Transport endpoint is not connected\n"
          ]
        }
      ],
      "id": "1FgDpnNO3Tgr"
    },
    {
      "cell_type": "code",
      "source": [
        "print('IOU train max = {} '.format(max(history['iou']['train'])))\n",
        "print('IOU val max = {} '.format(max(history['iou']['val'])))\n",
        "print('IOU Kvasir max = {} '.format(max(history['iou']['test_1'])))\n",
        "print('IOU ETIS max = {} '.format(max(history['iou']['test_2'])))\n",
        "print('IOU CVC-clonDB max = {} '.format(max(history['iou']['test_3'])))\n",
        "print('IOU CVC-clinicDB max= {} '.format(max(history['iou']['test_4'])))\n",
        "print('IOU CVC-300 max= {} '.format(max(history['iou']['test_5'])))\n",
        "print('Dice train max = {} '.format(max(history['dice_coef']['train'])))\n",
        "print('Dice val max = {} '.format(max(history['dice_coef']['val'])))\n",
        "print('Dice Kvasir max = {} '.format(max(history['dice_coef']['test_1'])))\n",
        "print('Dice ETIS max = {} '.format(max(history['dice_coef']['test_2'])))\n",
        "print('Dice CVC-clonDB max = {} '.format(max(history['dice_coef']['test_3'])))\n",
        "print('Dice CVC-clinicDB max = {} '.format(max(history['dice_coef']['test_4'])))\n",
        "print('Dice CVC-300 max = {} '.format(max(history['dice_coef']['test_5'])))"
      ],
      "metadata": {
        "id": "KIvtOun-3no1",
        "outputId": "e5567b8d-ee7d-47fb-8565-4e6b3ba68670",
        "papermill": {
          "duration": 3.083534,
          "end_time": "2023-04-15T23:05:51.827633",
          "exception": false,
          "start_time": "2023-04-15T23:05:48.744099",
          "status": "completed"
        },
        "tags": [],
        "execution": {
          "iopub.status.busy": "2023-04-17T13:54:39.139092Z",
          "iopub.execute_input": "2023-04-17T13:54:39.139960Z",
          "iopub.status.idle": "2023-04-17T13:54:39.152155Z",
          "shell.execute_reply.started": "2023-04-17T13:54:39.139900Z",
          "shell.execute_reply": "2023-04-17T13:54:39.151131Z"
        },
        "trusted": true,
        "colab": {
          "base_uri": "https://localhost:8080/"
        }
      },
      "execution_count": 47,
      "outputs": [
        {
          "output_type": "stream",
          "name": "stdout",
          "text": [
            "IOU train max = 0.8985483673803645 \n",
            "IOU val max = 0.8421314938106154 \n",
            "IOU Kvasir max = 0.8439869664179959 \n",
            "IOU ETIS max = 0.7159248957547371 \n",
            "IOU CVC-clonDB max = 0.7088634723878534 \n",
            "IOU CVC-clinicDB max= 0.9041594703041352 \n",
            "IOU CVC-300 max= 0.822276907663946 \n",
            "Dice train max = 0.9391194741561704 \n",
            "Dice val max = 0.9048891274182418 \n",
            "Dice Kvasir max = 0.904702071100218 \n",
            "Dice ETIS max = 0.8125062382769171 \n",
            "Dice CVC-clonDB max = 0.8001758516247254 \n",
            "Dice CVC-clinicDB max = 0.9435771386741283 \n",
            "Dice CVC-300 max = 0.8928966577520129 \n"
          ]
        }
      ],
      "id": "KIvtOun-3no1"
    },
    {
      "cell_type": "code",
      "source": [
        "raw_data = {'IOU trainset': history['iou']['train'],\n",
        "            'IOU val': history['iou']['val'],\n",
        "            'IOU Kvasir': history['iou']['test_1'],\n",
        "            'IOU ETIS': history['iou']['test_2'],\n",
        "            'IOU ClonDB': history['iou']['test_3'],\n",
        "            'IOU ClinDB': history['iou']['test_4'],\n",
        "            'IOU CVC-300': history['iou']['test_5'],\n",
        "            'DICE train': history['dice_coef']['train'],\n",
        "            'DICE val': history['dice_coef']['val'],\n",
        "            'DICE Kvasir': history['dice_coef']['test_1'],\n",
        "            'DICE ETIS': history['dice_coef']['test_2'],\n",
        "            'DICE ClonDB': history['dice_coef']['test_3'],\n",
        "            'DICE ClinDB': history['dice_coef']['test_4'],\n",
        "            'DICE CVC-300': history['dice_coef']['test_5']\n",
        "\n",
        "}\n",
        "df = pd.DataFrame(raw_data, columns =['IOU trainset', 'IOU val', 'IOU Kvasir','IOU ETIS','IOU ClonDB','IOU ClinDB','IOU CVC-300',\n",
        "                                      'DICE train', 'DICE val', 'DICE Kvasir','DICE ETIS','DICE ClonDB','DICE ClinDB','DICE CVC-300'])\n",
        "df"
      ],
      "metadata": {
        "id": "auiZMVBZ5SNd",
        "outputId": "57af4136-8bbd-4075-8e59-2a9222efbee6",
        "papermill": {
          "duration": 3.162737,
          "end_time": "2023-04-15T23:05:57.977756",
          "exception": false,
          "start_time": "2023-04-15T23:05:54.815019",
          "status": "completed"
        },
        "tags": [],
        "execution": {
          "iopub.status.busy": "2023-04-17T13:54:39.153552Z",
          "iopub.execute_input": "2023-04-17T13:54:39.153967Z",
          "iopub.status.idle": "2023-04-17T13:54:39.199518Z",
          "shell.execute_reply.started": "2023-04-17T13:54:39.153926Z",
          "shell.execute_reply": "2023-04-17T13:54:39.198348Z"
        },
        "trusted": true,
        "colab": {
          "base_uri": "https://localhost:8080/"
        }
      },
      "execution_count": null,
      "outputs": [
        {
          "output_type": "stream",
          "name": "stderr",
          "text": [
            "ERROR:root:Internal Python error in the inspect module.\n",
            "Below is the traceback from this internal error.\n",
            "\n",
            "ERROR:root:Internal Python error in the inspect module.\n",
            "Below is the traceback from this internal error.\n",
            "\n",
            "ERROR:root:Internal Python error in the inspect module.\n",
            "Below is the traceback from this internal error.\n",
            "\n"
          ]
        },
        {
          "output_type": "stream",
          "name": "stdout",
          "text": [
            "Traceback (most recent call last):\n",
            "  File \"/usr/local/lib/python3.10/dist-packages/IPython/core/interactiveshell.py\", line 3553, in run_code\n",
            "    exec(code_obj, self.user_global_ns, self.user_ns)\n",
            "  File \"<ipython-input-48-ce9c3e63a063>\", line 17, in <cell line: 17>\n",
            "    df = pd.DataFrame(raw_data, columns =['IOU trainset', 'IOU val', 'IOU Kvasir','IOU ETIS','IOU ClonDB','IOU ClinDB','IOU CVC-300',\n",
            "  File \"/usr/local/lib/python3.10/dist-packages/pandas/core/frame.py\", line 664, in __init__\n",
            "    mgr = dict_to_mgr(data, index, columns, dtype=dtype, copy=copy, typ=manager)\n",
            "  File \"/usr/local/lib/python3.10/dist-packages/pandas/core/internals/construction.py\", line 448, in dict_to_mgr\n",
            "    index = _extract_index(arrays[~missing])\n",
            "  File \"/usr/local/lib/python3.10/dist-packages/pandas/core/internals/construction.py\", line 666, in _extract_index\n",
            "    raise ValueError(\"All arrays must be of the same length\")\n",
            "ValueError: All arrays must be of the same length\n",
            "\n",
            "During handling of the above exception, another exception occurred:\n",
            "\n",
            "Traceback (most recent call last):\n",
            "  File \"/usr/local/lib/python3.10/dist-packages/IPython/core/interactiveshell.py\", line 2099, in showtraceback\n",
            "    stb = value._render_traceback_()\n",
            "AttributeError: 'ValueError' object has no attribute '_render_traceback_'\n",
            "\n",
            "During handling of the above exception, another exception occurred:\n",
            "\n",
            "Traceback (most recent call last):\n",
            "  File \"/usr/local/lib/python3.10/dist-packages/IPython/core/ultratb.py\", line 1101, in get_records\n",
            "    return _fixed_getinnerframes(etb, number_of_lines_of_context, tb_offset)\n",
            "  File \"/usr/local/lib/python3.10/dist-packages/IPython/core/ultratb.py\", line 248, in wrapped\n",
            "    return f(*args, **kwargs)\n",
            "  File \"/usr/local/lib/python3.10/dist-packages/IPython/core/ultratb.py\", line 281, in _fixed_getinnerframes\n",
            "    records = fix_frame_records_filenames(inspect.getinnerframes(etb, context))\n",
            "  File \"/usr/lib/python3.10/inspect.py\", line 1662, in getinnerframes\n",
            "    frameinfo = (tb.tb_frame,) + getframeinfo(tb, context)\n",
            "  File \"/usr/lib/python3.10/inspect.py\", line 1620, in getframeinfo\n",
            "    filename = getsourcefile(frame) or getfile(frame)\n",
            "  File \"/usr/lib/python3.10/inspect.py\", line 829, in getsourcefile\n",
            "    module = getmodule(object, filename)\n",
            "  File \"/usr/lib/python3.10/inspect.py\", line 861, in getmodule\n",
            "    file = getabsfile(object, _filename)\n",
            "  File \"/usr/lib/python3.10/inspect.py\", line 845, in getabsfile\n",
            "    return os.path.normcase(os.path.abspath(_filename))\n",
            "  File \"/usr/lib/python3.10/posixpath.py\", line 384, in abspath\n",
            "    cwd = os.getcwd()\n",
            "OSError: [Errno 107] Transport endpoint is not connected\n",
            "Traceback (most recent call last):\n",
            "  File \"/usr/local/lib/python3.10/dist-packages/IPython/core/interactiveshell.py\", line 3553, in run_code\n",
            "    exec(code_obj, self.user_global_ns, self.user_ns)\n",
            "  File \"<ipython-input-48-ce9c3e63a063>\", line 17, in <cell line: 17>\n",
            "    df = pd.DataFrame(raw_data, columns =['IOU trainset', 'IOU val', 'IOU Kvasir','IOU ETIS','IOU ClonDB','IOU ClinDB','IOU CVC-300',\n",
            "  File \"/usr/local/lib/python3.10/dist-packages/pandas/core/frame.py\", line 664, in __init__\n",
            "    mgr = dict_to_mgr(data, index, columns, dtype=dtype, copy=copy, typ=manager)\n",
            "  File \"/usr/local/lib/python3.10/dist-packages/pandas/core/internals/construction.py\", line 448, in dict_to_mgr\n",
            "    index = _extract_index(arrays[~missing])\n",
            "  File \"/usr/local/lib/python3.10/dist-packages/pandas/core/internals/construction.py\", line 666, in _extract_index\n",
            "    raise ValueError(\"All arrays must be of the same length\")\n",
            "ValueError: All arrays must be of the same length\n",
            "\n",
            "During handling of the above exception, another exception occurred:\n",
            "\n",
            "Traceback (most recent call last):\n",
            "  File \"/usr/local/lib/python3.10/dist-packages/IPython/core/interactiveshell.py\", line 2099, in showtraceback\n",
            "    stb = value._render_traceback_()\n",
            "AttributeError: 'ValueError' object has no attribute '_render_traceback_'\n",
            "\n",
            "During handling of the above exception, another exception occurred:\n",
            "\n",
            "Traceback (most recent call last):\n",
            "  File \"/usr/local/lib/python3.10/dist-packages/IPython/core/interactiveshell.py\", line 3473, in run_ast_nodes\n",
            "    if (await self.run_code(code, result,  async_=asy)):\n",
            "  File \"/usr/local/lib/python3.10/dist-packages/IPython/core/interactiveshell.py\", line 3575, in run_code\n",
            "    self.showtraceback(running_compiled_code=True)\n",
            "  File \"/usr/local/lib/python3.10/dist-packages/IPython/core/interactiveshell.py\", line 2101, in showtraceback\n",
            "    stb = self.InteractiveTB.structured_traceback(etype,\n",
            "  File \"/usr/local/lib/python3.10/dist-packages/IPython/core/ultratb.py\", line 1367, in structured_traceback\n",
            "    return FormattedTB.structured_traceback(\n",
            "  File \"/usr/local/lib/python3.10/dist-packages/IPython/core/ultratb.py\", line 1267, in structured_traceback\n",
            "    return VerboseTB.structured_traceback(\n",
            "  File \"/usr/local/lib/python3.10/dist-packages/IPython/core/ultratb.py\", line 1124, in structured_traceback\n",
            "    formatted_exception = self.format_exception_as_a_whole(etype, evalue, etb, number_of_lines_of_context,\n",
            "  File \"/usr/local/lib/python3.10/dist-packages/IPython/core/ultratb.py\", line 1082, in format_exception_as_a_whole\n",
            "    last_unique, recursion_repeat = find_recursion(orig_etype, evalue, records)\n",
            "  File \"/usr/local/lib/python3.10/dist-packages/IPython/core/ultratb.py\", line 382, in find_recursion\n",
            "    return len(records), 0\n",
            "TypeError: object of type 'NoneType' has no len()\n",
            "\n",
            "During handling of the above exception, another exception occurred:\n",
            "\n",
            "Traceback (most recent call last):\n",
            "  File \"/usr/local/lib/python3.10/dist-packages/IPython/core/interactiveshell.py\", line 2099, in showtraceback\n",
            "    stb = value._render_traceback_()\n",
            "AttributeError: 'TypeError' object has no attribute '_render_traceback_'\n",
            "\n",
            "During handling of the above exception, another exception occurred:\n",
            "\n",
            "Traceback (most recent call last):\n",
            "  File \"/usr/local/lib/python3.10/dist-packages/IPython/core/ultratb.py\", line 1101, in get_records\n",
            "    return _fixed_getinnerframes(etb, number_of_lines_of_context, tb_offset)\n",
            "  File \"/usr/local/lib/python3.10/dist-packages/IPython/core/ultratb.py\", line 248, in wrapped\n",
            "    return f(*args, **kwargs)\n",
            "  File \"/usr/local/lib/python3.10/dist-packages/IPython/core/ultratb.py\", line 281, in _fixed_getinnerframes\n",
            "    records = fix_frame_records_filenames(inspect.getinnerframes(etb, context))\n",
            "  File \"/usr/lib/python3.10/inspect.py\", line 1662, in getinnerframes\n",
            "    frameinfo = (tb.tb_frame,) + getframeinfo(tb, context)\n",
            "  File \"/usr/lib/python3.10/inspect.py\", line 1620, in getframeinfo\n",
            "    filename = getsourcefile(frame) or getfile(frame)\n",
            "  File \"/usr/lib/python3.10/inspect.py\", line 829, in getsourcefile\n",
            "    module = getmodule(object, filename)\n",
            "  File \"/usr/lib/python3.10/inspect.py\", line 861, in getmodule\n",
            "    file = getabsfile(object, _filename)\n",
            "  File \"/usr/lib/python3.10/inspect.py\", line 845, in getabsfile\n",
            "    return os.path.normcase(os.path.abspath(_filename))\n",
            "  File \"/usr/lib/python3.10/posixpath.py\", line 384, in abspath\n",
            "    cwd = os.getcwd()\n",
            "OSError: [Errno 107] Transport endpoint is not connected\n",
            "Traceback (most recent call last):\n",
            "  File \"/usr/local/lib/python3.10/dist-packages/IPython/core/interactiveshell.py\", line 3553, in run_code\n",
            "    exec(code_obj, self.user_global_ns, self.user_ns)\n",
            "  File \"<ipython-input-48-ce9c3e63a063>\", line 17, in <cell line: 17>\n",
            "    df = pd.DataFrame(raw_data, columns =['IOU trainset', 'IOU val', 'IOU Kvasir','IOU ETIS','IOU ClonDB','IOU ClinDB','IOU CVC-300',\n",
            "  File \"/usr/local/lib/python3.10/dist-packages/pandas/core/frame.py\", line 664, in __init__\n",
            "    mgr = dict_to_mgr(data, index, columns, dtype=dtype, copy=copy, typ=manager)\n",
            "  File \"/usr/local/lib/python3.10/dist-packages/pandas/core/internals/construction.py\", line 448, in dict_to_mgr\n",
            "    index = _extract_index(arrays[~missing])\n",
            "  File \"/usr/local/lib/python3.10/dist-packages/pandas/core/internals/construction.py\", line 666, in _extract_index\n",
            "    raise ValueError(\"All arrays must be of the same length\")\n",
            "ValueError: All arrays must be of the same length\n",
            "\n",
            "During handling of the above exception, another exception occurred:\n",
            "\n",
            "Traceback (most recent call last):\n",
            "  File \"/usr/local/lib/python3.10/dist-packages/IPython/core/interactiveshell.py\", line 2099, in showtraceback\n",
            "    stb = value._render_traceback_()\n",
            "AttributeError: 'ValueError' object has no attribute '_render_traceback_'\n",
            "\n",
            "During handling of the above exception, another exception occurred:\n",
            "\n",
            "Traceback (most recent call last):\n",
            "  File \"/usr/local/lib/python3.10/dist-packages/IPython/core/interactiveshell.py\", line 3473, in run_ast_nodes\n",
            "    if (await self.run_code(code, result,  async_=asy)):\n",
            "  File \"/usr/local/lib/python3.10/dist-packages/IPython/core/interactiveshell.py\", line 3575, in run_code\n",
            "    self.showtraceback(running_compiled_code=True)\n",
            "  File \"/usr/local/lib/python3.10/dist-packages/IPython/core/interactiveshell.py\", line 2101, in showtraceback\n",
            "    stb = self.InteractiveTB.structured_traceback(etype,\n",
            "  File \"/usr/local/lib/python3.10/dist-packages/IPython/core/ultratb.py\", line 1367, in structured_traceback\n",
            "    return FormattedTB.structured_traceback(\n",
            "  File \"/usr/local/lib/python3.10/dist-packages/IPython/core/ultratb.py\", line 1267, in structured_traceback\n",
            "    return VerboseTB.structured_traceback(\n",
            "  File \"/usr/local/lib/python3.10/dist-packages/IPython/core/ultratb.py\", line 1124, in structured_traceback\n",
            "    formatted_exception = self.format_exception_as_a_whole(etype, evalue, etb, number_of_lines_of_context,\n",
            "  File \"/usr/local/lib/python3.10/dist-packages/IPython/core/ultratb.py\", line 1082, in format_exception_as_a_whole\n",
            "    last_unique, recursion_repeat = find_recursion(orig_etype, evalue, records)\n",
            "  File \"/usr/local/lib/python3.10/dist-packages/IPython/core/ultratb.py\", line 382, in find_recursion\n",
            "    return len(records), 0\n",
            "TypeError: object of type 'NoneType' has no len()\n",
            "\n",
            "During handling of the above exception, another exception occurred:\n",
            "\n",
            "Traceback (most recent call last):\n",
            "  File \"/usr/local/lib/python3.10/dist-packages/IPython/core/interactiveshell.py\", line 2099, in showtraceback\n",
            "    stb = value._render_traceback_()\n",
            "AttributeError: 'TypeError' object has no attribute '_render_traceback_'\n",
            "\n",
            "During handling of the above exception, another exception occurred:\n",
            "\n",
            "Traceback (most recent call last):\n",
            "  File \"/usr/local/lib/python3.10/dist-packages/IPython/core/interactiveshell.py\", line 3030, in _run_cell\n",
            "    return runner(coro)\n",
            "  File \"/usr/local/lib/python3.10/dist-packages/IPython/core/async_helpers.py\", line 78, in _pseudo_sync_runner\n",
            "    coro.send(None)\n",
            "  File \"/usr/local/lib/python3.10/dist-packages/IPython/core/interactiveshell.py\", line 3257, in run_cell_async\n",
            "    has_raised = await self.run_ast_nodes(code_ast.body, cell_name,\n",
            "  File \"/usr/local/lib/python3.10/dist-packages/IPython/core/interactiveshell.py\", line 3492, in run_ast_nodes\n",
            "    self.showtraceback()\n",
            "  File \"/usr/local/lib/python3.10/dist-packages/IPython/core/interactiveshell.py\", line 2101, in showtraceback\n",
            "    stb = self.InteractiveTB.structured_traceback(etype,\n",
            "  File \"/usr/local/lib/python3.10/dist-packages/IPython/core/ultratb.py\", line 1367, in structured_traceback\n",
            "    return FormattedTB.structured_traceback(\n",
            "  File \"/usr/local/lib/python3.10/dist-packages/IPython/core/ultratb.py\", line 1267, in structured_traceback\n",
            "    return VerboseTB.structured_traceback(\n",
            "  File \"/usr/local/lib/python3.10/dist-packages/IPython/core/ultratb.py\", line 1142, in structured_traceback\n",
            "    formatted_exceptions += self.format_exception_as_a_whole(etype, evalue, etb, lines_of_context,\n",
            "  File \"/usr/local/lib/python3.10/dist-packages/IPython/core/ultratb.py\", line 1082, in format_exception_as_a_whole\n",
            "    last_unique, recursion_repeat = find_recursion(orig_etype, evalue, records)\n",
            "  File \"/usr/local/lib/python3.10/dist-packages/IPython/core/ultratb.py\", line 382, in find_recursion\n",
            "    return len(records), 0\n",
            "TypeError: object of type 'NoneType' has no len()\n",
            "\n",
            "During handling of the above exception, another exception occurred:\n",
            "\n",
            "Traceback (most recent call last):\n",
            "  File \"/usr/local/lib/python3.10/dist-packages/IPython/core/interactiveshell.py\", line 2099, in showtraceback\n",
            "    stb = value._render_traceback_()\n",
            "AttributeError: 'TypeError' object has no attribute '_render_traceback_'\n",
            "\n",
            "During handling of the above exception, another exception occurred:\n",
            "\n",
            "Traceback (most recent call last):\n",
            "  File \"/usr/local/lib/python3.10/dist-packages/IPython/core/ultratb.py\", line 1101, in get_records\n",
            "    return _fixed_getinnerframes(etb, number_of_lines_of_context, tb_offset)\n",
            "  File \"/usr/local/lib/python3.10/dist-packages/IPython/core/ultratb.py\", line 248, in wrapped\n",
            "    return f(*args, **kwargs)\n",
            "  File \"/usr/local/lib/python3.10/dist-packages/IPython/core/ultratb.py\", line 281, in _fixed_getinnerframes\n",
            "    records = fix_frame_records_filenames(inspect.getinnerframes(etb, context))\n",
            "  File \"/usr/lib/python3.10/inspect.py\", line 1662, in getinnerframes\n",
            "    frameinfo = (tb.tb_frame,) + getframeinfo(tb, context)\n",
            "  File \"/usr/lib/python3.10/inspect.py\", line 1620, in getframeinfo\n",
            "    filename = getsourcefile(frame) or getfile(frame)\n",
            "  File \"/usr/lib/python3.10/inspect.py\", line 829, in getsourcefile\n",
            "    module = getmodule(object, filename)\n",
            "  File \"/usr/lib/python3.10/inspect.py\", line 861, in getmodule\n",
            "    file = getabsfile(object, _filename)\n",
            "  File \"/usr/lib/python3.10/inspect.py\", line 845, in getabsfile\n",
            "    return os.path.normcase(os.path.abspath(_filename))\n",
            "  File \"/usr/lib/python3.10/posixpath.py\", line 384, in abspath\n",
            "    cwd = os.getcwd()\n",
            "OSError: [Errno 107] Transport endpoint is not connected\n"
          ]
        }
      ],
      "id": "auiZMVBZ5SNd"
    },
    {
      "cell_type": "code",
      "source": [
        "df.to_csv('result_Kvasir.csv', index=True)"
      ],
      "metadata": {
        "id": "SS2k5Q8d5WVX",
        "papermill": {
          "duration": 2.981096,
          "end_time": "2023-04-15T23:06:04.136078",
          "exception": false,
          "start_time": "2023-04-15T23:06:01.154982",
          "status": "completed"
        },
        "tags": [],
        "execution": {
          "iopub.status.busy": "2023-04-17T13:54:39.200917Z",
          "iopub.execute_input": "2023-04-17T13:54:39.201665Z",
          "iopub.status.idle": "2023-04-17T13:54:39.211790Z",
          "shell.execute_reply.started": "2023-04-17T13:54:39.201628Z",
          "shell.execute_reply": "2023-04-17T13:54:39.210767Z"
        },
        "trusted": true,
        "colab": {
          "base_uri": "https://localhost:8080/"
        },
        "outputId": "fd3eb215-3505-4d03-9c61-c05caec01e26"
      },
      "execution_count": null,
      "outputs": [
        {
          "output_type": "stream",
          "name": "stderr",
          "text": [
            "ERROR:root:Internal Python error in the inspect module.\n",
            "Below is the traceback from this internal error.\n",
            "\n"
          ]
        },
        {
          "output_type": "stream",
          "name": "stdout",
          "text": [
            "Traceback (most recent call last):\n",
            "  File \"/usr/local/lib/python3.10/dist-packages/IPython/core/interactiveshell.py\", line 3553, in run_code\n",
            "    exec(code_obj, self.user_global_ns, self.user_ns)\n",
            "  File \"<ipython-input-48-bae30d31bf8f>\", line 1, in <cell line: 1>\n",
            "    df.to_csv('result_Kvasir.csv', index=True)\n",
            "NameError: name 'df' is not defined\n",
            "\n",
            "During handling of the above exception, another exception occurred:\n",
            "\n",
            "Traceback (most recent call last):\n",
            "  File \"/usr/local/lib/python3.10/dist-packages/IPython/core/interactiveshell.py\", line 2099, in showtraceback\n",
            "    stb = value._render_traceback_()\n",
            "AttributeError: 'NameError' object has no attribute '_render_traceback_'\n",
            "\n",
            "During handling of the above exception, another exception occurred:\n",
            "\n",
            "Traceback (most recent call last):\n",
            "  File \"/usr/local/lib/python3.10/dist-packages/IPython/core/ultratb.py\", line 1101, in get_records\n",
            "    return _fixed_getinnerframes(etb, number_of_lines_of_context, tb_offset)\n",
            "  File \"/usr/local/lib/python3.10/dist-packages/IPython/core/ultratb.py\", line 248, in wrapped\n",
            "    return f(*args, **kwargs)\n",
            "  File \"/usr/local/lib/python3.10/dist-packages/IPython/core/ultratb.py\", line 281, in _fixed_getinnerframes\n",
            "    records = fix_frame_records_filenames(inspect.getinnerframes(etb, context))\n",
            "  File \"/usr/lib/python3.10/inspect.py\", line 1662, in getinnerframes\n",
            "    frameinfo = (tb.tb_frame,) + getframeinfo(tb, context)\n",
            "  File \"/usr/lib/python3.10/inspect.py\", line 1620, in getframeinfo\n",
            "    filename = getsourcefile(frame) or getfile(frame)\n",
            "  File \"/usr/lib/python3.10/inspect.py\", line 829, in getsourcefile\n",
            "    module = getmodule(object, filename)\n",
            "  File \"/usr/lib/python3.10/inspect.py\", line 861, in getmodule\n",
            "    file = getabsfile(object, _filename)\n",
            "  File \"/usr/lib/python3.10/inspect.py\", line 845, in getabsfile\n",
            "    return os.path.normcase(os.path.abspath(_filename))\n",
            "  File \"/usr/lib/python3.10/posixpath.py\", line 384, in abspath\n",
            "    cwd = os.getcwd()\n",
            "OSError: [Errno 107] Transport endpoint is not connected\n"
          ]
        },
        {
          "output_type": "stream",
          "name": "stderr",
          "text": [
            "ERROR:root:Internal Python error in the inspect module.\n",
            "Below is the traceback from this internal error.\n",
            "\n",
            "ERROR:root:Internal Python error in the inspect module.\n",
            "Below is the traceback from this internal error.\n",
            "\n"
          ]
        },
        {
          "output_type": "stream",
          "name": "stdout",
          "text": [
            "Traceback (most recent call last):\n",
            "  File \"/usr/local/lib/python3.10/dist-packages/IPython/core/interactiveshell.py\", line 3553, in run_code\n",
            "    exec(code_obj, self.user_global_ns, self.user_ns)\n",
            "  File \"<ipython-input-48-bae30d31bf8f>\", line 1, in <cell line: 1>\n",
            "    df.to_csv('result_Kvasir.csv', index=True)\n",
            "NameError: name 'df' is not defined\n",
            "\n",
            "During handling of the above exception, another exception occurred:\n",
            "\n",
            "Traceback (most recent call last):\n",
            "  File \"/usr/local/lib/python3.10/dist-packages/IPython/core/interactiveshell.py\", line 2099, in showtraceback\n",
            "    stb = value._render_traceback_()\n",
            "AttributeError: 'NameError' object has no attribute '_render_traceback_'\n",
            "\n",
            "During handling of the above exception, another exception occurred:\n",
            "\n",
            "Traceback (most recent call last):\n",
            "  File \"/usr/local/lib/python3.10/dist-packages/IPython/core/interactiveshell.py\", line 3473, in run_ast_nodes\n",
            "    if (await self.run_code(code, result,  async_=asy)):\n",
            "  File \"/usr/local/lib/python3.10/dist-packages/IPython/core/interactiveshell.py\", line 3575, in run_code\n",
            "    self.showtraceback(running_compiled_code=True)\n",
            "  File \"/usr/local/lib/python3.10/dist-packages/IPython/core/interactiveshell.py\", line 2101, in showtraceback\n",
            "    stb = self.InteractiveTB.structured_traceback(etype,\n",
            "  File \"/usr/local/lib/python3.10/dist-packages/IPython/core/ultratb.py\", line 1367, in structured_traceback\n",
            "    return FormattedTB.structured_traceback(\n",
            "  File \"/usr/local/lib/python3.10/dist-packages/IPython/core/ultratb.py\", line 1267, in structured_traceback\n",
            "    return VerboseTB.structured_traceback(\n",
            "  File \"/usr/local/lib/python3.10/dist-packages/IPython/core/ultratb.py\", line 1124, in structured_traceback\n",
            "    formatted_exception = self.format_exception_as_a_whole(etype, evalue, etb, number_of_lines_of_context,\n",
            "  File \"/usr/local/lib/python3.10/dist-packages/IPython/core/ultratb.py\", line 1082, in format_exception_as_a_whole\n",
            "    last_unique, recursion_repeat = find_recursion(orig_etype, evalue, records)\n",
            "  File \"/usr/local/lib/python3.10/dist-packages/IPython/core/ultratb.py\", line 382, in find_recursion\n",
            "    return len(records), 0\n",
            "TypeError: object of type 'NoneType' has no len()\n",
            "\n",
            "During handling of the above exception, another exception occurred:\n",
            "\n",
            "Traceback (most recent call last):\n",
            "  File \"/usr/local/lib/python3.10/dist-packages/IPython/core/interactiveshell.py\", line 2099, in showtraceback\n",
            "    stb = value._render_traceback_()\n",
            "AttributeError: 'TypeError' object has no attribute '_render_traceback_'\n",
            "\n",
            "During handling of the above exception, another exception occurred:\n",
            "\n",
            "Traceback (most recent call last):\n",
            "  File \"/usr/local/lib/python3.10/dist-packages/IPython/core/ultratb.py\", line 1101, in get_records\n",
            "    return _fixed_getinnerframes(etb, number_of_lines_of_context, tb_offset)\n",
            "  File \"/usr/local/lib/python3.10/dist-packages/IPython/core/ultratb.py\", line 248, in wrapped\n",
            "    return f(*args, **kwargs)\n",
            "  File \"/usr/local/lib/python3.10/dist-packages/IPython/core/ultratb.py\", line 281, in _fixed_getinnerframes\n",
            "    records = fix_frame_records_filenames(inspect.getinnerframes(etb, context))\n",
            "  File \"/usr/lib/python3.10/inspect.py\", line 1662, in getinnerframes\n",
            "    frameinfo = (tb.tb_frame,) + getframeinfo(tb, context)\n",
            "  File \"/usr/lib/python3.10/inspect.py\", line 1620, in getframeinfo\n",
            "    filename = getsourcefile(frame) or getfile(frame)\n",
            "  File \"/usr/lib/python3.10/inspect.py\", line 829, in getsourcefile\n",
            "    module = getmodule(object, filename)\n",
            "  File \"/usr/lib/python3.10/inspect.py\", line 861, in getmodule\n",
            "    file = getabsfile(object, _filename)\n",
            "  File \"/usr/lib/python3.10/inspect.py\", line 845, in getabsfile\n",
            "    return os.path.normcase(os.path.abspath(_filename))\n",
            "  File \"/usr/lib/python3.10/posixpath.py\", line 384, in abspath\n",
            "    cwd = os.getcwd()\n",
            "OSError: [Errno 107] Transport endpoint is not connected\n",
            "Traceback (most recent call last):\n",
            "  File \"/usr/local/lib/python3.10/dist-packages/IPython/core/interactiveshell.py\", line 3553, in run_code\n",
            "    exec(code_obj, self.user_global_ns, self.user_ns)\n",
            "  File \"<ipython-input-48-bae30d31bf8f>\", line 1, in <cell line: 1>\n",
            "    df.to_csv('result_Kvasir.csv', index=True)\n",
            "NameError: name 'df' is not defined\n",
            "\n",
            "During handling of the above exception, another exception occurred:\n",
            "\n",
            "Traceback (most recent call last):\n",
            "  File \"/usr/local/lib/python3.10/dist-packages/IPython/core/interactiveshell.py\", line 2099, in showtraceback\n",
            "    stb = value._render_traceback_()\n",
            "AttributeError: 'NameError' object has no attribute '_render_traceback_'\n",
            "\n",
            "During handling of the above exception, another exception occurred:\n",
            "\n",
            "Traceback (most recent call last):\n",
            "  File \"/usr/local/lib/python3.10/dist-packages/IPython/core/interactiveshell.py\", line 3473, in run_ast_nodes\n",
            "    if (await self.run_code(code, result,  async_=asy)):\n",
            "  File \"/usr/local/lib/python3.10/dist-packages/IPython/core/interactiveshell.py\", line 3575, in run_code\n",
            "    self.showtraceback(running_compiled_code=True)\n",
            "  File \"/usr/local/lib/python3.10/dist-packages/IPython/core/interactiveshell.py\", line 2101, in showtraceback\n",
            "    stb = self.InteractiveTB.structured_traceback(etype,\n",
            "  File \"/usr/local/lib/python3.10/dist-packages/IPython/core/ultratb.py\", line 1367, in structured_traceback\n",
            "    return FormattedTB.structured_traceback(\n",
            "  File \"/usr/local/lib/python3.10/dist-packages/IPython/core/ultratb.py\", line 1267, in structured_traceback\n",
            "    return VerboseTB.structured_traceback(\n",
            "  File \"/usr/local/lib/python3.10/dist-packages/IPython/core/ultratb.py\", line 1124, in structured_traceback\n",
            "    formatted_exception = self.format_exception_as_a_whole(etype, evalue, etb, number_of_lines_of_context,\n",
            "  File \"/usr/local/lib/python3.10/dist-packages/IPython/core/ultratb.py\", line 1082, in format_exception_as_a_whole\n",
            "    last_unique, recursion_repeat = find_recursion(orig_etype, evalue, records)\n",
            "  File \"/usr/local/lib/python3.10/dist-packages/IPython/core/ultratb.py\", line 382, in find_recursion\n",
            "    return len(records), 0\n",
            "TypeError: object of type 'NoneType' has no len()\n",
            "\n",
            "During handling of the above exception, another exception occurred:\n",
            "\n",
            "Traceback (most recent call last):\n",
            "  File \"/usr/local/lib/python3.10/dist-packages/IPython/core/interactiveshell.py\", line 2099, in showtraceback\n",
            "    stb = value._render_traceback_()\n",
            "AttributeError: 'TypeError' object has no attribute '_render_traceback_'\n",
            "\n",
            "During handling of the above exception, another exception occurred:\n",
            "\n",
            "Traceback (most recent call last):\n",
            "  File \"/usr/local/lib/python3.10/dist-packages/IPython/core/interactiveshell.py\", line 3030, in _run_cell\n",
            "    return runner(coro)\n",
            "  File \"/usr/local/lib/python3.10/dist-packages/IPython/core/async_helpers.py\", line 78, in _pseudo_sync_runner\n",
            "    coro.send(None)\n",
            "  File \"/usr/local/lib/python3.10/dist-packages/IPython/core/interactiveshell.py\", line 3257, in run_cell_async\n",
            "    has_raised = await self.run_ast_nodes(code_ast.body, cell_name,\n",
            "  File \"/usr/local/lib/python3.10/dist-packages/IPython/core/interactiveshell.py\", line 3492, in run_ast_nodes\n",
            "    self.showtraceback()\n",
            "  File \"/usr/local/lib/python3.10/dist-packages/IPython/core/interactiveshell.py\", line 2101, in showtraceback\n",
            "    stb = self.InteractiveTB.structured_traceback(etype,\n",
            "  File \"/usr/local/lib/python3.10/dist-packages/IPython/core/ultratb.py\", line 1367, in structured_traceback\n",
            "    return FormattedTB.structured_traceback(\n",
            "  File \"/usr/local/lib/python3.10/dist-packages/IPython/core/ultratb.py\", line 1267, in structured_traceback\n",
            "    return VerboseTB.structured_traceback(\n",
            "  File \"/usr/local/lib/python3.10/dist-packages/IPython/core/ultratb.py\", line 1142, in structured_traceback\n",
            "    formatted_exceptions += self.format_exception_as_a_whole(etype, evalue, etb, lines_of_context,\n",
            "  File \"/usr/local/lib/python3.10/dist-packages/IPython/core/ultratb.py\", line 1082, in format_exception_as_a_whole\n",
            "    last_unique, recursion_repeat = find_recursion(orig_etype, evalue, records)\n",
            "  File \"/usr/local/lib/python3.10/dist-packages/IPython/core/ultratb.py\", line 382, in find_recursion\n",
            "    return len(records), 0\n",
            "TypeError: object of type 'NoneType' has no len()\n",
            "\n",
            "During handling of the above exception, another exception occurred:\n",
            "\n",
            "Traceback (most recent call last):\n",
            "  File \"/usr/local/lib/python3.10/dist-packages/IPython/core/interactiveshell.py\", line 2099, in showtraceback\n",
            "    stb = value._render_traceback_()\n",
            "AttributeError: 'TypeError' object has no attribute '_render_traceback_'\n",
            "\n",
            "During handling of the above exception, another exception occurred:\n",
            "\n",
            "Traceback (most recent call last):\n",
            "  File \"/usr/local/lib/python3.10/dist-packages/IPython/core/ultratb.py\", line 1101, in get_records\n",
            "    return _fixed_getinnerframes(etb, number_of_lines_of_context, tb_offset)\n",
            "  File \"/usr/local/lib/python3.10/dist-packages/IPython/core/ultratb.py\", line 248, in wrapped\n",
            "    return f(*args, **kwargs)\n",
            "  File \"/usr/local/lib/python3.10/dist-packages/IPython/core/ultratb.py\", line 281, in _fixed_getinnerframes\n",
            "    records = fix_frame_records_filenames(inspect.getinnerframes(etb, context))\n",
            "  File \"/usr/lib/python3.10/inspect.py\", line 1662, in getinnerframes\n",
            "    frameinfo = (tb.tb_frame,) + getframeinfo(tb, context)\n",
            "  File \"/usr/lib/python3.10/inspect.py\", line 1620, in getframeinfo\n",
            "    filename = getsourcefile(frame) or getfile(frame)\n",
            "  File \"/usr/lib/python3.10/inspect.py\", line 829, in getsourcefile\n",
            "    module = getmodule(object, filename)\n",
            "  File \"/usr/lib/python3.10/inspect.py\", line 861, in getmodule\n",
            "    file = getabsfile(object, _filename)\n",
            "  File \"/usr/lib/python3.10/inspect.py\", line 845, in getabsfile\n",
            "    return os.path.normcase(os.path.abspath(_filename))\n",
            "  File \"/usr/lib/python3.10/posixpath.py\", line 384, in abspath\n",
            "    cwd = os.getcwd()\n",
            "OSError: [Errno 107] Transport endpoint is not connected\n"
          ]
        }
      ],
      "id": "SS2k5Q8d5WVX"
    },
    {
      "cell_type": "code",
      "source": [
        "torch.save(model.state_dict(),'mvit.pt')"
      ],
      "metadata": {
        "id": "ckuMK7Mr236p",
        "papermill": {
          "duration": 3.357607,
          "end_time": "2023-04-15T23:06:10.530260",
          "exception": false,
          "start_time": "2023-04-15T23:06:07.172653",
          "status": "completed"
        },
        "tags": [],
        "execution": {
          "iopub.status.busy": "2023-04-17T13:54:39.213407Z",
          "iopub.execute_input": "2023-04-17T13:54:39.214054Z",
          "iopub.status.idle": "2023-04-17T13:54:39.550622Z",
          "shell.execute_reply.started": "2023-04-17T13:54:39.213836Z",
          "shell.execute_reply": "2023-04-17T13:54:39.548956Z"
        },
        "trusted": true,
        "colab": {
          "base_uri": "https://localhost:8080/"
        },
        "outputId": "ff9a1449-1d99-41b7-efd8-81ef6447e957"
      },
      "execution_count": null,
      "outputs": [
        {
          "output_type": "stream",
          "name": "stderr",
          "text": [
            "ERROR:root:Internal Python error in the inspect module.\n",
            "Below is the traceback from this internal error.\n",
            "\n",
            "ERROR:root:Internal Python error in the inspect module.\n",
            "Below is the traceback from this internal error.\n",
            "\n"
          ]
        },
        {
          "output_type": "stream",
          "name": "stdout",
          "text": [
            "Traceback (most recent call last):\n",
            "  File \"/usr/local/lib/python3.10/dist-packages/IPython/core/interactiveshell.py\", line 3553, in run_code\n",
            "    exec(code_obj, self.user_global_ns, self.user_ns)\n",
            "  File \"<ipython-input-48-91e95547cc0b>\", line 1, in <cell line: 1>\n",
            "    torch.save(model.state_dict(),'mvit.pt')\n",
            "  File \"/usr/local/lib/python3.10/dist-packages/torch/serialization.py\", line 440, in save\n",
            "    with _open_zipfile_writer(f) as opened_zipfile:\n",
            "  File \"/usr/local/lib/python3.10/dist-packages/torch/serialization.py\", line 315, in _open_zipfile_writer\n",
            "    return container(name_or_buffer)\n",
            "  File \"/usr/local/lib/python3.10/dist-packages/torch/serialization.py\", line 288, in __init__\n",
            "    super().__init__(torch._C.PyTorchFileWriter(str(name)))\n",
            "RuntimeError: File mvit.pt cannot be opened.\n",
            "\n",
            "During handling of the above exception, another exception occurred:\n",
            "\n",
            "Traceback (most recent call last):\n",
            "  File \"/usr/local/lib/python3.10/dist-packages/IPython/core/interactiveshell.py\", line 2099, in showtraceback\n",
            "    stb = value._render_traceback_()\n",
            "AttributeError: 'RuntimeError' object has no attribute '_render_traceback_'\n",
            "\n",
            "During handling of the above exception, another exception occurred:\n",
            "\n",
            "Traceback (most recent call last):\n",
            "  File \"/usr/local/lib/python3.10/dist-packages/IPython/core/ultratb.py\", line 1101, in get_records\n",
            "    return _fixed_getinnerframes(etb, number_of_lines_of_context, tb_offset)\n",
            "  File \"/usr/local/lib/python3.10/dist-packages/IPython/core/ultratb.py\", line 248, in wrapped\n",
            "    return f(*args, **kwargs)\n",
            "  File \"/usr/local/lib/python3.10/dist-packages/IPython/core/ultratb.py\", line 281, in _fixed_getinnerframes\n",
            "    records = fix_frame_records_filenames(inspect.getinnerframes(etb, context))\n",
            "  File \"/usr/lib/python3.10/inspect.py\", line 1662, in getinnerframes\n",
            "    frameinfo = (tb.tb_frame,) + getframeinfo(tb, context)\n",
            "  File \"/usr/lib/python3.10/inspect.py\", line 1620, in getframeinfo\n",
            "    filename = getsourcefile(frame) or getfile(frame)\n",
            "  File \"/usr/lib/python3.10/inspect.py\", line 829, in getsourcefile\n",
            "    module = getmodule(object, filename)\n",
            "  File \"/usr/lib/python3.10/inspect.py\", line 861, in getmodule\n",
            "    file = getabsfile(object, _filename)\n",
            "  File \"/usr/lib/python3.10/inspect.py\", line 845, in getabsfile\n",
            "    return os.path.normcase(os.path.abspath(_filename))\n",
            "  File \"/usr/lib/python3.10/posixpath.py\", line 384, in abspath\n",
            "    cwd = os.getcwd()\n",
            "OSError: [Errno 107] Transport endpoint is not connected\n",
            "Traceback (most recent call last):\n",
            "  File \"/usr/local/lib/python3.10/dist-packages/IPython/core/interactiveshell.py\", line 3553, in run_code\n",
            "    exec(code_obj, self.user_global_ns, self.user_ns)\n",
            "  File \"<ipython-input-48-91e95547cc0b>\", line 1, in <cell line: 1>\n",
            "    torch.save(model.state_dict(),'mvit.pt')\n",
            "  File \"/usr/local/lib/python3.10/dist-packages/torch/serialization.py\", line 440, in save\n",
            "    with _open_zipfile_writer(f) as opened_zipfile:\n",
            "  File \"/usr/local/lib/python3.10/dist-packages/torch/serialization.py\", line 315, in _open_zipfile_writer\n",
            "    return container(name_or_buffer)\n",
            "  File \"/usr/local/lib/python3.10/dist-packages/torch/serialization.py\", line 288, in __init__\n",
            "    super().__init__(torch._C.PyTorchFileWriter(str(name)))\n",
            "RuntimeError: File mvit.pt cannot be opened.\n",
            "\n",
            "During handling of the above exception, another exception occurred:\n",
            "\n",
            "Traceback (most recent call last):\n",
            "  File \"/usr/local/lib/python3.10/dist-packages/IPython/core/interactiveshell.py\", line 2099, in showtraceback\n",
            "    stb = value._render_traceback_()\n",
            "AttributeError: 'RuntimeError' object has no attribute '_render_traceback_'\n",
            "\n",
            "During handling of the above exception, another exception occurred:\n",
            "\n",
            "Traceback (most recent call last):\n",
            "  File \"/usr/local/lib/python3.10/dist-packages/IPython/core/interactiveshell.py\", line 3473, in run_ast_nodes\n",
            "    if (await self.run_code(code, result,  async_=asy)):\n",
            "  File \"/usr/local/lib/python3.10/dist-packages/IPython/core/interactiveshell.py\", line 3575, in run_code\n",
            "    self.showtraceback(running_compiled_code=True)\n",
            "  File \"/usr/local/lib/python3.10/dist-packages/IPython/core/interactiveshell.py\", line 2101, in showtraceback\n",
            "    stb = self.InteractiveTB.structured_traceback(etype,\n",
            "  File \"/usr/local/lib/python3.10/dist-packages/IPython/core/ultratb.py\", line 1367, in structured_traceback\n",
            "    return FormattedTB.structured_traceback(\n",
            "  File \"/usr/local/lib/python3.10/dist-packages/IPython/core/ultratb.py\", line 1267, in structured_traceback\n",
            "    return VerboseTB.structured_traceback(\n",
            "  File \"/usr/local/lib/python3.10/dist-packages/IPython/core/ultratb.py\", line 1124, in structured_traceback\n",
            "    formatted_exception = self.format_exception_as_a_whole(etype, evalue, etb, number_of_lines_of_context,\n",
            "  File \"/usr/local/lib/python3.10/dist-packages/IPython/core/ultratb.py\", line 1082, in format_exception_as_a_whole\n",
            "    last_unique, recursion_repeat = find_recursion(orig_etype, evalue, records)\n",
            "  File \"/usr/local/lib/python3.10/dist-packages/IPython/core/ultratb.py\", line 382, in find_recursion\n",
            "    return len(records), 0\n",
            "TypeError: object of type 'NoneType' has no len()\n",
            "\n",
            "During handling of the above exception, another exception occurred:\n",
            "\n",
            "Traceback (most recent call last):\n",
            "  File \"/usr/local/lib/python3.10/dist-packages/IPython/core/interactiveshell.py\", line 2099, in showtraceback\n",
            "    stb = value._render_traceback_()\n",
            "AttributeError: 'TypeError' object has no attribute '_render_traceback_'\n",
            "\n",
            "During handling of the above exception, another exception occurred:\n",
            "\n",
            "Traceback (most recent call last):\n",
            "  File \"/usr/local/lib/python3.10/dist-packages/IPython/core/ultratb.py\", line 1101, in get_records\n",
            "    return _fixed_getinnerframes(etb, number_of_lines_of_context, tb_offset)\n",
            "  File \"/usr/local/lib/python3.10/dist-packages/IPython/core/ultratb.py\", line 248, in wrapped\n",
            "    return f(*args, **kwargs)\n",
            "  File \"/usr/local/lib/python3.10/dist-packages/IPython/core/ultratb.py\", line 281, in _fixed_getinnerframes\n",
            "    records = fix_frame_records_filenames(inspect.getinnerframes(etb, context))\n",
            "  File \"/usr/lib/python3.10/inspect.py\", line 1662, in getinnerframes\n",
            "    frameinfo = (tb.tb_frame,) + getframeinfo(tb, context)\n",
            "  File \"/usr/lib/python3.10/inspect.py\", line 1620, in getframeinfo\n",
            "    filename = getsourcefile(frame) or getfile(frame)\n",
            "  File \"/usr/lib/python3.10/inspect.py\", line 829, in getsourcefile\n",
            "    module = getmodule(object, filename)\n",
            "  File \"/usr/lib/python3.10/inspect.py\", line 861, in getmodule\n",
            "    file = getabsfile(object, _filename)\n",
            "  File \"/usr/lib/python3.10/inspect.py\", line 845, in getabsfile\n",
            "    return os.path.normcase(os.path.abspath(_filename))\n",
            "  File \"/usr/lib/python3.10/posixpath.py\", line 384, in abspath\n",
            "    cwd = os.getcwd()\n",
            "OSError: [Errno 107] Transport endpoint is not connected\n"
          ]
        },
        {
          "output_type": "stream",
          "name": "stderr",
          "text": [
            "ERROR:root:Internal Python error in the inspect module.\n",
            "Below is the traceback from this internal error.\n",
            "\n"
          ]
        },
        {
          "output_type": "stream",
          "name": "stdout",
          "text": [
            "Traceback (most recent call last):\n",
            "  File \"/usr/local/lib/python3.10/dist-packages/IPython/core/interactiveshell.py\", line 3553, in run_code\n",
            "    exec(code_obj, self.user_global_ns, self.user_ns)\n",
            "  File \"<ipython-input-48-91e95547cc0b>\", line 1, in <cell line: 1>\n",
            "    torch.save(model.state_dict(),'mvit.pt')\n",
            "  File \"/usr/local/lib/python3.10/dist-packages/torch/serialization.py\", line 440, in save\n",
            "    with _open_zipfile_writer(f) as opened_zipfile:\n",
            "  File \"/usr/local/lib/python3.10/dist-packages/torch/serialization.py\", line 315, in _open_zipfile_writer\n",
            "    return container(name_or_buffer)\n",
            "  File \"/usr/local/lib/python3.10/dist-packages/torch/serialization.py\", line 288, in __init__\n",
            "    super().__init__(torch._C.PyTorchFileWriter(str(name)))\n",
            "RuntimeError: File mvit.pt cannot be opened.\n",
            "\n",
            "During handling of the above exception, another exception occurred:\n",
            "\n",
            "Traceback (most recent call last):\n",
            "  File \"/usr/local/lib/python3.10/dist-packages/IPython/core/interactiveshell.py\", line 2099, in showtraceback\n",
            "    stb = value._render_traceback_()\n",
            "AttributeError: 'RuntimeError' object has no attribute '_render_traceback_'\n",
            "\n",
            "During handling of the above exception, another exception occurred:\n",
            "\n",
            "Traceback (most recent call last):\n",
            "  File \"/usr/local/lib/python3.10/dist-packages/IPython/core/interactiveshell.py\", line 3473, in run_ast_nodes\n",
            "    if (await self.run_code(code, result,  async_=asy)):\n",
            "  File \"/usr/local/lib/python3.10/dist-packages/IPython/core/interactiveshell.py\", line 3575, in run_code\n",
            "    self.showtraceback(running_compiled_code=True)\n",
            "  File \"/usr/local/lib/python3.10/dist-packages/IPython/core/interactiveshell.py\", line 2101, in showtraceback\n",
            "    stb = self.InteractiveTB.structured_traceback(etype,\n",
            "  File \"/usr/local/lib/python3.10/dist-packages/IPython/core/ultratb.py\", line 1367, in structured_traceback\n",
            "    return FormattedTB.structured_traceback(\n",
            "  File \"/usr/local/lib/python3.10/dist-packages/IPython/core/ultratb.py\", line 1267, in structured_traceback\n",
            "    return VerboseTB.structured_traceback(\n",
            "  File \"/usr/local/lib/python3.10/dist-packages/IPython/core/ultratb.py\", line 1124, in structured_traceback\n",
            "    formatted_exception = self.format_exception_as_a_whole(etype, evalue, etb, number_of_lines_of_context,\n",
            "  File \"/usr/local/lib/python3.10/dist-packages/IPython/core/ultratb.py\", line 1082, in format_exception_as_a_whole\n",
            "    last_unique, recursion_repeat = find_recursion(orig_etype, evalue, records)\n",
            "  File \"/usr/local/lib/python3.10/dist-packages/IPython/core/ultratb.py\", line 382, in find_recursion\n",
            "    return len(records), 0\n",
            "TypeError: object of type 'NoneType' has no len()\n",
            "\n",
            "During handling of the above exception, another exception occurred:\n",
            "\n",
            "Traceback (most recent call last):\n",
            "  File \"/usr/local/lib/python3.10/dist-packages/IPython/core/interactiveshell.py\", line 2099, in showtraceback\n",
            "    stb = value._render_traceback_()\n",
            "AttributeError: 'TypeError' object has no attribute '_render_traceback_'\n",
            "\n",
            "During handling of the above exception, another exception occurred:\n",
            "\n",
            "Traceback (most recent call last):\n",
            "  File \"/usr/local/lib/python3.10/dist-packages/IPython/core/interactiveshell.py\", line 3030, in _run_cell\n",
            "    return runner(coro)\n",
            "  File \"/usr/local/lib/python3.10/dist-packages/IPython/core/async_helpers.py\", line 78, in _pseudo_sync_runner\n",
            "    coro.send(None)\n",
            "  File \"/usr/local/lib/python3.10/dist-packages/IPython/core/interactiveshell.py\", line 3257, in run_cell_async\n",
            "    has_raised = await self.run_ast_nodes(code_ast.body, cell_name,\n",
            "  File \"/usr/local/lib/python3.10/dist-packages/IPython/core/interactiveshell.py\", line 3492, in run_ast_nodes\n",
            "    self.showtraceback()\n",
            "  File \"/usr/local/lib/python3.10/dist-packages/IPython/core/interactiveshell.py\", line 2101, in showtraceback\n",
            "    stb = self.InteractiveTB.structured_traceback(etype,\n",
            "  File \"/usr/local/lib/python3.10/dist-packages/IPython/core/ultratb.py\", line 1367, in structured_traceback\n",
            "    return FormattedTB.structured_traceback(\n",
            "  File \"/usr/local/lib/python3.10/dist-packages/IPython/core/ultratb.py\", line 1267, in structured_traceback\n",
            "    return VerboseTB.structured_traceback(\n",
            "  File \"/usr/local/lib/python3.10/dist-packages/IPython/core/ultratb.py\", line 1142, in structured_traceback\n",
            "    formatted_exceptions += self.format_exception_as_a_whole(etype, evalue, etb, lines_of_context,\n",
            "  File \"/usr/local/lib/python3.10/dist-packages/IPython/core/ultratb.py\", line 1082, in format_exception_as_a_whole\n",
            "    last_unique, recursion_repeat = find_recursion(orig_etype, evalue, records)\n",
            "  File \"/usr/local/lib/python3.10/dist-packages/IPython/core/ultratb.py\", line 382, in find_recursion\n",
            "    return len(records), 0\n",
            "TypeError: object of type 'NoneType' has no len()\n",
            "\n",
            "During handling of the above exception, another exception occurred:\n",
            "\n",
            "Traceback (most recent call last):\n",
            "  File \"/usr/local/lib/python3.10/dist-packages/IPython/core/interactiveshell.py\", line 2099, in showtraceback\n",
            "    stb = value._render_traceback_()\n",
            "AttributeError: 'TypeError' object has no attribute '_render_traceback_'\n",
            "\n",
            "During handling of the above exception, another exception occurred:\n",
            "\n",
            "Traceback (most recent call last):\n",
            "  File \"/usr/local/lib/python3.10/dist-packages/IPython/core/ultratb.py\", line 1101, in get_records\n",
            "    return _fixed_getinnerframes(etb, number_of_lines_of_context, tb_offset)\n",
            "  File \"/usr/local/lib/python3.10/dist-packages/IPython/core/ultratb.py\", line 248, in wrapped\n",
            "    return f(*args, **kwargs)\n",
            "  File \"/usr/local/lib/python3.10/dist-packages/IPython/core/ultratb.py\", line 281, in _fixed_getinnerframes\n",
            "    records = fix_frame_records_filenames(inspect.getinnerframes(etb, context))\n",
            "  File \"/usr/lib/python3.10/inspect.py\", line 1662, in getinnerframes\n",
            "    frameinfo = (tb.tb_frame,) + getframeinfo(tb, context)\n",
            "  File \"/usr/lib/python3.10/inspect.py\", line 1620, in getframeinfo\n",
            "    filename = getsourcefile(frame) or getfile(frame)\n",
            "  File \"/usr/lib/python3.10/inspect.py\", line 829, in getsourcefile\n",
            "    module = getmodule(object, filename)\n",
            "  File \"/usr/lib/python3.10/inspect.py\", line 861, in getmodule\n",
            "    file = getabsfile(object, _filename)\n",
            "  File \"/usr/lib/python3.10/inspect.py\", line 845, in getabsfile\n",
            "    return os.path.normcase(os.path.abspath(_filename))\n",
            "  File \"/usr/lib/python3.10/posixpath.py\", line 384, in abspath\n",
            "    cwd = os.getcwd()\n",
            "OSError: [Errno 107] Transport endpoint is not connected\n"
          ]
        }
      ],
      "id": "ckuMK7Mr236p"
    },
    {
      "cell_type": "code",
      "source": [
        "df.to_csv('result_Kvasir_mvit_.csv', index=True)"
      ],
      "metadata": {
        "id": "yJ7fMyF6Zk6K",
        "papermill": {
          "duration": 3.001783,
          "end_time": "2023-04-15T23:06:16.987714",
          "exception": false,
          "start_time": "2023-04-15T23:06:13.985931",
          "status": "completed"
        },
        "tags": [],
        "execution": {
          "iopub.status.busy": "2023-04-17T13:54:39.553226Z",
          "iopub.execute_input": "2023-04-17T13:54:39.553658Z",
          "iopub.status.idle": "2023-04-17T13:54:39.562901Z",
          "shell.execute_reply.started": "2023-04-17T13:54:39.553610Z",
          "shell.execute_reply": "2023-04-17T13:54:39.561874Z"
        },
        "trusted": true,
        "colab": {
          "base_uri": "https://localhost:8080/"
        },
        "outputId": "8552ff9b-a34c-4fca-eb27-45bb5552c646"
      },
      "execution_count": null,
      "outputs": [
        {
          "output_type": "stream",
          "name": "stderr",
          "text": [
            "ERROR:root:Internal Python error in the inspect module.\n",
            "Below is the traceback from this internal error.\n",
            "\n",
            "ERROR:root:Internal Python error in the inspect module.\n",
            "Below is the traceback from this internal error.\n",
            "\n",
            "ERROR:root:Internal Python error in the inspect module.\n",
            "Below is the traceback from this internal error.\n",
            "\n"
          ]
        },
        {
          "output_type": "stream",
          "name": "stdout",
          "text": [
            "Traceback (most recent call last):\n",
            "  File \"/usr/local/lib/python3.10/dist-packages/IPython/core/interactiveshell.py\", line 3553, in run_code\n",
            "    exec(code_obj, self.user_global_ns, self.user_ns)\n",
            "  File \"<ipython-input-48-1d6f79f87081>\", line 1, in <cell line: 1>\n",
            "    df.to_csv('result_Kvasir_mvit_.csv', index=True)\n",
            "NameError: name 'df' is not defined\n",
            "\n",
            "During handling of the above exception, another exception occurred:\n",
            "\n",
            "Traceback (most recent call last):\n",
            "  File \"/usr/local/lib/python3.10/dist-packages/IPython/core/interactiveshell.py\", line 2099, in showtraceback\n",
            "    stb = value._render_traceback_()\n",
            "AttributeError: 'NameError' object has no attribute '_render_traceback_'\n",
            "\n",
            "During handling of the above exception, another exception occurred:\n",
            "\n",
            "Traceback (most recent call last):\n",
            "  File \"/usr/local/lib/python3.10/dist-packages/IPython/core/ultratb.py\", line 1101, in get_records\n",
            "    return _fixed_getinnerframes(etb, number_of_lines_of_context, tb_offset)\n",
            "  File \"/usr/local/lib/python3.10/dist-packages/IPython/core/ultratb.py\", line 248, in wrapped\n",
            "    return f(*args, **kwargs)\n",
            "  File \"/usr/local/lib/python3.10/dist-packages/IPython/core/ultratb.py\", line 281, in _fixed_getinnerframes\n",
            "    records = fix_frame_records_filenames(inspect.getinnerframes(etb, context))\n",
            "  File \"/usr/lib/python3.10/inspect.py\", line 1662, in getinnerframes\n",
            "    frameinfo = (tb.tb_frame,) + getframeinfo(tb, context)\n",
            "  File \"/usr/lib/python3.10/inspect.py\", line 1620, in getframeinfo\n",
            "    filename = getsourcefile(frame) or getfile(frame)\n",
            "  File \"/usr/lib/python3.10/inspect.py\", line 829, in getsourcefile\n",
            "    module = getmodule(object, filename)\n",
            "  File \"/usr/lib/python3.10/inspect.py\", line 861, in getmodule\n",
            "    file = getabsfile(object, _filename)\n",
            "  File \"/usr/lib/python3.10/inspect.py\", line 845, in getabsfile\n",
            "    return os.path.normcase(os.path.abspath(_filename))\n",
            "  File \"/usr/lib/python3.10/posixpath.py\", line 384, in abspath\n",
            "    cwd = os.getcwd()\n",
            "OSError: [Errno 107] Transport endpoint is not connected\n",
            "Traceback (most recent call last):\n",
            "  File \"/usr/local/lib/python3.10/dist-packages/IPython/core/interactiveshell.py\", line 3553, in run_code\n",
            "    exec(code_obj, self.user_global_ns, self.user_ns)\n",
            "  File \"<ipython-input-48-1d6f79f87081>\", line 1, in <cell line: 1>\n",
            "    df.to_csv('result_Kvasir_mvit_.csv', index=True)\n",
            "NameError: name 'df' is not defined\n",
            "\n",
            "During handling of the above exception, another exception occurred:\n",
            "\n",
            "Traceback (most recent call last):\n",
            "  File \"/usr/local/lib/python3.10/dist-packages/IPython/core/interactiveshell.py\", line 2099, in showtraceback\n",
            "    stb = value._render_traceback_()\n",
            "AttributeError: 'NameError' object has no attribute '_render_traceback_'\n",
            "\n",
            "During handling of the above exception, another exception occurred:\n",
            "\n",
            "Traceback (most recent call last):\n",
            "  File \"/usr/local/lib/python3.10/dist-packages/IPython/core/interactiveshell.py\", line 3473, in run_ast_nodes\n",
            "    if (await self.run_code(code, result,  async_=asy)):\n",
            "  File \"/usr/local/lib/python3.10/dist-packages/IPython/core/interactiveshell.py\", line 3575, in run_code\n",
            "    self.showtraceback(running_compiled_code=True)\n",
            "  File \"/usr/local/lib/python3.10/dist-packages/IPython/core/interactiveshell.py\", line 2101, in showtraceback\n",
            "    stb = self.InteractiveTB.structured_traceback(etype,\n",
            "  File \"/usr/local/lib/python3.10/dist-packages/IPython/core/ultratb.py\", line 1367, in structured_traceback\n",
            "    return FormattedTB.structured_traceback(\n",
            "  File \"/usr/local/lib/python3.10/dist-packages/IPython/core/ultratb.py\", line 1267, in structured_traceback\n",
            "    return VerboseTB.structured_traceback(\n",
            "  File \"/usr/local/lib/python3.10/dist-packages/IPython/core/ultratb.py\", line 1124, in structured_traceback\n",
            "    formatted_exception = self.format_exception_as_a_whole(etype, evalue, etb, number_of_lines_of_context,\n",
            "  File \"/usr/local/lib/python3.10/dist-packages/IPython/core/ultratb.py\", line 1082, in format_exception_as_a_whole\n",
            "    last_unique, recursion_repeat = find_recursion(orig_etype, evalue, records)\n",
            "  File \"/usr/local/lib/python3.10/dist-packages/IPython/core/ultratb.py\", line 382, in find_recursion\n",
            "    return len(records), 0\n",
            "TypeError: object of type 'NoneType' has no len()\n",
            "\n",
            "During handling of the above exception, another exception occurred:\n",
            "\n",
            "Traceback (most recent call last):\n",
            "  File \"/usr/local/lib/python3.10/dist-packages/IPython/core/interactiveshell.py\", line 2099, in showtraceback\n",
            "    stb = value._render_traceback_()\n",
            "AttributeError: 'TypeError' object has no attribute '_render_traceback_'\n",
            "\n",
            "During handling of the above exception, another exception occurred:\n",
            "\n",
            "Traceback (most recent call last):\n",
            "  File \"/usr/local/lib/python3.10/dist-packages/IPython/core/ultratb.py\", line 1101, in get_records\n",
            "    return _fixed_getinnerframes(etb, number_of_lines_of_context, tb_offset)\n",
            "  File \"/usr/local/lib/python3.10/dist-packages/IPython/core/ultratb.py\", line 248, in wrapped\n",
            "    return f(*args, **kwargs)\n",
            "  File \"/usr/local/lib/python3.10/dist-packages/IPython/core/ultratb.py\", line 281, in _fixed_getinnerframes\n",
            "    records = fix_frame_records_filenames(inspect.getinnerframes(etb, context))\n",
            "  File \"/usr/lib/python3.10/inspect.py\", line 1662, in getinnerframes\n",
            "    frameinfo = (tb.tb_frame,) + getframeinfo(tb, context)\n",
            "  File \"/usr/lib/python3.10/inspect.py\", line 1620, in getframeinfo\n",
            "    filename = getsourcefile(frame) or getfile(frame)\n",
            "  File \"/usr/lib/python3.10/inspect.py\", line 829, in getsourcefile\n",
            "    module = getmodule(object, filename)\n",
            "  File \"/usr/lib/python3.10/inspect.py\", line 861, in getmodule\n",
            "    file = getabsfile(object, _filename)\n",
            "  File \"/usr/lib/python3.10/inspect.py\", line 845, in getabsfile\n",
            "    return os.path.normcase(os.path.abspath(_filename))\n",
            "  File \"/usr/lib/python3.10/posixpath.py\", line 384, in abspath\n",
            "    cwd = os.getcwd()\n",
            "OSError: [Errno 107] Transport endpoint is not connected\n",
            "Traceback (most recent call last):\n",
            "  File \"/usr/local/lib/python3.10/dist-packages/IPython/core/interactiveshell.py\", line 3553, in run_code\n",
            "    exec(code_obj, self.user_global_ns, self.user_ns)\n",
            "  File \"<ipython-input-48-1d6f79f87081>\", line 1, in <cell line: 1>\n",
            "    df.to_csv('result_Kvasir_mvit_.csv', index=True)\n",
            "NameError: name 'df' is not defined\n",
            "\n",
            "During handling of the above exception, another exception occurred:\n",
            "\n",
            "Traceback (most recent call last):\n",
            "  File \"/usr/local/lib/python3.10/dist-packages/IPython/core/interactiveshell.py\", line 2099, in showtraceback\n",
            "    stb = value._render_traceback_()\n",
            "AttributeError: 'NameError' object has no attribute '_render_traceback_'\n",
            "\n",
            "During handling of the above exception, another exception occurred:\n",
            "\n",
            "Traceback (most recent call last):\n",
            "  File \"/usr/local/lib/python3.10/dist-packages/IPython/core/interactiveshell.py\", line 3473, in run_ast_nodes\n",
            "    if (await self.run_code(code, result,  async_=asy)):\n",
            "  File \"/usr/local/lib/python3.10/dist-packages/IPython/core/interactiveshell.py\", line 3575, in run_code\n",
            "    self.showtraceback(running_compiled_code=True)\n",
            "  File \"/usr/local/lib/python3.10/dist-packages/IPython/core/interactiveshell.py\", line 2101, in showtraceback\n",
            "    stb = self.InteractiveTB.structured_traceback(etype,\n",
            "  File \"/usr/local/lib/python3.10/dist-packages/IPython/core/ultratb.py\", line 1367, in structured_traceback\n",
            "    return FormattedTB.structured_traceback(\n",
            "  File \"/usr/local/lib/python3.10/dist-packages/IPython/core/ultratb.py\", line 1267, in structured_traceback\n",
            "    return VerboseTB.structured_traceback(\n",
            "  File \"/usr/local/lib/python3.10/dist-packages/IPython/core/ultratb.py\", line 1124, in structured_traceback\n",
            "    formatted_exception = self.format_exception_as_a_whole(etype, evalue, etb, number_of_lines_of_context,\n",
            "  File \"/usr/local/lib/python3.10/dist-packages/IPython/core/ultratb.py\", line 1082, in format_exception_as_a_whole\n",
            "    last_unique, recursion_repeat = find_recursion(orig_etype, evalue, records)\n",
            "  File \"/usr/local/lib/python3.10/dist-packages/IPython/core/ultratb.py\", line 382, in find_recursion\n",
            "    return len(records), 0\n",
            "TypeError: object of type 'NoneType' has no len()\n",
            "\n",
            "During handling of the above exception, another exception occurred:\n",
            "\n",
            "Traceback (most recent call last):\n",
            "  File \"/usr/local/lib/python3.10/dist-packages/IPython/core/interactiveshell.py\", line 2099, in showtraceback\n",
            "    stb = value._render_traceback_()\n",
            "AttributeError: 'TypeError' object has no attribute '_render_traceback_'\n",
            "\n",
            "During handling of the above exception, another exception occurred:\n",
            "\n",
            "Traceback (most recent call last):\n",
            "  File \"/usr/local/lib/python3.10/dist-packages/IPython/core/interactiveshell.py\", line 3030, in _run_cell\n",
            "    return runner(coro)\n",
            "  File \"/usr/local/lib/python3.10/dist-packages/IPython/core/async_helpers.py\", line 78, in _pseudo_sync_runner\n",
            "    coro.send(None)\n",
            "  File \"/usr/local/lib/python3.10/dist-packages/IPython/core/interactiveshell.py\", line 3257, in run_cell_async\n",
            "    has_raised = await self.run_ast_nodes(code_ast.body, cell_name,\n",
            "  File \"/usr/local/lib/python3.10/dist-packages/IPython/core/interactiveshell.py\", line 3492, in run_ast_nodes\n",
            "    self.showtraceback()\n",
            "  File \"/usr/local/lib/python3.10/dist-packages/IPython/core/interactiveshell.py\", line 2101, in showtraceback\n",
            "    stb = self.InteractiveTB.structured_traceback(etype,\n",
            "  File \"/usr/local/lib/python3.10/dist-packages/IPython/core/ultratb.py\", line 1367, in structured_traceback\n",
            "    return FormattedTB.structured_traceback(\n",
            "  File \"/usr/local/lib/python3.10/dist-packages/IPython/core/ultratb.py\", line 1267, in structured_traceback\n",
            "    return VerboseTB.structured_traceback(\n",
            "  File \"/usr/local/lib/python3.10/dist-packages/IPython/core/ultratb.py\", line 1142, in structured_traceback\n",
            "    formatted_exceptions += self.format_exception_as_a_whole(etype, evalue, etb, lines_of_context,\n",
            "  File \"/usr/local/lib/python3.10/dist-packages/IPython/core/ultratb.py\", line 1082, in format_exception_as_a_whole\n",
            "    last_unique, recursion_repeat = find_recursion(orig_etype, evalue, records)\n",
            "  File \"/usr/local/lib/python3.10/dist-packages/IPython/core/ultratb.py\", line 382, in find_recursion\n",
            "    return len(records), 0\n",
            "TypeError: object of type 'NoneType' has no len()\n",
            "\n",
            "During handling of the above exception, another exception occurred:\n",
            "\n",
            "Traceback (most recent call last):\n",
            "  File \"/usr/local/lib/python3.10/dist-packages/IPython/core/interactiveshell.py\", line 2099, in showtraceback\n",
            "    stb = value._render_traceback_()\n",
            "AttributeError: 'TypeError' object has no attribute '_render_traceback_'\n",
            "\n",
            "During handling of the above exception, another exception occurred:\n",
            "\n",
            "Traceback (most recent call last):\n",
            "  File \"/usr/local/lib/python3.10/dist-packages/IPython/core/ultratb.py\", line 1101, in get_records\n",
            "    return _fixed_getinnerframes(etb, number_of_lines_of_context, tb_offset)\n",
            "  File \"/usr/local/lib/python3.10/dist-packages/IPython/core/ultratb.py\", line 248, in wrapped\n",
            "    return f(*args, **kwargs)\n",
            "  File \"/usr/local/lib/python3.10/dist-packages/IPython/core/ultratb.py\", line 281, in _fixed_getinnerframes\n",
            "    records = fix_frame_records_filenames(inspect.getinnerframes(etb, context))\n",
            "  File \"/usr/lib/python3.10/inspect.py\", line 1662, in getinnerframes\n",
            "    frameinfo = (tb.tb_frame,) + getframeinfo(tb, context)\n",
            "  File \"/usr/lib/python3.10/inspect.py\", line 1620, in getframeinfo\n",
            "    filename = getsourcefile(frame) or getfile(frame)\n",
            "  File \"/usr/lib/python3.10/inspect.py\", line 829, in getsourcefile\n",
            "    module = getmodule(object, filename)\n",
            "  File \"/usr/lib/python3.10/inspect.py\", line 861, in getmodule\n",
            "    file = getabsfile(object, _filename)\n",
            "  File \"/usr/lib/python3.10/inspect.py\", line 845, in getabsfile\n",
            "    return os.path.normcase(os.path.abspath(_filename))\n",
            "  File \"/usr/lib/python3.10/posixpath.py\", line 384, in abspath\n",
            "    cwd = os.getcwd()\n",
            "OSError: [Errno 107] Transport endpoint is not connected\n"
          ]
        }
      ],
      "id": "yJ7fMyF6Zk6K"
    }
  ]
}